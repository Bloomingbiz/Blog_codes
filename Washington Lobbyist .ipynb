{
 "cells": [
  {
   "cell_type": "code",
   "execution_count": 1,
   "id": "f3976402",
   "metadata": {},
   "outputs": [],
   "source": [
    "import pandas as pd\n",
    "import numpy as np\n",
    "import seaborn as sns\n",
    "import matplotlib.pyplot as plt\n",
    "import warnings\n",
    "warnings.filterwarnings(\"ignore\")\n"
   ]
  },
  {
   "cell_type": "code",
   "execution_count": 2,
   "id": "1c2fddcd",
   "metadata": {},
   "outputs": [],
   "source": [
    "#-- Importing dataset --#\n",
    "\n",
    "df_raw = pd.read_csv('/Users/michaelsegaline/Desktop/Research Objectives/Lobbist data/Lobbyist_Compensation_and_Expenses_by_Source copy.csv')"
   ]
  },
  {
   "cell_type": "code",
   "execution_count": 3,
   "id": "a6be0343",
   "metadata": {},
   "outputs": [
    {
     "data": {
      "text/html": [
       "<div>\n",
       "<style scoped>\n",
       "    .dataframe tbody tr th:only-of-type {\n",
       "        vertical-align: middle;\n",
       "    }\n",
       "\n",
       "    .dataframe tbody tr th {\n",
       "        vertical-align: top;\n",
       "    }\n",
       "\n",
       "    .dataframe thead th {\n",
       "        text-align: right;\n",
       "    }\n",
       "</style>\n",
       "<table border=\"1\" class=\"dataframe\">\n",
       "  <thead>\n",
       "    <tr style=\"text-align: right;\">\n",
       "      <th></th>\n",
       "      <th>filer_name</th>\n",
       "      <th>funding_source_name</th>\n",
       "      <th>receipt_date</th>\n",
       "      <th>net_total</th>\n",
       "    </tr>\n",
       "  </thead>\n",
       "  <tbody>\n",
       "    <tr>\n",
       "      <th>0</th>\n",
       "      <td>MICHAEL V SCHWISOW</td>\n",
       "      <td>COLUMBIA BASIN DEVELOPMENT LEAGUE</td>\n",
       "      <td>8/4/23</td>\n",
       "      <td>4166.66</td>\n",
       "    </tr>\n",
       "    <tr>\n",
       "      <th>1</th>\n",
       "      <td>MICHAEL V SCHWISOW</td>\n",
       "      <td>Washington Winegrowers Association</td>\n",
       "      <td>8/4/23</td>\n",
       "      <td>2500.00</td>\n",
       "    </tr>\n",
       "    <tr>\n",
       "      <th>2</th>\n",
       "      <td>MICHAEL V SCHWISOW</td>\n",
       "      <td>WA ST WATER RESOURCES ASSN</td>\n",
       "      <td>8/4/23</td>\n",
       "      <td>5313.41</td>\n",
       "    </tr>\n",
       "    <tr>\n",
       "      <th>3</th>\n",
       "      <td>MICHAEL V SCHWISOW</td>\n",
       "      <td>MICHAEL V SCHWISOW (Self)</td>\n",
       "      <td>8/4/23</td>\n",
       "      <td>0.00</td>\n",
       "    </tr>\n",
       "    <tr>\n",
       "      <th>4</th>\n",
       "      <td>MARY STAPLES</td>\n",
       "      <td>National Association of Chain Drug Stores</td>\n",
       "      <td>8/4/23</td>\n",
       "      <td>1000.00</td>\n",
       "    </tr>\n",
       "  </tbody>\n",
       "</table>\n",
       "</div>"
      ],
      "text/plain": [
       "           filer_name                        funding_source_name receipt_date  \\\n",
       "0  MICHAEL V SCHWISOW          COLUMBIA BASIN DEVELOPMENT LEAGUE       8/4/23   \n",
       "1  MICHAEL V SCHWISOW         Washington Winegrowers Association       8/4/23   \n",
       "2  MICHAEL V SCHWISOW                 WA ST WATER RESOURCES ASSN       8/4/23   \n",
       "3  MICHAEL V SCHWISOW                  MICHAEL V SCHWISOW (Self)       8/4/23   \n",
       "4        MARY STAPLES  National Association of Chain Drug Stores       8/4/23   \n",
       "\n",
       "   net_total  \n",
       "0    4166.66  \n",
       "1    2500.00  \n",
       "2    5313.41  \n",
       "3       0.00  \n",
       "4    1000.00  "
      ]
     },
     "execution_count": 3,
     "metadata": {},
     "output_type": "execute_result"
    }
   ],
   "source": [
    "df_raw.head()"
   ]
  },
  {
   "cell_type": "code",
   "execution_count": 4,
   "id": "f1fc1aa7",
   "metadata": {},
   "outputs": [
    {
     "data": {
      "text/plain": [
       "(265988, 4)"
      ]
     },
     "execution_count": 4,
     "metadata": {},
     "output_type": "execute_result"
    }
   ],
   "source": [
    "#-- Inspecting the shape --#\n",
    "df_raw.shape"
   ]
  },
  {
   "cell_type": "code",
   "execution_count": 5,
   "id": "8c6267a2",
   "metadata": {},
   "outputs": [
    {
     "data": {
      "text/html": [
       "<div>\n",
       "<style scoped>\n",
       "    .dataframe tbody tr th:only-of-type {\n",
       "        vertical-align: middle;\n",
       "    }\n",
       "\n",
       "    .dataframe tbody tr th {\n",
       "        vertical-align: top;\n",
       "    }\n",
       "\n",
       "    .dataframe thead th {\n",
       "        text-align: right;\n",
       "    }\n",
       "</style>\n",
       "<table border=\"1\" class=\"dataframe\">\n",
       "  <thead>\n",
       "    <tr style=\"text-align: right;\">\n",
       "      <th></th>\n",
       "      <th>filer_name</th>\n",
       "      <th>funding_source_name</th>\n",
       "      <th>receipt_date</th>\n",
       "      <th>net_total</th>\n",
       "    </tr>\n",
       "  </thead>\n",
       "  <tbody>\n",
       "    <tr>\n",
       "      <th>0</th>\n",
       "      <td>MICHAEL V SCHWISOW</td>\n",
       "      <td>COLUMBIA BASIN DEVELOPMENT LEAGUE</td>\n",
       "      <td>8/4/23</td>\n",
       "      <td>4166.66</td>\n",
       "    </tr>\n",
       "    <tr>\n",
       "      <th>1</th>\n",
       "      <td>MICHAEL V SCHWISOW</td>\n",
       "      <td>Washington Winegrowers Association</td>\n",
       "      <td>8/4/23</td>\n",
       "      <td>2500.00</td>\n",
       "    </tr>\n",
       "    <tr>\n",
       "      <th>2</th>\n",
       "      <td>MICHAEL V SCHWISOW</td>\n",
       "      <td>WA ST WATER RESOURCES ASSN</td>\n",
       "      <td>8/4/23</td>\n",
       "      <td>5313.41</td>\n",
       "    </tr>\n",
       "    <tr>\n",
       "      <th>4</th>\n",
       "      <td>MARY STAPLES</td>\n",
       "      <td>National Association of Chain Drug Stores</td>\n",
       "      <td>8/4/23</td>\n",
       "      <td>1000.00</td>\n",
       "    </tr>\n",
       "    <tr>\n",
       "      <th>6</th>\n",
       "      <td>John Ulric Seng</td>\n",
       "      <td>Spark Northwest</td>\n",
       "      <td>8/4/23</td>\n",
       "      <td>17.80</td>\n",
       "    </tr>\n",
       "  </tbody>\n",
       "</table>\n",
       "</div>"
      ],
      "text/plain": [
       "           filer_name                        funding_source_name receipt_date  \\\n",
       "0  MICHAEL V SCHWISOW          COLUMBIA BASIN DEVELOPMENT LEAGUE       8/4/23   \n",
       "1  MICHAEL V SCHWISOW         Washington Winegrowers Association       8/4/23   \n",
       "2  MICHAEL V SCHWISOW                 WA ST WATER RESOURCES ASSN       8/4/23   \n",
       "4        MARY STAPLES  National Association of Chain Drug Stores       8/4/23   \n",
       "6     John Ulric Seng                            Spark Northwest       8/4/23   \n",
       "\n",
       "   net_total  \n",
       "0    4166.66  \n",
       "1    2500.00  \n",
       "2    5313.41  \n",
       "4    1000.00  \n",
       "6      17.80  "
      ]
     },
     "execution_count": 5,
     "metadata": {},
     "output_type": "execute_result"
    }
   ],
   "source": [
    "#-- Dropping all rows with \"net_total\" = \"0\" --#\n",
    "df = df_raw[df_raw['net_total'] != 0]\n",
    "df.head()"
   ]
  },
  {
   "cell_type": "code",
   "execution_count": 6,
   "id": "ec3b7a03",
   "metadata": {},
   "outputs": [
    {
     "name": "stdout",
     "output_type": "stream",
     "text": [
      "{'filer_name': 0.0, 'funding_source_name': 0.0, 'receipt_date': 0.0, 'net_total': 0.0}\n"
     ]
    }
   ],
   "source": [
    "total_rows = len(df)\n",
    "missing_percentage_per_column = {}\n",
    "\n",
    "for column in df.columns:\n",
    "    missing_count = df[column].isnull().sum()\n",
    "    missing_percentage = (missing_count / total_rows) * 100\n",
    "    missing_percentage_per_column[column] = missing_percentage\n",
    "\n",
    "print(missing_percentage_per_column)"
   ]
  },
  {
   "cell_type": "code",
   "execution_count": 7,
   "id": "cf2fa3ff",
   "metadata": {},
   "outputs": [
    {
     "data": {
      "text/plain": [
       "(167755, 4)"
      ]
     },
     "execution_count": 7,
     "metadata": {},
     "output_type": "execute_result"
    }
   ],
   "source": [
    "#-- Inspecting the shape of the cleaned dataset --#\n",
    "\n",
    "df.shape"
   ]
  },
  {
   "cell_type": "code",
   "execution_count": 8,
   "id": "26d9953e",
   "metadata": {},
   "outputs": [
    {
     "data": {
      "text/plain": [
       "0.3693136532475149"
      ]
     },
     "execution_count": 8,
     "metadata": {},
     "output_type": "execute_result"
    }
   ],
   "source": [
    "#-- The dataset was 36% redudancy --#\n",
    "\n",
    "(265988 - 167755)/ 265988"
   ]
  },
  {
   "cell_type": "code",
   "execution_count": 9,
   "id": "68beb461",
   "metadata": {},
   "outputs": [
    {
     "data": {
      "text/html": [
       "<div>\n",
       "<style scoped>\n",
       "    .dataframe tbody tr th:only-of-type {\n",
       "        vertical-align: middle;\n",
       "    }\n",
       "\n",
       "    .dataframe tbody tr th {\n",
       "        vertical-align: top;\n",
       "    }\n",
       "\n",
       "    .dataframe thead th {\n",
       "        text-align: right;\n",
       "    }\n",
       "</style>\n",
       "<table border=\"1\" class=\"dataframe\">\n",
       "  <thead>\n",
       "    <tr style=\"text-align: right;\">\n",
       "      <th></th>\n",
       "      <th>filer_name</th>\n",
       "      <th>funding_source_name</th>\n",
       "      <th>net_total</th>\n",
       "      <th>day</th>\n",
       "      <th>month</th>\n",
       "      <th>year</th>\n",
       "    </tr>\n",
       "  </thead>\n",
       "  <tbody>\n",
       "    <tr>\n",
       "      <th>0</th>\n",
       "      <td>MICHAEL V SCHWISOW</td>\n",
       "      <td>COLUMBIA BASIN DEVELOPMENT LEAGUE</td>\n",
       "      <td>4166.66</td>\n",
       "      <td>8</td>\n",
       "      <td>4</td>\n",
       "      <td>23</td>\n",
       "    </tr>\n",
       "    <tr>\n",
       "      <th>1</th>\n",
       "      <td>MICHAEL V SCHWISOW</td>\n",
       "      <td>Washington Winegrowers Association</td>\n",
       "      <td>2500.00</td>\n",
       "      <td>8</td>\n",
       "      <td>4</td>\n",
       "      <td>23</td>\n",
       "    </tr>\n",
       "    <tr>\n",
       "      <th>2</th>\n",
       "      <td>MICHAEL V SCHWISOW</td>\n",
       "      <td>WA ST WATER RESOURCES ASSN</td>\n",
       "      <td>5313.41</td>\n",
       "      <td>8</td>\n",
       "      <td>4</td>\n",
       "      <td>23</td>\n",
       "    </tr>\n",
       "    <tr>\n",
       "      <th>4</th>\n",
       "      <td>MARY STAPLES</td>\n",
       "      <td>National Association of Chain Drug Stores</td>\n",
       "      <td>1000.00</td>\n",
       "      <td>8</td>\n",
       "      <td>4</td>\n",
       "      <td>23</td>\n",
       "    </tr>\n",
       "    <tr>\n",
       "      <th>6</th>\n",
       "      <td>John Ulric Seng</td>\n",
       "      <td>Spark Northwest</td>\n",
       "      <td>17.80</td>\n",
       "      <td>8</td>\n",
       "      <td>4</td>\n",
       "      <td>23</td>\n",
       "    </tr>\n",
       "  </tbody>\n",
       "</table>\n",
       "</div>"
      ],
      "text/plain": [
       "           filer_name                        funding_source_name  net_total  \\\n",
       "0  MICHAEL V SCHWISOW          COLUMBIA BASIN DEVELOPMENT LEAGUE    4166.66   \n",
       "1  MICHAEL V SCHWISOW         Washington Winegrowers Association    2500.00   \n",
       "2  MICHAEL V SCHWISOW                 WA ST WATER RESOURCES ASSN    5313.41   \n",
       "4        MARY STAPLES  National Association of Chain Drug Stores    1000.00   \n",
       "6     John Ulric Seng                            Spark Northwest      17.80   \n",
       "\n",
       "   day  month  year  \n",
       "0    8      4    23  \n",
       "1    8      4    23  \n",
       "2    8      4    23  \n",
       "4    8      4    23  \n",
       "6    8      4    23  "
      ]
     },
     "execution_count": 9,
     "metadata": {},
     "output_type": "execute_result"
    }
   ],
   "source": [
    "df[['day', 'month', 'year']] = df['receipt_date'].str.split('/', expand=True)\n",
    "\n",
    "# Convert day, month, and year columns to integers\n",
    "df['day'] = df['day'].astype(int)\n",
    "df['month'] = df['month'].astype(int)\n",
    "df['year'] = df['year'].astype(int)\n",
    "df.drop(columns=['receipt_date'], inplace=True)\n",
    "df.head()"
   ]
  },
  {
   "cell_type": "markdown",
   "id": "ad75f4c0",
   "metadata": {},
   "source": [
    "# Now we are done cleaning, lets move on to descriptive statistics.\n",
    "\n",
    "# Exploring variables distrobutions"
   ]
  },
  {
   "cell_type": "code",
   "execution_count": 10,
   "id": "59342acc",
   "metadata": {},
   "outputs": [
    {
     "data": {
      "text/html": [
       "<div>\n",
       "<style scoped>\n",
       "    .dataframe tbody tr th:only-of-type {\n",
       "        vertical-align: middle;\n",
       "    }\n",
       "\n",
       "    .dataframe tbody tr th {\n",
       "        vertical-align: top;\n",
       "    }\n",
       "\n",
       "    .dataframe thead th {\n",
       "        text-align: right;\n",
       "    }\n",
       "</style>\n",
       "<table border=\"1\" class=\"dataframe\">\n",
       "  <thead>\n",
       "    <tr style=\"text-align: right;\">\n",
       "      <th></th>\n",
       "      <th>net_total</th>\n",
       "      <th>day</th>\n",
       "      <th>month</th>\n",
       "      <th>year</th>\n",
       "    </tr>\n",
       "  </thead>\n",
       "  <tbody>\n",
       "    <tr>\n",
       "      <th>count</th>\n",
       "      <td>1.677550e+05</td>\n",
       "      <td>167755.000000</td>\n",
       "      <td>167755.000000</td>\n",
       "      <td>167755.000000</td>\n",
       "    </tr>\n",
       "    <tr>\n",
       "      <th>mean</th>\n",
       "      <td>3.782182e+03</td>\n",
       "      <td>5.983804</td>\n",
       "      <td>13.306948</td>\n",
       "      <td>20.109398</td>\n",
       "    </tr>\n",
       "    <tr>\n",
       "      <th>std</th>\n",
       "      <td>1.305959e+04</td>\n",
       "      <td>3.599968</td>\n",
       "      <td>6.844778</td>\n",
       "      <td>2.379234</td>\n",
       "    </tr>\n",
       "    <tr>\n",
       "      <th>min</th>\n",
       "      <td>-7.000000e+03</td>\n",
       "      <td>1.000000</td>\n",
       "      <td>1.000000</td>\n",
       "      <td>14.000000</td>\n",
       "    </tr>\n",
       "    <tr>\n",
       "      <th>25%</th>\n",
       "      <td>1.160850e+03</td>\n",
       "      <td>3.000000</td>\n",
       "      <td>9.000000</td>\n",
       "      <td>18.000000</td>\n",
       "    </tr>\n",
       "    <tr>\n",
       "      <th>50%</th>\n",
       "      <td>2.900000e+03</td>\n",
       "      <td>6.000000</td>\n",
       "      <td>13.000000</td>\n",
       "      <td>20.000000</td>\n",
       "    </tr>\n",
       "    <tr>\n",
       "      <th>75%</th>\n",
       "      <td>4.750000e+03</td>\n",
       "      <td>9.000000</td>\n",
       "      <td>16.000000</td>\n",
       "      <td>22.000000</td>\n",
       "    </tr>\n",
       "    <tr>\n",
       "      <th>max</th>\n",
       "      <td>2.011829e+06</td>\n",
       "      <td>12.000000</td>\n",
       "      <td>31.000000</td>\n",
       "      <td>24.000000</td>\n",
       "    </tr>\n",
       "  </tbody>\n",
       "</table>\n",
       "</div>"
      ],
      "text/plain": [
       "          net_total            day          month           year\n",
       "count  1.677550e+05  167755.000000  167755.000000  167755.000000\n",
       "mean   3.782182e+03       5.983804      13.306948      20.109398\n",
       "std    1.305959e+04       3.599968       6.844778       2.379234\n",
       "min   -7.000000e+03       1.000000       1.000000      14.000000\n",
       "25%    1.160850e+03       3.000000       9.000000      18.000000\n",
       "50%    2.900000e+03       6.000000      13.000000      20.000000\n",
       "75%    4.750000e+03       9.000000      16.000000      22.000000\n",
       "max    2.011829e+06      12.000000      31.000000      24.000000"
      ]
     },
     "execution_count": 10,
     "metadata": {},
     "output_type": "execute_result"
    }
   ],
   "source": [
    "df.describe()"
   ]
  },
  {
   "cell_type": "markdown",
   "id": "5b3f6c66",
   "metadata": {},
   "source": [
    "# How many unique Lobbyists are in Washington State? "
   ]
  },
  {
   "cell_type": "code",
   "execution_count": 42,
   "id": "2c2de829",
   "metadata": {},
   "outputs": [
    {
     "name": "stdout",
     "output_type": "stream",
     "text": [
      "Unique count of filer_name: 1906\n"
     ]
    }
   ],
   "source": [
    "unique_count = df['filer_name'].nunique()\n",
    "print(\"Unique count of filer_name:\", unique_count)\n"
   ]
  },
  {
   "cell_type": "markdown",
   "id": "ee095430",
   "metadata": {},
   "source": [
    "# How many unique entities fund the lobbyist? "
   ]
  },
  {
   "cell_type": "code",
   "execution_count": 40,
   "id": "27d329f0",
   "metadata": {},
   "outputs": [
    {
     "name": "stdout",
     "output_type": "stream",
     "text": [
      "Unique count of filer_name: 3682\n"
     ]
    }
   ],
   "source": [
    "unique_count2 = df['funding_source_name'].nunique()\n",
    "print(\"Unique count of filer_name:\", unique_count2)\n"
   ]
  },
  {
   "cell_type": "markdown",
   "id": "a750c81d",
   "metadata": {},
   "source": [
    "# What is the lobbyist to entity ratio?\n",
    "\n",
    "1.9 entites to every 1 lobbyist"
   ]
  },
  {
   "cell_type": "code",
   "execution_count": 43,
   "id": "2f128231",
   "metadata": {},
   "outputs": [
    {
     "data": {
      "text/plain": [
       "1.931794333683106"
      ]
     },
     "execution_count": 43,
     "metadata": {},
     "output_type": "execute_result"
    }
   ],
   "source": [
    "#-- Entities / Lobbyist --#\n",
    "\n",
    "3682/1906"
   ]
  },
  {
   "cell_type": "code",
   "execution_count": 41,
   "id": "56c4ab2b",
   "metadata": {},
   "outputs": [
    {
     "data": {
      "image/png": "[encoded data removed]",
      "text/plain": [
       "<Figure size 640x480 with 1 Axes>"
      ]
     },
     "metadata": {},
     "output_type": "display_data"
    },
    {
     "data": {
      "image/png": "[encoded data removed]",
      "text/plain": [
       "<Figure size 640x480 with 1 Axes>"
      ]
     },
     "metadata": {},
     "output_type": "display_data"
    },
    {
     "data": {
      "image/png": "[encoded data removed]",
      "text/plain": [
       "<Figure size 640x480 with 1 Axes>"
      ]
     },
     "metadata": {},
     "output_type": "display_data"
    }
   ],
   "source": [
    "# Plot histogram for the 'day' column\n",
    "plt.hist(df['day'], bins=30, color='blue', alpha=0.7)\n",
    "plt.xlabel('Month')\n",
    "plt.ylabel('Frequency')\n",
    "plt.title('Distribution of Month')\n",
    "plt.show()\n",
    "\n",
    "# Plot histogram for the 'month' column\n",
    "plt.hist(df['month'], bins=12, color='green', alpha=0.7)\n",
    "plt.xlabel('day')\n",
    "plt.ylabel('Frequency')\n",
    "plt.title('Distribution of Day')\n",
    "plt.show()\n",
    "\n",
    "# Plot histogram for the 'year' column\n",
    "plt.hist(df['year'], bins=range(df['year'].min(), df['year'].max() + 1), color='red', alpha=0.7)\n",
    "plt.xlabel('Year')\n",
    "plt.ylabel('Frequency')\n",
    "plt.title('Distribution of Year')\n",
    "plt.show()"
   ]
  },
  {
   "cell_type": "code",
   "execution_count": 12,
   "id": "de9c583e",
   "metadata": {},
   "outputs": [
    {
     "data": {
      "text/plain": [
       "<AxesSubplot:>"
      ]
     },
     "execution_count": 12,
     "metadata": {},
     "output_type": "execute_result"
    },
    {
     "data": {
      "image/png": "[encoded data removed]",
      "text/plain": [
       "<Figure size 640x480 with 1 Axes>"
      ]
     },
     "metadata": {},
     "output_type": "display_data"
    }
   ],
   "source": [
    "#-- Now Plotting the distrobution of net_total --#\n",
    "# Convert 'net_total' column to integers\n",
    "net_total_int = df['net_total'].astype(int)\n",
    "net_total_int.plot()"
   ]
  },
  {
   "cell_type": "code",
   "execution_count": 13,
   "id": "7f9c9ab3",
   "metadata": {},
   "outputs": [
    {
     "name": "stdout",
     "output_type": "stream",
     "text": [
      "funding_source_name\n",
      "SEIU 775                               10592906.82\n",
      "Western States Petroleum Assn.          9337209.56\n",
      "AMAZON.COM SERVICES LLC                 7177311.68\n",
      "WA FEDERATION OF STATE EMPLOYEES        6930649.19\n",
      "WA ASSN OF REALTORS                     5701452.88\n",
      "PUGET SOUND ENERGY INC                  5594113.97\n",
      "SEIU HEALTHCARE 1199 NW                 5108715.87\n",
      "WA EDUCATION ASSN                       4912883.17\n",
      "MICROSOFT CORP                          4634751.97\n",
      "WA HEALTH CARE ASSN                     4282876.06\n",
      "ASSN OF WA BUSINESS                     3931784.78\n",
      "PUBLIC SCHOOL EMPLOYEES OF WA           3703412.68\n",
      "WA ST ASSN FOR JUSTICE                  3569294.54\n",
      "VULCAN INC                              3447717.84\n",
      "WA ST HOSPITAL ASSN                     3136115.06\n",
      "PHARMACEUTICAL RSRCH/MFG OF AMERICA     3085191.54\n",
      "COMMUNITY HEALTH NETWORK OF WA          3046481.12\n",
      "Delta Dental of WA                      3006016.80\n",
      "AVISTA CORP                             2916304.10\n",
      "BOEING                                  2859659.10\n",
      "Name: net_total, dtype: float64\n"
     ]
    }
   ],
   "source": [
    "top_20_funding_sources = df.groupby('funding_source_name')['net_total'].sum().nlargest(20)\n",
    "print(top_20_funding_sources)\n"
   ]
  },
  {
   "cell_type": "code",
   "execution_count": 14,
   "id": "25112b51",
   "metadata": {},
   "outputs": [
    {
     "name": "stdout",
     "output_type": "stream",
     "text": [
      "filer_name\n",
      "GORDON THOMAS HONEYWELL GOV AFFAIRS*    23728550.86\n",
      "CARNEY BADLEY SPELLMAN*                 12202259.76\n",
      "Insight Strategic Partners LLC          11408990.28\n",
      "MCBRIDE PUBLIC AFFAIRS LLC*             11004199.24\n",
      "STAUFFACHER COMMUNICATIONS*             10414948.06\n",
      "ALLIANCES NORTHWEST*                     9313562.92\n",
      "CASCADE GOVT AFFAIRS LLC*                8595135.59\n",
      "GANO & ASSOC*                            8545286.62\n",
      "STRATEGIES 360*                          8217242.27\n",
      "ADAM GLICKMAN                            8206073.90\n",
      "Bogard & Johnson LLC                     7522659.28\n",
      "BOSWELL CONSULTING*                      7460994.14\n",
      "COMMUNICO*                               6949341.43\n",
      "CIVIC GROUP*                             6945002.09\n",
      "CHRISTOPHERSEN INC*                      6606709.88\n",
      "LISA THATCHER                            6324695.11\n",
      "Ludeman Public Affairs                   5883304.33\n",
      "Jessica Spiegel                          5870227.30\n",
      "ROMAN M DANIELS-BROWN                    5684325.06\n",
      "JEFFREY S GOMBOSKY                       5533385.12\n",
      "Name: net_total, dtype: float64\n"
     ]
    }
   ],
   "source": [
    "top_20_lobbyist = df.groupby('filer_name')['net_total'].sum().nlargest(20)\n",
    "print(top_20_lobbyist)"
   ]
  },
  {
   "cell_type": "markdown",
   "id": "f5ee441d",
   "metadata": {},
   "source": [
    "# Now going into Machine Learning\n",
    "\n",
    "Given the variables, 'net_total' and 'year', how accurate of a model can be created with and ensemble method."
   ]
  },
  {
   "cell_type": "code",
   "execution_count": 17,
   "id": "d3f8855d",
   "metadata": {},
   "outputs": [],
   "source": [
    "# Group the data by 'year' and count the instances\n",
    "instances_per_year = df.groupby('year').size()\n"
   ]
  },
  {
   "cell_type": "code",
   "execution_count": 20,
   "id": "60c7b2d4",
   "metadata": {},
   "outputs": [
    {
     "name": "stdout",
     "output_type": "stream",
     "text": [
      "Mean Squared Error: 10352420.779050007\n"
     ]
    }
   ],
   "source": [
    "from sklearn.model_selection import train_test_split\n",
    "from sklearn.ensemble import RandomForestRegressor\n",
    "from sklearn.metrics import mean_squared_error\n",
    "\n",
    "instances_per_year_df = instances_per_year.reset_index()\n",
    "instances_per_year_df.columns = ['year', 'count']\n",
    "\n",
    "#-- Split data into features (X) and target variable (y) --#\n",
    "X = instances_per_year_df[['year']]\n",
    "y = instances_per_year_df['count']\n",
    "instances_per_year = df.groupby('year').size()\n",
    "\n",
    "\n",
    "\n",
    "#-- Splitting the data into train and test sets (80% train, 20% test) --#\n",
    "X_train, X_test, y_train, y_test = train_test_split(X, y, test_size=0.2, random_state=42)\n",
    "\n",
    "#-- Creating the Random Forest Regressor model --#\n",
    "rf_regressor = RandomForestRegressor(random_state=42)\n",
    "\n",
    "#-- Training the model --#\n",
    "rf_regressor.fit(X_train, y_train)\n",
    "\n",
    "#-- Making predictions on the test set --#\n",
    "predictions = rf_regressor.predict(X_test)\n",
    "\n",
    "#-- Calculating mean squared error --#\n",
    "mse = mean_squared_error(y_test, predictions)\n",
    "print(f\"Mean Squared Error: {mse}\")\n",
    "\n"
   ]
  },
  {
   "cell_type": "markdown",
   "id": "0828fb30",
   "metadata": {},
   "source": [
    "# Now exploring some of the lobbyist funding sources."
   ]
  },
  {
   "cell_type": "code",
   "execution_count": 21,
   "id": "369739b0",
   "metadata": {},
   "outputs": [
    {
     "data": {
      "text/html": [
       "<div>\n",
       "<style scoped>\n",
       "    .dataframe tbody tr th:only-of-type {\n",
       "        vertical-align: middle;\n",
       "    }\n",
       "\n",
       "    .dataframe tbody tr th {\n",
       "        vertical-align: top;\n",
       "    }\n",
       "\n",
       "    .dataframe thead th {\n",
       "        text-align: right;\n",
       "    }\n",
       "</style>\n",
       "<table border=\"1\" class=\"dataframe\">\n",
       "  <thead>\n",
       "    <tr style=\"text-align: right;\">\n",
       "      <th></th>\n",
       "      <th>net_total</th>\n",
       "      <th>year</th>\n",
       "    </tr>\n",
       "  </thead>\n",
       "  <tbody>\n",
       "    <tr>\n",
       "      <th>637</th>\n",
       "      <td>4281.0</td>\n",
       "      <td>23</td>\n",
       "    </tr>\n",
       "    <tr>\n",
       "      <th>869</th>\n",
       "      <td>2335.6</td>\n",
       "      <td>23</td>\n",
       "    </tr>\n",
       "    <tr>\n",
       "      <th>958</th>\n",
       "      <td>2500.0</td>\n",
       "      <td>23</td>\n",
       "    </tr>\n",
       "    <tr>\n",
       "      <th>2146</th>\n",
       "      <td>4500.0</td>\n",
       "      <td>24</td>\n",
       "    </tr>\n",
       "    <tr>\n",
       "      <th>2613</th>\n",
       "      <td>4500.0</td>\n",
       "      <td>23</td>\n",
       "    </tr>\n",
       "    <tr>\n",
       "      <th>...</th>\n",
       "      <td>...</td>\n",
       "      <td>...</td>\n",
       "    </tr>\n",
       "    <tr>\n",
       "      <th>120692</th>\n",
       "      <td>1101.0</td>\n",
       "      <td>22</td>\n",
       "    </tr>\n",
       "    <tr>\n",
       "      <th>120694</th>\n",
       "      <td>2750.0</td>\n",
       "      <td>22</td>\n",
       "    </tr>\n",
       "    <tr>\n",
       "      <th>120695</th>\n",
       "      <td>2750.0</td>\n",
       "      <td>22</td>\n",
       "    </tr>\n",
       "    <tr>\n",
       "      <th>120701</th>\n",
       "      <td>120.0</td>\n",
       "      <td>23</td>\n",
       "    </tr>\n",
       "    <tr>\n",
       "      <th>120702</th>\n",
       "      <td>600.0</td>\n",
       "      <td>23</td>\n",
       "    </tr>\n",
       "  </tbody>\n",
       "</table>\n",
       "<p>583 rows × 2 columns</p>\n",
       "</div>"
      ],
      "text/plain": [
       "        net_total  year\n",
       "637        4281.0    23\n",
       "869        2335.6    23\n",
       "958        2500.0    23\n",
       "2146       4500.0    24\n",
       "2613       4500.0    23\n",
       "...           ...   ...\n",
       "120692     1101.0    22\n",
       "120694     2750.0    22\n",
       "120695     2750.0    22\n",
       "120701      120.0    23\n",
       "120702      600.0    23\n",
       "\n",
       "[583 rows x 2 columns]"
      ]
     },
     "execution_count": 21,
     "metadata": {},
     "output_type": "execute_result"
    }
   ],
   "source": [
    "#-- Create a new dataset containing rows with 'funding_source_name' as \"SEIU\" --#\n",
    "SEIU775 = df[df['funding_source_name'] == \"SEIU 775\"]\n",
    "\n",
    "#-- Select only the columns ['net_total'] and 'year' --#\n",
    "SEIU775 = SEIU775[['net_total', 'year']]\n",
    "\n",
    "SEIU775"
   ]
  },
  {
   "cell_type": "code",
   "execution_count": 22,
   "id": "ae631048",
   "metadata": {
    "scrolled": true
   },
   "outputs": [
    {
     "data": {
      "image/png": "[encoded data removed]",
      "text/plain": [
       "<Figure size 1000x600 with 1 Axes>"
      ]
     },
     "metadata": {},
     "output_type": "display_data"
    }
   ],
   "source": [
    "#-- Plotting the 'net_total' column against the 'year' column --#\n",
    "plt.figure(figsize=(10, 6))\n",
    "plt.bar(SEIU775['year'], SEIU775['net_total'], color='blue', alpha=0.5)\n",
    "plt.title('Net Total vs. Year for SEIU775 ')\n",
    "plt.xlabel('Year')\n",
    "plt.ylabel('Net Total')\n",
    "plt.grid(True)\n",
    "plt.show()"
   ]
  },
  {
   "cell_type": "code",
   "execution_count": 23,
   "id": "7ac57913",
   "metadata": {},
   "outputs": [
    {
     "data": {
      "text/html": [
       "<div>\n",
       "<style scoped>\n",
       "    .dataframe tbody tr th:only-of-type {\n",
       "        vertical-align: middle;\n",
       "    }\n",
       "\n",
       "    .dataframe tbody tr th {\n",
       "        vertical-align: top;\n",
       "    }\n",
       "\n",
       "    .dataframe thead th {\n",
       "        text-align: right;\n",
       "    }\n",
       "</style>\n",
       "<table border=\"1\" class=\"dataframe\">\n",
       "  <thead>\n",
       "    <tr style=\"text-align: right;\">\n",
       "      <th></th>\n",
       "      <th>net_total</th>\n",
       "      <th>year</th>\n",
       "    </tr>\n",
       "  </thead>\n",
       "  <tbody>\n",
       "    <tr>\n",
       "      <th>945</th>\n",
       "      <td>2913.84</td>\n",
       "      <td>23</td>\n",
       "    </tr>\n",
       "    <tr>\n",
       "      <th>1813</th>\n",
       "      <td>35013.59</td>\n",
       "      <td>23</td>\n",
       "    </tr>\n",
       "    <tr>\n",
       "      <th>4137</th>\n",
       "      <td>852913.84</td>\n",
       "      <td>23</td>\n",
       "    </tr>\n",
       "    <tr>\n",
       "      <th>4900</th>\n",
       "      <td>36750.00</td>\n",
       "      <td>23</td>\n",
       "    </tr>\n",
       "    <tr>\n",
       "      <th>7041</th>\n",
       "      <td>36544.74</td>\n",
       "      <td>23</td>\n",
       "    </tr>\n",
       "    <tr>\n",
       "      <th>...</th>\n",
       "      <td>...</td>\n",
       "      <td>...</td>\n",
       "    </tr>\n",
       "    <tr>\n",
       "      <th>166476</th>\n",
       "      <td>15787.65</td>\n",
       "      <td>23</td>\n",
       "    </tr>\n",
       "    <tr>\n",
       "      <th>166477</th>\n",
       "      <td>1139983.04</td>\n",
       "      <td>23</td>\n",
       "    </tr>\n",
       "    <tr>\n",
       "      <th>166478</th>\n",
       "      <td>7741.52</td>\n",
       "      <td>23</td>\n",
       "    </tr>\n",
       "    <tr>\n",
       "      <th>166479</th>\n",
       "      <td>2913.84</td>\n",
       "      <td>23</td>\n",
       "    </tr>\n",
       "    <tr>\n",
       "      <th>166480</th>\n",
       "      <td>2913.84</td>\n",
       "      <td>23</td>\n",
       "    </tr>\n",
       "  </tbody>\n",
       "</table>\n",
       "<p>179 rows × 2 columns</p>\n",
       "</div>"
      ],
      "text/plain": [
       "         net_total  year\n",
       "945        2913.84    23\n",
       "1813      35013.59    23\n",
       "4137     852913.84    23\n",
       "4900      36750.00    23\n",
       "7041      36544.74    23\n",
       "...            ...   ...\n",
       "166476    15787.65    23\n",
       "166477  1139983.04    23\n",
       "166478     7741.52    23\n",
       "166479     2913.84    23\n",
       "166480     2913.84    23\n",
       "\n",
       "[179 rows x 2 columns]"
      ]
     },
     "execution_count": 23,
     "metadata": {},
     "output_type": "execute_result"
    }
   ],
   "source": [
    "WSPA = df[df['funding_source_name'] == \"Western States Petroleum Assn.\"]\n",
    "# Select only the columns ['net_total'] and 'year'\n",
    "WSPA = WSPA[['net_total', 'year']]\n",
    "WSPA"
   ]
  },
  {
   "cell_type": "code",
   "execution_count": 24,
   "id": "54187406",
   "metadata": {
    "scrolled": true
   },
   "outputs": [
    {
     "data": {
      "image/png": "[encoded data removed]",
      "text/plain": [
       "<Figure size 1000x600 with 1 Axes>"
      ]
     },
     "metadata": {},
     "output_type": "display_data"
    }
   ],
   "source": [
    "plt.figure(figsize=(10, 6))\n",
    "plt.bar(WSPA['year'], WSPA['net_total'], color='blue', alpha=0.5)\n",
    "plt.title('Net Total vs. Year for WSPA ')\n",
    "plt.xlabel('Year')\n",
    "plt.ylabel('Net Total')\n",
    "plt.grid(True)\n",
    "plt.show()\n"
   ]
  },
  {
   "cell_type": "markdown",
   "id": "1e9a551e",
   "metadata": {},
   "source": [
    "# Exploring much money Amazon gives to lobbyist\n"
   ]
  },
  {
   "cell_type": "code",
   "execution_count": 25,
   "id": "2b21fe6c",
   "metadata": {},
   "outputs": [
    {
     "data": {
      "text/html": [
       "<div>\n",
       "<style scoped>\n",
       "    .dataframe tbody tr th:only-of-type {\n",
       "        vertical-align: middle;\n",
       "    }\n",
       "\n",
       "    .dataframe tbody tr th {\n",
       "        vertical-align: top;\n",
       "    }\n",
       "\n",
       "    .dataframe thead th {\n",
       "        text-align: right;\n",
       "    }\n",
       "</style>\n",
       "<table border=\"1\" class=\"dataframe\">\n",
       "  <thead>\n",
       "    <tr style=\"text-align: right;\">\n",
       "      <th></th>\n",
       "      <th>net_total</th>\n",
       "      <th>year</th>\n",
       "    </tr>\n",
       "  </thead>\n",
       "  <tbody>\n",
       "    <tr>\n",
       "      <th>147</th>\n",
       "      <td>76131.18</td>\n",
       "      <td>23</td>\n",
       "    </tr>\n",
       "    <tr>\n",
       "      <th>1881</th>\n",
       "      <td>1400.00</td>\n",
       "      <td>23</td>\n",
       "    </tr>\n",
       "    <tr>\n",
       "      <th>1979</th>\n",
       "      <td>2500.00</td>\n",
       "      <td>23</td>\n",
       "    </tr>\n",
       "    <tr>\n",
       "      <th>2219</th>\n",
       "      <td>17916.66</td>\n",
       "      <td>23</td>\n",
       "    </tr>\n",
       "    <tr>\n",
       "      <th>2847</th>\n",
       "      <td>4500.00</td>\n",
       "      <td>23</td>\n",
       "    </tr>\n",
       "    <tr>\n",
       "      <th>...</th>\n",
       "      <td>...</td>\n",
       "      <td>...</td>\n",
       "    </tr>\n",
       "    <tr>\n",
       "      <th>47813</th>\n",
       "      <td>3000.00</td>\n",
       "      <td>22</td>\n",
       "    </tr>\n",
       "    <tr>\n",
       "      <th>47814</th>\n",
       "      <td>3000.00</td>\n",
       "      <td>22</td>\n",
       "    </tr>\n",
       "    <tr>\n",
       "      <th>47815</th>\n",
       "      <td>3000.00</td>\n",
       "      <td>22</td>\n",
       "    </tr>\n",
       "    <tr>\n",
       "      <th>47816</th>\n",
       "      <td>3000.00</td>\n",
       "      <td>23</td>\n",
       "    </tr>\n",
       "    <tr>\n",
       "      <th>47817</th>\n",
       "      <td>3000.00</td>\n",
       "      <td>23</td>\n",
       "    </tr>\n",
       "  </tbody>\n",
       "</table>\n",
       "<p>465 rows × 2 columns</p>\n",
       "</div>"
      ],
      "text/plain": [
       "       net_total  year\n",
       "147     76131.18    23\n",
       "1881     1400.00    23\n",
       "1979     2500.00    23\n",
       "2219    17916.66    23\n",
       "2847     4500.00    23\n",
       "...          ...   ...\n",
       "47813    3000.00    22\n",
       "47814    3000.00    22\n",
       "47815    3000.00    22\n",
       "47816    3000.00    23\n",
       "47817    3000.00    23\n",
       "\n",
       "[465 rows x 2 columns]"
      ]
     },
     "execution_count": 25,
     "metadata": {},
     "output_type": "execute_result"
    }
   ],
   "source": [
    "amazon_df = df[df['funding_source_name'] == \"AMAZON.COM SERVICES LLC\"]\n",
    "\n",
    "# Select only the columns ['net_total'] and 'year'\n",
    "amazon_df = amazon_df[['net_total', 'year']]\n",
    "\n",
    "amazon_df"
   ]
  },
  {
   "cell_type": "code",
   "execution_count": 26,
   "id": "b11a7d73",
   "metadata": {},
   "outputs": [
    {
     "data": {
      "image/png": "[encoded data removed]",
      "text/plain": [
       "<Figure size 1000x600 with 1 Axes>"
      ]
     },
     "metadata": {},
     "output_type": "display_data"
    }
   ],
   "source": [
    "#-- Plotting the 'net_total' column against the 'year' column --#\n",
    "plt.figure(figsize=(10, 6))\n",
    "plt.bar(amazon_df['year'], amazon_df['net_total'], color='blue', alpha=0.5)\n",
    "plt.title('Total $ to Lobbyist by AMAZON')\n",
    "plt.xlabel('Year')\n",
    "plt.ylabel('Net Total in millions')\n",
    "plt.grid(True)\n",
    "plt.show()"
   ]
  },
  {
   "cell_type": "code",
   "execution_count": 27,
   "id": "e8cfd4a8",
   "metadata": {},
   "outputs": [
    {
     "data": {
      "text/html": [
       "<div>\n",
       "<style scoped>\n",
       "    .dataframe tbody tr th:only-of-type {\n",
       "        vertical-align: middle;\n",
       "    }\n",
       "\n",
       "    .dataframe tbody tr th {\n",
       "        vertical-align: top;\n",
       "    }\n",
       "\n",
       "    .dataframe thead th {\n",
       "        text-align: right;\n",
       "    }\n",
       "</style>\n",
       "<table border=\"1\" class=\"dataframe\">\n",
       "  <thead>\n",
       "    <tr style=\"text-align: right;\">\n",
       "      <th></th>\n",
       "      <th>net_total</th>\n",
       "      <th>year</th>\n",
       "    </tr>\n",
       "  </thead>\n",
       "  <tbody>\n",
       "    <tr>\n",
       "      <th>591</th>\n",
       "      <td>15900.00</td>\n",
       "      <td>23</td>\n",
       "    </tr>\n",
       "    <tr>\n",
       "      <th>1822</th>\n",
       "      <td>8333.33</td>\n",
       "      <td>23</td>\n",
       "    </tr>\n",
       "    <tr>\n",
       "      <th>4045</th>\n",
       "      <td>8333.33</td>\n",
       "      <td>23</td>\n",
       "    </tr>\n",
       "    <tr>\n",
       "      <th>4337</th>\n",
       "      <td>17292.25</td>\n",
       "      <td>23</td>\n",
       "    </tr>\n",
       "    <tr>\n",
       "      <th>6037</th>\n",
       "      <td>20793.36</td>\n",
       "      <td>23</td>\n",
       "    </tr>\n",
       "    <tr>\n",
       "      <th>...</th>\n",
       "      <td>...</td>\n",
       "      <td>...</td>\n",
       "    </tr>\n",
       "    <tr>\n",
       "      <th>57036</th>\n",
       "      <td>2500.00</td>\n",
       "      <td>19</td>\n",
       "    </tr>\n",
       "    <tr>\n",
       "      <th>57037</th>\n",
       "      <td>5000.00</td>\n",
       "      <td>20</td>\n",
       "    </tr>\n",
       "    <tr>\n",
       "      <th>57038</th>\n",
       "      <td>5000.00</td>\n",
       "      <td>20</td>\n",
       "    </tr>\n",
       "    <tr>\n",
       "      <th>57041</th>\n",
       "      <td>7500.00</td>\n",
       "      <td>19</td>\n",
       "    </tr>\n",
       "    <tr>\n",
       "      <th>57042</th>\n",
       "      <td>7500.00</td>\n",
       "      <td>19</td>\n",
       "    </tr>\n",
       "  </tbody>\n",
       "</table>\n",
       "<p>255 rows × 2 columns</p>\n",
       "</div>"
      ],
      "text/plain": [
       "       net_total  year\n",
       "591     15900.00    23\n",
       "1822     8333.33    23\n",
       "4045     8333.33    23\n",
       "4337    17292.25    23\n",
       "6037    20793.36    23\n",
       "...          ...   ...\n",
       "57036    2500.00    19\n",
       "57037    5000.00    20\n",
       "57038    5000.00    20\n",
       "57041    7500.00    19\n",
       "57042    7500.00    19\n",
       "\n",
       "[255 rows x 2 columns]"
      ]
     },
     "execution_count": 27,
     "metadata": {},
     "output_type": "execute_result"
    }
   ],
   "source": [
    "\n",
    "AVISTA = df[df['funding_source_name'] == \"AVISTA CORP\"]\n",
    "# Select only the columns ['net_total'] and 'year'\n",
    "AVISTA = AVISTA[['net_total', 'year']]\n",
    "AVISTA"
   ]
  },
  {
   "cell_type": "code",
   "execution_count": 28,
   "id": "d301c5b5",
   "metadata": {},
   "outputs": [
    {
     "data": {
      "image/png": "[encoded data removed]",
      "text/plain": [
       "<Figure size 1000x600 with 1 Axes>"
      ]
     },
     "metadata": {},
     "output_type": "display_data"
    }
   ],
   "source": [
    "# Plotting the 'net_total' column against the 'year' column\n",
    "plt.figure(figsize=(10, 6))\n",
    "plt.bar(AVISTA['year'], AVISTA['net_total'], color='blue', alpha=0.5)\n",
    "plt.title('Total $ to Lobbyist by AVISTA')\n",
    "plt.xlabel('Year')\n",
    "plt.ylabel('Net Total')\n",
    "plt.grid(True)\n",
    "plt.show()"
   ]
  },
  {
   "cell_type": "code",
   "execution_count": 29,
   "id": "8e88a421",
   "metadata": {},
   "outputs": [
    {
     "data": {
      "text/html": [
       "<div>\n",
       "<style scoped>\n",
       "    .dataframe tbody tr th:only-of-type {\n",
       "        vertical-align: middle;\n",
       "    }\n",
       "\n",
       "    .dataframe tbody tr th {\n",
       "        vertical-align: top;\n",
       "    }\n",
       "\n",
       "    .dataframe thead th {\n",
       "        text-align: right;\n",
       "    }\n",
       "</style>\n",
       "<table border=\"1\" class=\"dataframe\">\n",
       "  <thead>\n",
       "    <tr style=\"text-align: right;\">\n",
       "      <th></th>\n",
       "      <th>net_total</th>\n",
       "      <th>year</th>\n",
       "    </tr>\n",
       "  </thead>\n",
       "  <tbody>\n",
       "    <tr>\n",
       "      <th>1769</th>\n",
       "      <td>17581.83</td>\n",
       "      <td>23</td>\n",
       "    </tr>\n",
       "    <tr>\n",
       "      <th>1772</th>\n",
       "      <td>7705.50</td>\n",
       "      <td>23</td>\n",
       "    </tr>\n",
       "    <tr>\n",
       "      <th>1774</th>\n",
       "      <td>4669.22</td>\n",
       "      <td>23</td>\n",
       "    </tr>\n",
       "    <tr>\n",
       "      <th>1776</th>\n",
       "      <td>2952.95</td>\n",
       "      <td>23</td>\n",
       "    </tr>\n",
       "    <tr>\n",
       "      <th>5009</th>\n",
       "      <td>4669.22</td>\n",
       "      <td>23</td>\n",
       "    </tr>\n",
       "    <tr>\n",
       "      <th>...</th>\n",
       "      <td>...</td>\n",
       "      <td>...</td>\n",
       "    </tr>\n",
       "    <tr>\n",
       "      <th>143080</th>\n",
       "      <td>7705.50</td>\n",
       "      <td>23</td>\n",
       "    </tr>\n",
       "    <tr>\n",
       "      <th>143081</th>\n",
       "      <td>7705.50</td>\n",
       "      <td>23</td>\n",
       "    </tr>\n",
       "    <tr>\n",
       "      <th>143082</th>\n",
       "      <td>7705.50</td>\n",
       "      <td>23</td>\n",
       "    </tr>\n",
       "    <tr>\n",
       "      <th>143083</th>\n",
       "      <td>7705.50</td>\n",
       "      <td>23</td>\n",
       "    </tr>\n",
       "    <tr>\n",
       "      <th>143084</th>\n",
       "      <td>7705.50</td>\n",
       "      <td>23</td>\n",
       "    </tr>\n",
       "  </tbody>\n",
       "</table>\n",
       "<p>388 rows × 2 columns</p>\n",
       "</div>"
      ],
      "text/plain": [
       "        net_total  year\n",
       "1769     17581.83    23\n",
       "1772      7705.50    23\n",
       "1774      4669.22    23\n",
       "1776      2952.95    23\n",
       "5009      4669.22    23\n",
       "...           ...   ...\n",
       "143080    7705.50    23\n",
       "143081    7705.50    23\n",
       "143082    7705.50    23\n",
       "143083    7705.50    23\n",
       "143084    7705.50    23\n",
       "\n",
       "[388 rows x 2 columns]"
      ]
     },
     "execution_count": 29,
     "metadata": {},
     "output_type": "execute_result"
    }
   ],
   "source": [
    "#-- Create a new dataset containing rows with 'funding_source_name' as \"AMAZON.COM SERVICES LLC\" --#\n",
    "WFSE = df[df['funding_source_name'] == \"WA FEDERATION OF STATE EMPLOYEES\"]\n",
    "\n",
    "#-- Select only the columns ['net_total'] and 'year' --#\n",
    "WFSE = WFSE[['net_total', 'year']]\n",
    "\n",
    "WFSE"
   ]
  },
  {
   "cell_type": "code",
   "execution_count": 30,
   "id": "4d2a91f9",
   "metadata": {},
   "outputs": [
    {
     "data": {
      "image/png": "[encoded data removed]",
      "text/plain": [
       "<Figure size 1000x600 with 1 Axes>"
      ]
     },
     "metadata": {},
     "output_type": "display_data"
    }
   ],
   "source": [
    "#-- Plotting the 'net_total' column against the 'year' column --#\n",
    "plt.figure(figsize=(10, 6))\n",
    "plt.bar(WFSE['year'], WFSE['net_total'], color='blue', alpha=0.5)\n",
    "plt.title('Total to Lobbyist by the Washington Federation of State Employees')\n",
    "plt.xlabel('Year')\n",
    "plt.ylabel('Net Total in millions')\n",
    "plt.grid(True)\n",
    "plt.show()"
   ]
  },
  {
   "cell_type": "markdown",
   "id": "93df942f",
   "metadata": {},
   "source": [
    "# Exploring the Washington Association of Realators "
   ]
  },
  {
   "cell_type": "code",
   "execution_count": 31,
   "id": "a250b4aa",
   "metadata": {},
   "outputs": [
    {
     "data": {
      "text/html": [
       "<div>\n",
       "<style scoped>\n",
       "    .dataframe tbody tr th:only-of-type {\n",
       "        vertical-align: middle;\n",
       "    }\n",
       "\n",
       "    .dataframe tbody tr th {\n",
       "        vertical-align: top;\n",
       "    }\n",
       "\n",
       "    .dataframe thead th {\n",
       "        text-align: right;\n",
       "    }\n",
       "</style>\n",
       "<table border=\"1\" class=\"dataframe\">\n",
       "  <thead>\n",
       "    <tr style=\"text-align: right;\">\n",
       "      <th></th>\n",
       "      <th>net_total</th>\n",
       "      <th>year</th>\n",
       "    </tr>\n",
       "  </thead>\n",
       "  <tbody>\n",
       "    <tr>\n",
       "      <th>1198</th>\n",
       "      <td>8000.0</td>\n",
       "      <td>23</td>\n",
       "    </tr>\n",
       "    <tr>\n",
       "      <th>1871</th>\n",
       "      <td>3500.0</td>\n",
       "      <td>23</td>\n",
       "    </tr>\n",
       "    <tr>\n",
       "      <th>1904</th>\n",
       "      <td>4500.0</td>\n",
       "      <td>23</td>\n",
       "    </tr>\n",
       "    <tr>\n",
       "      <th>2228</th>\n",
       "      <td>10167.3</td>\n",
       "      <td>23</td>\n",
       "    </tr>\n",
       "    <tr>\n",
       "      <th>4360</th>\n",
       "      <td>33000.0</td>\n",
       "      <td>23</td>\n",
       "    </tr>\n",
       "    <tr>\n",
       "      <th>...</th>\n",
       "      <td>...</td>\n",
       "      <td>...</td>\n",
       "    </tr>\n",
       "    <tr>\n",
       "      <th>134993</th>\n",
       "      <td>3500.0</td>\n",
       "      <td>23</td>\n",
       "    </tr>\n",
       "    <tr>\n",
       "      <th>134994</th>\n",
       "      <td>3500.0</td>\n",
       "      <td>23</td>\n",
       "    </tr>\n",
       "    <tr>\n",
       "      <th>134995</th>\n",
       "      <td>3500.0</td>\n",
       "      <td>23</td>\n",
       "    </tr>\n",
       "    <tr>\n",
       "      <th>134996</th>\n",
       "      <td>3500.0</td>\n",
       "      <td>23</td>\n",
       "    </tr>\n",
       "    <tr>\n",
       "      <th>134997</th>\n",
       "      <td>3500.0</td>\n",
       "      <td>23</td>\n",
       "    </tr>\n",
       "  </tbody>\n",
       "</table>\n",
       "<p>465 rows × 2 columns</p>\n",
       "</div>"
      ],
      "text/plain": [
       "        net_total  year\n",
       "1198       8000.0    23\n",
       "1871       3500.0    23\n",
       "1904       4500.0    23\n",
       "2228      10167.3    23\n",
       "4360      33000.0    23\n",
       "...           ...   ...\n",
       "134993     3500.0    23\n",
       "134994     3500.0    23\n",
       "134995     3500.0    23\n",
       "134996     3500.0    23\n",
       "134997     3500.0    23\n",
       "\n",
       "[465 rows x 2 columns]"
      ]
     },
     "execution_count": 31,
     "metadata": {},
     "output_type": "execute_result"
    }
   ],
   "source": [
    "#-- Create a new dataset containing rows with 'funding_source_name' as \"AMAZON.COM SERVICES LLC\" --#\n",
    "real = df[df['funding_source_name'] == \"WA ASSN OF REALTORS\"]\n",
    "\n",
    "#-- Select only the columns ['net_total'] and 'year' --#\n",
    "real = real[['net_total', 'year']]\n",
    "real"
   ]
  },
  {
   "cell_type": "code",
   "execution_count": 32,
   "id": "6bacac98",
   "metadata": {},
   "outputs": [
    {
     "data": {
      "image/png": "[encoded data removed]",
      "text/plain": [
       "<Figure size 1000x600 with 1 Axes>"
      ]
     },
     "metadata": {},
     "output_type": "display_data"
    }
   ],
   "source": [
    "#-- Plotting the 'net_total' column against the 'year' column --#\n",
    "plt.figure(figsize=(10, 6))\n",
    "plt.bar(real['year'], real['net_total'], color='blue', alpha=0.5)\n",
    "plt.title('Total $ to Lobbyists by Realators Association')\n",
    "plt.xlabel('Year')\n",
    "plt.ylabel('Net Total in millions')\n",
    "plt.grid(True)\n",
    "plt.show()"
   ]
  },
  {
   "cell_type": "markdown",
   "id": "b5a5dd49",
   "metadata": {},
   "source": [
    "# Exploring Washigton Teachers Union "
   ]
  },
  {
   "cell_type": "code",
   "execution_count": 33,
   "id": "26ff78ff",
   "metadata": {},
   "outputs": [
    {
     "data": {
      "text/html": [
       "<div>\n",
       "<style scoped>\n",
       "    .dataframe tbody tr th:only-of-type {\n",
       "        vertical-align: middle;\n",
       "    }\n",
       "\n",
       "    .dataframe tbody tr th {\n",
       "        vertical-align: top;\n",
       "    }\n",
       "\n",
       "    .dataframe thead th {\n",
       "        text-align: right;\n",
       "    }\n",
       "</style>\n",
       "<table border=\"1\" class=\"dataframe\">\n",
       "  <thead>\n",
       "    <tr style=\"text-align: right;\">\n",
       "      <th></th>\n",
       "      <th>net_total</th>\n",
       "      <th>year</th>\n",
       "    </tr>\n",
       "  </thead>\n",
       "  <tbody>\n",
       "    <tr>\n",
       "      <th>2072</th>\n",
       "      <td>88.35</td>\n",
       "      <td>23</td>\n",
       "    </tr>\n",
       "    <tr>\n",
       "      <th>2074</th>\n",
       "      <td>443.73</td>\n",
       "      <td>23</td>\n",
       "    </tr>\n",
       "    <tr>\n",
       "      <th>2078</th>\n",
       "      <td>3407.73</td>\n",
       "      <td>23</td>\n",
       "    </tr>\n",
       "    <tr>\n",
       "      <th>2091</th>\n",
       "      <td>1271.21</td>\n",
       "      <td>23</td>\n",
       "    </tr>\n",
       "    <tr>\n",
       "      <th>2093</th>\n",
       "      <td>1007.09</td>\n",
       "      <td>23</td>\n",
       "    </tr>\n",
       "    <tr>\n",
       "      <th>...</th>\n",
       "      <td>...</td>\n",
       "      <td>...</td>\n",
       "    </tr>\n",
       "    <tr>\n",
       "      <th>140499</th>\n",
       "      <td>8774.45</td>\n",
       "      <td>23</td>\n",
       "    </tr>\n",
       "    <tr>\n",
       "      <th>140500</th>\n",
       "      <td>9254.90</td>\n",
       "      <td>23</td>\n",
       "    </tr>\n",
       "    <tr>\n",
       "      <th>140501</th>\n",
       "      <td>3841.23</td>\n",
       "      <td>23</td>\n",
       "    </tr>\n",
       "    <tr>\n",
       "      <th>140502</th>\n",
       "      <td>1205.71</td>\n",
       "      <td>23</td>\n",
       "    </tr>\n",
       "    <tr>\n",
       "      <th>140503</th>\n",
       "      <td>578.19</td>\n",
       "      <td>23</td>\n",
       "    </tr>\n",
       "  </tbody>\n",
       "</table>\n",
       "<p>817 rows × 2 columns</p>\n",
       "</div>"
      ],
      "text/plain": [
       "        net_total  year\n",
       "2072        88.35    23\n",
       "2074       443.73    23\n",
       "2078      3407.73    23\n",
       "2091      1271.21    23\n",
       "2093      1007.09    23\n",
       "...           ...   ...\n",
       "140499    8774.45    23\n",
       "140500    9254.90    23\n",
       "140501    3841.23    23\n",
       "140502    1205.71    23\n",
       "140503     578.19    23\n",
       "\n",
       "[817 rows x 2 columns]"
      ]
     },
     "execution_count": 33,
     "metadata": {},
     "output_type": "execute_result"
    }
   ],
   "source": [
    "#-- Create a new dataset containing rows with 'funding_source_name' as \"AMAZON.COM SERVICES LLC\" --#\n",
    "teach = df[df['funding_source_name'] == \"WA EDUCATION ASSN\"]\n",
    "\n",
    "#-- Select only the columns ['net_total'] and 'year' --#\n",
    "teach = teach[['net_total', 'year']]\n",
    "teach"
   ]
  },
  {
   "cell_type": "code",
   "execution_count": 34,
   "id": "c9deda20",
   "metadata": {},
   "outputs": [
    {
     "data": {
      "image/png": "[encoded data removed]",
      "text/plain": [
       "<Figure size 1000x600 with 1 Axes>"
      ]
     },
     "metadata": {},
     "output_type": "display_data"
    }
   ],
   "source": [
    "#-- Plotting the 'net_total' column against the 'year' column --#\n",
    "plt.figure(figsize=(10, 6))\n",
    "plt.bar(teach['year'], teach['net_total'], color='blue', alpha=0.5)\n",
    "plt.title('Total $ to lobbyists by WA EDUCATION ASSN')\n",
    "plt.xlabel('Year')\n",
    "plt.ylabel('Net Total in millions')\n",
    "plt.grid(True)\n",
    "plt.show()"
   ]
  },
  {
   "cell_type": "code",
   "execution_count": 35,
   "id": "2a2a39a9",
   "metadata": {},
   "outputs": [
    {
     "data": {
      "text/html": [
       "<div>\n",
       "<style scoped>\n",
       "    .dataframe tbody tr th:only-of-type {\n",
       "        vertical-align: middle;\n",
       "    }\n",
       "\n",
       "    .dataframe tbody tr th {\n",
       "        vertical-align: top;\n",
       "    }\n",
       "\n",
       "    .dataframe thead th {\n",
       "        text-align: right;\n",
       "    }\n",
       "</style>\n",
       "<table border=\"1\" class=\"dataframe\">\n",
       "  <thead>\n",
       "    <tr style=\"text-align: right;\">\n",
       "      <th></th>\n",
       "      <th>net_total</th>\n",
       "      <th>year</th>\n",
       "    </tr>\n",
       "  </thead>\n",
       "  <tbody>\n",
       "    <tr>\n",
       "      <th>162</th>\n",
       "      <td>3000.00</td>\n",
       "      <td>23</td>\n",
       "    </tr>\n",
       "    <tr>\n",
       "      <th>191</th>\n",
       "      <td>3010.00</td>\n",
       "      <td>23</td>\n",
       "    </tr>\n",
       "    <tr>\n",
       "      <th>193</th>\n",
       "      <td>11799.94</td>\n",
       "      <td>23</td>\n",
       "    </tr>\n",
       "    <tr>\n",
       "      <th>4004</th>\n",
       "      <td>3000.00</td>\n",
       "      <td>23</td>\n",
       "    </tr>\n",
       "    <tr>\n",
       "      <th>4013</th>\n",
       "      <td>8460.00</td>\n",
       "      <td>23</td>\n",
       "    </tr>\n",
       "    <tr>\n",
       "      <th>...</th>\n",
       "      <td>...</td>\n",
       "      <td>...</td>\n",
       "    </tr>\n",
       "    <tr>\n",
       "      <th>96140</th>\n",
       "      <td>2500.00</td>\n",
       "      <td>23</td>\n",
       "    </tr>\n",
       "    <tr>\n",
       "      <th>96141</th>\n",
       "      <td>2500.00</td>\n",
       "      <td>23</td>\n",
       "    </tr>\n",
       "    <tr>\n",
       "      <th>96142</th>\n",
       "      <td>5776.84</td>\n",
       "      <td>23</td>\n",
       "    </tr>\n",
       "    <tr>\n",
       "      <th>96143</th>\n",
       "      <td>5379.92</td>\n",
       "      <td>23</td>\n",
       "    </tr>\n",
       "    <tr>\n",
       "      <th>96144</th>\n",
       "      <td>5059.67</td>\n",
       "      <td>23</td>\n",
       "    </tr>\n",
       "  </tbody>\n",
       "</table>\n",
       "<p>485 rows × 2 columns</p>\n",
       "</div>"
      ],
      "text/plain": [
       "       net_total  year\n",
       "162      3000.00    23\n",
       "191      3010.00    23\n",
       "193     11799.94    23\n",
       "4004     3000.00    23\n",
       "4013     8460.00    23\n",
       "...          ...   ...\n",
       "96140    2500.00    23\n",
       "96141    2500.00    23\n",
       "96142    5776.84    23\n",
       "96143    5379.92    23\n",
       "96144    5059.67    23\n",
       "\n",
       "[485 rows x 2 columns]"
      ]
     },
     "execution_count": 35,
     "metadata": {},
     "output_type": "execute_result"
    }
   ],
   "source": [
    "#-- Create a new dataset containing rows with 'funding_source_name' as \"AMAZON.COM SERVICES LLC\" --#\n",
    "micro = df[df['funding_source_name'] == \"MICROSOFT CORP\"]\n",
    "\n",
    "#-- Select only the columns ['net_total'] and 'year' --#\n",
    "micro = micro[['net_total', 'year']]\n",
    "micro\n",
    " "
   ]
  },
  {
   "cell_type": "code",
   "execution_count": 36,
   "id": "0df7f8ef",
   "metadata": {},
   "outputs": [
    {
     "data": {
      "image/png": "[encoded data removed]",
      "text/plain": [
       "<Figure size 1000x600 with 1 Axes>"
      ]
     },
     "metadata": {},
     "output_type": "display_data"
    }
   ],
   "source": [
    "#-- Plotting the 'net_total' column against the 'year' column --#\n",
    "plt.figure(figsize=(10, 6))\n",
    "plt.bar(micro['year'], micro['net_total'], color='blue', alpha=0.5)\n",
    "plt.title('Total $ to lobbyists by Microsoft')\n",
    "plt.xlabel('Year')\n",
    "plt.ylabel('Net Total in millions')\n",
    "plt.grid(True)\n",
    "plt.show()"
   ]
  },
  {
   "cell_type": "markdown",
   "id": "0711ee8d",
   "metadata": {},
   "source": [
    "Identified the Top 20 sources of lobbyist money State of Washington.\n",
    "\n",
    "Identified is the Top 20 Lobbyist whom recieve money in the State of Washington.\n",
    "\n",
    "Feburary is the highest month for lobyist donations.\n",
    "\n",
    "The days that the money is distributed is between the 11 and the 16.\n",
    "\n",
    "The frequency distrobution of the lobbyist contribtuions is increasing.\n",
    "\n",
    "At the same time, the net_total is not increasing with the frequency but remaining random. \n",
    "\n",
    "Therefore, based on the random distrobtuion of the 'net_total', the ability to predict net_total per year is not possible and leds to accept the Null Hypthesis.\n",
    "creating a Random Forest actuarial test. The analysis focuses on key variables such as 'Year', 'Net_total', 'Month', and 'Day'. Through data gathering from open-source repositories and employing data analytics tools like Python, Pandas, NumPy, and Seaborn, the study explores the relationship between independent and dependent variables. Results reveal 1,902 unique lobbyists in Washington State, top funding sources, top lobbyist recipients, peak donation months, and distribution patterns. However, despite an increasing frequency of lobbyist contributions, the 'net_total' remains random, leading to the acceptance of the null hypothesis. The findings provide insights into lobbyist money cycles and underscore the limitations of prediction using Random Forest in this context.\n",
    "This study investigates the predictability of yearly lobbyist donations using a Random Forest model. The null hypothesis posits that the yearly distribution of lobbyist donations is random and unpredictable, while the alternative hypothesis suggests predictability. Leveraging a dataset sourced from Data.gov containing information on lobbyist donations from 2016 to 2024, this research aims to contribute to data analytics and taxpayer awareness by "
   ]
  },
  {
   "cell_type": "markdown",
   "id": "762450af",
   "metadata": {},
   "source": [
    "Final Analysis:\n",
    "\n",
    "This study has yielded valuable insights into the dynamics of lobbyist donations in Washington State. Analysis of the dataset reveals a diverse landscape with 1,902 unique lobbyists or lobbyist organizations actively engaged in the state's political arena. Furthermore, examination of the data uncovers 3,682 unique entities funding these lobbyists, shedding light on the breadth of interests influencing political decision-making.\n",
    "\n",
    "Identification of the top 20 sources of lobbyist money in Washington State provides clarity on the key players driving political influence. Similarly, the identification of the top 20 lobbyists who receive money underscores the interconnected nature of lobbying activities.\n",
    "\n",
    "Analysis of donation patterns by month reveals February as the peak month for lobbyist donations, suggesting potential strategic considerations or legislative activities during this period. Moreover, a narrower window of donation distribution between the 11th and 16th of each month highlights the concentrated timing of financial contributions within each month.\n",
    "\n",
    "Visualizations depicting the frequency distributions of select funding sources along a 'Year' timeline provide a comprehensive overview of donation trends over time. Notably, an increasing frequency distribution of lobbyist contributions is observed, indicating a growing level of lobbying activity in recent years.\n",
    "\n",
    "However, despite the observed increase in frequency, the analysis reveals that the 'net_total' of lobbyist donations does not exhibit a corresponding increase over time. Instead, it remains random, suggesting fluctuations and inconsistencies in the overall financial contributions made by lobbyists.\n",
    "\n",
    "As a result, the study concludes that based on the random distribution of the 'net_total', the predictive capability of a Random Forest model to forecast 'net_total' per year is limited. This finding underscores the complexity and unpredictability inherent in the realm of lobbyist donations, highlighting the challenges associated with modeling such behaviors. Despite the limitations, the study provides valuable insights into lobbyist money cycles and serves as a foundation for further research in the field of political finance and data analytics."
   ]
  },
  {
   "cell_type": "code",
   "execution_count": null,
   "id": "6c5a16b9",
   "metadata": {},
   "outputs": [],
   "source": []
  }
 ],
 "metadata": {
  "kernelspec": {
   "display_name": "Python 3 (ipykernel)",
   "language": "python",
   "name": "python3"
  },
  "language_info": {
   "codemirror_mode": {
    "name": "ipython",
    "version": 3
   },
   "file_extension": ".py",
   "mimetype": "text/x-python",
   "name": "python",
   "nbconvert_exporter": "python",
   "pygments_lexer": "ipython3",
   "version": "3.9.13"
  }
 },
 "nbformat": 4,
 "nbformat_minor": 5
}
