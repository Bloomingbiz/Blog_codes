{
 "cells": [
  {
   "cell_type": "markdown",
   "id": "d2932a4e",
   "metadata": {},
   "source": [
    "# The following data exploration compares Kingmaker's outputed political sentiment classification datasets against the prior Washington State 3/2024 voting census data. The full dataset for Spokane County is interrogating the Kingmaker sets to get a baseline for accuracy."
   ]
  },
  {
   "cell_type": "code",
   "execution_count": 1,
   "id": "33dca5d2",
   "metadata": {},
   "outputs": [],
   "source": [
    "#-- Importing the nessesary libraries --#\n",
    "import pandas as pd\n",
    "import numpy as np\n",
    "import seaborn as sns\n",
    "import matplotlib.pyplot as plt\n"
   ]
  },
  {
   "cell_type": "markdown",
   "id": "0689d912",
   "metadata": {},
   "source": [
    "# Importing the Spokane county reported sentiment from the 3/2024 Washington State election survey. \n"
   ]
  },
  {
   "cell_type": "code",
   "execution_count": 2,
   "id": "2583879d",
   "metadata": {},
   "outputs": [],
   "source": [
    "#-- Importing the dataset of identified Democrats --#\n",
    "\n",
    "county = pd.read_csv('/Users/michaelsegaline/Desktop/2024-3 Presidential Matchback/Spokane.csv')"
   ]
  },
  {
   "cell_type": "code",
   "execution_count": 3,
   "id": "864b0b39",
   "metadata": {},
   "outputs": [
    {
     "data": {
      "text/plain": [
       "(134667, 21)"
      ]
     },
     "execution_count": 3,
     "metadata": {},
     "output_type": "execute_result"
    }
   ],
   "source": [
    "#-- Inspecting the shape of the county dataset --#\n",
    "county.shape"
   ]
  },
  {
   "cell_type": "code",
   "execution_count": 4,
   "id": "f16e1117",
   "metadata": {},
   "outputs": [
    {
     "data": {
      "text/plain": [
       "Ballot ID             int64\n",
       "Voter ID              int64\n",
       "County               object\n",
       "First Name           object\n",
       "Last Name            object\n",
       "Gender               object\n",
       "Election             object\n",
       "Ballot Status        object\n",
       "Challenge Reason     object\n",
       "Sent Date            object\n",
       "Received Date        object\n",
       "Address              object\n",
       "City                 object\n",
       "State                object\n",
       "Zip                  object\n",
       "Country              object\n",
       "Split               float64\n",
       "Precinct              int64\n",
       "Return Method        object\n",
       "Return Location      object\n",
       "Party                object\n",
       "dtype: object"
      ]
     },
     "execution_count": 4,
     "metadata": {},
     "output_type": "execute_result"
    }
   ],
   "source": [
    "#-- Inspecting the columns and data types --#\n",
    "county.dtypes"
   ]
  },
  {
   "cell_type": "code",
   "execution_count": 5,
   "id": "1346f9a0",
   "metadata": {},
   "outputs": [
    {
     "data": {
      "text/plain": [
       "Index(['Ballot ID', 'Voter ID', 'County', 'First Name', 'Last Name', 'Gender',\n",
       "       'Election', 'Ballot Status', 'Challenge Reason', 'Sent Date',\n",
       "       'Received Date', 'Address', 'City', 'State', 'Zip', 'Country', 'Split',\n",
       "       'Precinct', 'Return Method', 'Return Location', 'Party'],\n",
       "      dtype='object')"
      ]
     },
     "execution_count": 5,
     "metadata": {},
     "output_type": "execute_result"
    }
   ],
   "source": [
    "county.columns"
   ]
  },
  {
   "cell_type": "markdown",
   "id": "28773d8c",
   "metadata": {},
   "source": [
    "# Take note of the baseline data sparcity % of the county data set."
   ]
  },
  {
   "cell_type": "code",
   "execution_count": 6,
   "id": "52fcff21",
   "metadata": {},
   "outputs": [
    {
     "name": "stdout",
     "output_type": "stream",
     "text": [
      "Ballot ID            0.000000\n",
      "Voter ID             0.000000\n",
      "County               0.000000\n",
      "First Name           0.000743\n",
      "Last Name            0.000743\n",
      "Gender               1.563115\n",
      "Election             0.000000\n",
      "Ballot Status        0.000000\n",
      "Challenge Reason    96.965107\n",
      "Sent Date            0.000000\n",
      "Received Date        0.000000\n",
      "Address              0.000000\n",
      "City                 0.002970\n",
      "State                0.166336\n",
      "Zip                  0.167821\n",
      "Country              0.000000\n",
      "Split                0.000000\n",
      "Precinct             0.000000\n",
      "Return Method        0.000000\n",
      "Return Location     63.486229\n",
      "Party                0.000000\n",
      "dtype: float64\n"
     ]
    }
   ],
   "source": [
    "#-- Now getting a data sparsity percentage per column --# \n",
    "#-- Calculate the percentage of missing values per column --#\n",
    "missing_percentage = county.isnull().mean() * 100\n",
    "\n",
    "#-- Print the results --#\n",
    "print(missing_percentage)"
   ]
  },
  {
   "cell_type": "markdown",
   "id": "fba5368a",
   "metadata": {},
   "source": [
    "# Now splitting the dataset into two seperate sets of identified Republicans and Democrats"
   ]
  },
  {
   "cell_type": "code",
   "execution_count": 7,
   "id": "ce4cb9da",
   "metadata": {},
   "outputs": [],
   "source": [
    "#-- Step 1: Drop all rows that are not labeled \"REP\" or \"DEM\" in the \"Party\" column --#\n",
    "lab_filtered = county[county['Party'].isin(['REP', 'DEM'])]\n",
    "\n",
    "#-- Step 2: Create new datasets containing only rows labeled \"REP\" --#\n",
    "dem = lab_filtered[lab_filtered['Party'] == 'DEM']\n",
    "rep = lab_filtered[lab_filtered['Party']=='REP']"
   ]
  },
  {
   "cell_type": "code",
   "execution_count": 8,
   "id": "5d98f3f7",
   "metadata": {},
   "outputs": [
    {
     "data": {
      "text/plain": [
       "(53777, 21)"
      ]
     },
     "execution_count": 8,
     "metadata": {},
     "output_type": "execute_result"
    }
   ],
   "source": [
    "#-- Inpestcing the shape of the democrat dataset --#\n",
    "dem.shape"
   ]
  },
  {
   "cell_type": "code",
   "execution_count": 9,
   "id": "124b2711",
   "metadata": {},
   "outputs": [
    {
     "data": {
      "text/plain": [
       "(78294, 21)"
      ]
     },
     "execution_count": 9,
     "metadata": {},
     "output_type": "execute_result"
    }
   ],
   "source": [
    "#-- Inspecting the shape of republican dataset --#\n",
    "rep.shape"
   ]
  },
  {
   "cell_type": "markdown",
   "id": "58c94943",
   "metadata": {},
   "source": [
    "# 53,777\n",
    "Instances of self-identified democrats in Spokane County.\n",
    "\n",
    "# 78294\n",
    "\n",
    "Instances of self-identified republicans."
   ]
  },
  {
   "cell_type": "markdown",
   "id": "4caada08",
   "metadata": {},
   "source": [
    "# Exploring Kingmaker sentiment classifications starting with 'Likely Democrat'"
   ]
  },
  {
   "cell_type": "code",
   "execution_count": 10,
   "id": "b706a459",
   "metadata": {},
   "outputs": [
    {
     "data": {
      "text/plain": [
       "(57244, 28)"
      ]
     },
     "execution_count": 10,
     "metadata": {},
     "output_type": "execute_result"
    }
   ],
   "source": [
    "#-- Importing the first dataset--#\n",
    "lkdem_raw = pd.read_csv('/Users/michaelsegaline/Desktop/Washington GOP/King Maker Sentiment Data/Kingmakerdata Dems Likely.csv')\n",
    "lkdem_raw.shape"
   ]
  },
  {
   "cell_type": "code",
   "execution_count": 11,
   "id": "0e2ad9d3",
   "metadata": {},
   "outputs": [
    {
     "data": {
      "text/plain": [
       "Index(['lal_voter_id', 'vu_id', 'user_id', 'first_name', 'middle_name',\n",
       "       'last_name', 'address', 'city', 'city_mailing', 'zipcode', 'state',\n",
       "       'phone1', 'phone2', 'precinct', 'turnout_prediction', 'contact_visit',\n",
       "       'contact_call', 'contact_text', 'contact_digital', 'contact_mail',\n",
       "       'support_status', 'tags', 'contact_visit_count', 'contact_call_count',\n",
       "       'contact_text_count', 'contact_digital_count', 'contact_mail_count',\n",
       "       'top_issue'],\n",
       "      dtype='object')"
      ]
     },
     "execution_count": 11,
     "metadata": {},
     "output_type": "execute_result"
    }
   ],
   "source": [
    "lkdem_raw.columns"
   ]
  },
  {
   "cell_type": "code",
   "execution_count": 12,
   "id": "1369ea07",
   "metadata": {},
   "outputs": [
    {
     "data": {
      "text/plain": [
       "lal_voter_id             object\n",
       "vu_id                    object\n",
       "user_id                  object\n",
       "first_name               object\n",
       "middle_name              object\n",
       "last_name                object\n",
       "address                  object\n",
       "city                     object\n",
       "city_mailing             object\n",
       "zipcode                  object\n",
       "state                    object\n",
       "phone1                   object\n",
       "phone2                   object\n",
       "precinct                 object\n",
       "turnout_prediction       object\n",
       "contact_visit            object\n",
       "contact_call             object\n",
       "contact_text             object\n",
       "contact_digital          object\n",
       "contact_mail             object\n",
       "support_status           object\n",
       "tags                     object\n",
       "contact_visit_count      object\n",
       "contact_call_count        int64\n",
       "contact_text_count        int64\n",
       "contact_digital_count     int64\n",
       "contact_mail_count        int64\n",
       "top_issue                object\n",
       "dtype: object"
      ]
     },
     "execution_count": 12,
     "metadata": {},
     "output_type": "execute_result"
    }
   ],
   "source": [
    "lkdem_raw.dtypes"
   ]
  },
  {
   "cell_type": "markdown",
   "id": "80d8f4e4",
   "metadata": {},
   "source": [
    "# Now seperating the Wasington State Voter ID"
   ]
  },
  {
   "cell_type": "code",
   "execution_count": 13,
   "id": "972cca82",
   "metadata": {},
   "outputs": [
    {
     "data": {
      "text/plain": [
       "Index(['lal_voter_id', 'vu_id', 'user_id', 'first_name', 'middle_name',\n",
       "       'last_name', 'address', 'city', 'city_mailing', 'zipcode', 'state',\n",
       "       'phone1', 'phone2', 'precinct', 'turnout_prediction', 'contact_visit',\n",
       "       'contact_call', 'contact_text', 'contact_digital', 'contact_mail',\n",
       "       'support_status', 'tags', 'contact_visit_count', 'contact_call_count',\n",
       "       'contact_text_count', 'contact_digital_count', 'contact_mail_count',\n",
       "       'top_issue', 'Voter ID'],\n",
       "      dtype='object')"
      ]
     },
     "execution_count": 13,
     "metadata": {},
     "output_type": "execute_result"
    }
   ],
   "source": [
    "\n",
    "# Extract the trailing 8 digits and assign to a new column\n",
    "lkdem_raw['Voter ID'] = lkdem_raw['vu_id'].str[3:]\n",
    "\n",
    "lkdem_raw.columns\n"
   ]
  },
  {
   "cell_type": "code",
   "execution_count": 14,
   "id": "6faed6f6",
   "metadata": {},
   "outputs": [
    {
     "data": {
      "text/plain": [
       "0        08626082\n",
       "1        01791479\n",
       "2        10803120\n",
       "3        11368047\n",
       "4        00375322\n",
       "           ...   \n",
       "57239    11432717\n",
       "57240    10492221\n",
       "57241    09676606\n",
       "57242    01643415\n",
       "57243    00732505\n",
       "Name: Voter ID, Length: 57244, dtype: object"
      ]
     },
     "execution_count": 14,
     "metadata": {},
     "output_type": "execute_result"
    }
   ],
   "source": [
    "lkdem_raw['Voter ID']"
   ]
  },
  {
   "cell_type": "code",
   "execution_count": 15,
   "id": "ba4a6622",
   "metadata": {},
   "outputs": [
    {
     "name": "stdout",
     "output_type": "stream",
     "text": [
      "lal_voter_id              0.000000\n",
      "vu_id                     0.000000\n",
      "user_id                   0.000000\n",
      "first_name                0.000000\n",
      "middle_name              11.927888\n",
      "last_name                 0.006988\n",
      "address                   0.000000\n",
      "city                      0.031444\n",
      "city_mailing              4.119209\n",
      "zipcode                   0.246314\n",
      "state                     0.008735\n",
      "phone1                   70.966389\n",
      "phone2                   63.753406\n",
      "precinct                  0.006988\n",
      "turnout_prediction        0.000000\n",
      "contact_visit            99.262805\n",
      "contact_call              0.632381\n",
      "contact_text             97.599748\n",
      "contact_digital          97.784921\n",
      "contact_mail              0.632381\n",
      "support_status           98.960590\n",
      "tags                     11.547062\n",
      "contact_visit_count       0.003494\n",
      "contact_call_count        0.000000\n",
      "contact_text_count        0.000000\n",
      "contact_digital_count     0.000000\n",
      "contact_mail_count        0.000000\n",
      "top_issue                99.236601\n",
      "Voter ID                  0.000000\n",
      "dtype: float64\n"
     ]
    }
   ],
   "source": [
    "#-- Now getting a data sparsity percentage per column --# \n",
    "#-- Calculate the percentage of missing values per column --#\n",
    "missing_percentage = lkdem_raw.isnull().mean() * 100\n",
    "\n",
    "#-- Print the results --#\n",
    "print(missing_percentage)"
   ]
  },
  {
   "cell_type": "markdown",
   "id": "ca0f14a3",
   "metadata": {},
   "source": [
    "Now engineering the label column for the democrat likely dataset."
   ]
  },
  {
   "cell_type": "code",
   "execution_count": 16,
   "id": "92e0b85e",
   "metadata": {},
   "outputs": [
    {
     "data": {
      "text/plain": [
       "Index(['lal_voter_id', 'vu_id', 'user_id', 'first_name', 'middle_name',\n",
       "       'last_name', 'address', 'city', 'city_mailing', 'zipcode', 'state',\n",
       "       'phone1', 'phone2', 'precinct', 'turnout_prediction', 'contact_visit',\n",
       "       'contact_call', 'contact_text', 'contact_digital', 'contact_mail',\n",
       "       'support_status', 'tags', 'contact_visit_count', 'contact_call_count',\n",
       "       'contact_text_count', 'contact_digital_count', 'contact_mail_count',\n",
       "       'top_issue', 'Voter ID'],\n",
       "      dtype='object')"
      ]
     },
     "execution_count": 16,
     "metadata": {},
     "output_type": "execute_result"
    }
   ],
   "source": [
    "#-- Exploring the columns --#\n",
    "lkdem = lkdem_raw\n",
    "lkdem.columns"
   ]
  },
  {
   "cell_type": "code",
   "execution_count": 17,
   "id": "cfcbaf85",
   "metadata": {},
   "outputs": [
    {
     "data": {
      "text/html": [
       "<div>\n",
       "<style scoped>\n",
       "    .dataframe tbody tr th:only-of-type {\n",
       "        vertical-align: middle;\n",
       "    }\n",
       "\n",
       "    .dataframe tbody tr th {\n",
       "        vertical-align: top;\n",
       "    }\n",
       "\n",
       "    .dataframe thead th {\n",
       "        text-align: right;\n",
       "    }\n",
       "</style>\n",
       "<table border=\"1\" class=\"dataframe\">\n",
       "  <thead>\n",
       "    <tr style=\"text-align: right;\">\n",
       "      <th></th>\n",
       "      <th>lal_voter_id</th>\n",
       "      <th>vu_id</th>\n",
       "      <th>user_id</th>\n",
       "      <th>first_name</th>\n",
       "      <th>middle_name</th>\n",
       "      <th>last_name</th>\n",
       "      <th>address</th>\n",
       "      <th>city</th>\n",
       "      <th>city_mailing</th>\n",
       "      <th>zipcode</th>\n",
       "      <th>...</th>\n",
       "      <th>contact_mail</th>\n",
       "      <th>support_status</th>\n",
       "      <th>tags</th>\n",
       "      <th>contact_visit_count</th>\n",
       "      <th>contact_call_count</th>\n",
       "      <th>contact_text_count</th>\n",
       "      <th>contact_digital_count</th>\n",
       "      <th>contact_mail_count</th>\n",
       "      <th>top_issue</th>\n",
       "      <th>Voter ID</th>\n",
       "    </tr>\n",
       "  </thead>\n",
       "  <tbody>\n",
       "    <tr>\n",
       "      <th>0</th>\n",
       "      <td>5307182420</td>\n",
       "      <td>WA008626082</td>\n",
       "      <td>61e9a5a1-5730-4710-85c3-f17248870d0c</td>\n",
       "      <td>Sef</td>\n",
       "      <td>NaN</td>\n",
       "      <td>Magrath</td>\n",
       "      <td>1419 E 7th Ave</td>\n",
       "      <td>SPOKANE</td>\n",
       "      <td>Spokane</td>\n",
       "      <td>99202</td>\n",
       "      <td>...</td>\n",
       "      <td>No</td>\n",
       "      <td>NaN</td>\n",
       "      <td>City of Spokane;Voted 2023 General</td>\n",
       "      <td>0</td>\n",
       "      <td>0</td>\n",
       "      <td>0</td>\n",
       "      <td>0</td>\n",
       "      <td>0</td>\n",
       "      <td>NaN</td>\n",
       "      <td>08626082</td>\n",
       "    </tr>\n",
       "    <tr>\n",
       "      <th>1</th>\n",
       "      <td>5306449960</td>\n",
       "      <td>WA001791479</td>\n",
       "      <td>61e9a5a1-5730-4710-85c3-f17248870d0c</td>\n",
       "      <td>Christine</td>\n",
       "      <td>M</td>\n",
       "      <td>Imes</td>\n",
       "      <td>1212 E Celesta Ave</td>\n",
       "      <td>SPOKANE</td>\n",
       "      <td>Spokane</td>\n",
       "      <td>99202</td>\n",
       "      <td>...</td>\n",
       "      <td>No</td>\n",
       "      <td>NaN</td>\n",
       "      <td>City of Spokane;Voted 2023 General</td>\n",
       "      <td>0</td>\n",
       "      <td>0</td>\n",
       "      <td>0</td>\n",
       "      <td>0</td>\n",
       "      <td>0</td>\n",
       "      <td>NaN</td>\n",
       "      <td>01791479</td>\n",
       "    </tr>\n",
       "    <tr>\n",
       "      <th>2</th>\n",
       "      <td>5309709496</td>\n",
       "      <td>WA010803120</td>\n",
       "      <td>61e9a5a1-5730-4710-85c3-f17248870d0c</td>\n",
       "      <td>Holly</td>\n",
       "      <td>Anna</td>\n",
       "      <td>Robertson</td>\n",
       "      <td>743 S Scott St Apt 105</td>\n",
       "      <td>SPOKANE</td>\n",
       "      <td>NaN</td>\n",
       "      <td>99202</td>\n",
       "      <td>...</td>\n",
       "      <td>No</td>\n",
       "      <td>NaN</td>\n",
       "      <td>City of Spokane</td>\n",
       "      <td>0</td>\n",
       "      <td>0</td>\n",
       "      <td>0</td>\n",
       "      <td>0</td>\n",
       "      <td>0</td>\n",
       "      <td>NaN</td>\n",
       "      <td>10803120</td>\n",
       "    </tr>\n",
       "    <tr>\n",
       "      <th>3</th>\n",
       "      <td>5310056329</td>\n",
       "      <td>WA011368047</td>\n",
       "      <td>61e9a5a1-5730-4710-85c3-f17248870d0c</td>\n",
       "      <td>Joseph</td>\n",
       "      <td>J</td>\n",
       "      <td>Pierce</td>\n",
       "      <td>1204 E Nina Ave</td>\n",
       "      <td>SPOKANE</td>\n",
       "      <td>Spokane</td>\n",
       "      <td>99202</td>\n",
       "      <td>...</td>\n",
       "      <td>No</td>\n",
       "      <td>NaN</td>\n",
       "      <td>City of Spokane;Voted 2023 General</td>\n",
       "      <td>0</td>\n",
       "      <td>0</td>\n",
       "      <td>0</td>\n",
       "      <td>0</td>\n",
       "      <td>0</td>\n",
       "      <td>NaN</td>\n",
       "      <td>11368047</td>\n",
       "    </tr>\n",
       "    <tr>\n",
       "      <th>4</th>\n",
       "      <td>5306836456</td>\n",
       "      <td>WA000375322</td>\n",
       "      <td>61e9a5a1-5730-4710-85c3-f17248870d0c</td>\n",
       "      <td>Richard</td>\n",
       "      <td>Ross</td>\n",
       "      <td>Peterson</td>\n",
       "      <td>1122 E 5th Ave</td>\n",
       "      <td>SPOKANE</td>\n",
       "      <td>Spokane</td>\n",
       "      <td>99202</td>\n",
       "      <td>...</td>\n",
       "      <td>No</td>\n",
       "      <td>NaN</td>\n",
       "      <td>City of Spokane;Voted 2023 General;Levy Text 1</td>\n",
       "      <td>0</td>\n",
       "      <td>0</td>\n",
       "      <td>0</td>\n",
       "      <td>0</td>\n",
       "      <td>0</td>\n",
       "      <td>NaN</td>\n",
       "      <td>00375322</td>\n",
       "    </tr>\n",
       "  </tbody>\n",
       "</table>\n",
       "<p>5 rows × 29 columns</p>\n",
       "</div>"
      ],
      "text/plain": [
       "  lal_voter_id        vu_id                               user_id first_name  \\\n",
       "0   5307182420  WA008626082  61e9a5a1-5730-4710-85c3-f17248870d0c        Sef   \n",
       "1   5306449960  WA001791479  61e9a5a1-5730-4710-85c3-f17248870d0c  Christine   \n",
       "2   5309709496  WA010803120  61e9a5a1-5730-4710-85c3-f17248870d0c      Holly   \n",
       "3   5310056329  WA011368047  61e9a5a1-5730-4710-85c3-f17248870d0c     Joseph   \n",
       "4   5306836456  WA000375322  61e9a5a1-5730-4710-85c3-f17248870d0c    Richard   \n",
       "\n",
       "  middle_name  last_name                 address     city city_mailing  \\\n",
       "0         NaN    Magrath          1419 E 7th Ave  SPOKANE      Spokane   \n",
       "1           M       Imes      1212 E Celesta Ave  SPOKANE      Spokane   \n",
       "2        Anna  Robertson  743 S Scott St Apt 105  SPOKANE          NaN   \n",
       "3           J     Pierce         1204 E Nina Ave  SPOKANE      Spokane   \n",
       "4        Ross   Peterson          1122 E 5th Ave  SPOKANE      Spokane   \n",
       "\n",
       "  zipcode  ... contact_mail support_status  \\\n",
       "0   99202  ...           No            NaN   \n",
       "1   99202  ...           No            NaN   \n",
       "2   99202  ...           No            NaN   \n",
       "3   99202  ...           No            NaN   \n",
       "4   99202  ...           No            NaN   \n",
       "\n",
       "                                             tags contact_visit_count  \\\n",
       "0              City of Spokane;Voted 2023 General                   0   \n",
       "1              City of Spokane;Voted 2023 General                   0   \n",
       "2                                 City of Spokane                   0   \n",
       "3              City of Spokane;Voted 2023 General                   0   \n",
       "4  City of Spokane;Voted 2023 General;Levy Text 1                   0   \n",
       "\n",
       "  contact_call_count contact_text_count contact_digital_count  \\\n",
       "0                  0                  0                     0   \n",
       "1                  0                  0                     0   \n",
       "2                  0                  0                     0   \n",
       "3                  0                  0                     0   \n",
       "4                  0                  0                     0   \n",
       "\n",
       "  contact_mail_count top_issue  Voter ID  \n",
       "0                  0       NaN  08626082  \n",
       "1                  0       NaN  01791479  \n",
       "2                  0       NaN  10803120  \n",
       "3                  0       NaN  11368047  \n",
       "4                  0       NaN  00375322  \n",
       "\n",
       "[5 rows x 29 columns]"
      ]
     },
     "execution_count": 17,
     "metadata": {},
     "output_type": "execute_result"
    }
   ],
   "source": [
    "lkdem.head()"
   ]
  },
  {
   "cell_type": "code",
   "execution_count": 18,
   "id": "a93806b7",
   "metadata": {},
   "outputs": [
    {
     "data": {
      "text/plain": [
       "Index(['lal_voter_id', 'vu_id', 'user_id', 'first_name', 'middle_name',\n",
       "       'last_name', 'address', 'city', 'city_mailing', 'zipcode', 'state',\n",
       "       'phone1', 'phone2', 'precinct', 'turnout_prediction', 'contact_visit',\n",
       "       'contact_call', 'contact_text', 'contact_digital', 'contact_mail',\n",
       "       'support_status', 'tags', 'contact_visit_count', 'contact_call_count',\n",
       "       'contact_text_count', 'contact_digital_count', 'contact_mail_count',\n",
       "       'top_issue', 'Voter ID'],\n",
       "      dtype='object')"
      ]
     },
     "execution_count": 18,
     "metadata": {},
     "output_type": "execute_result"
    }
   ],
   "source": [
    "#-- Exploring the shape of the dataset --#\n",
    "lkdem.columns"
   ]
  },
  {
   "cell_type": "markdown",
   "id": "17d4ba76",
   "metadata": {},
   "source": [
    "# Now  comparing the county identified democrats against the Kingmaker \"Likely Democrat\" classifications."
   ]
  },
  {
   "cell_type": "code",
   "execution_count": 19,
   "id": "791a7ef1",
   "metadata": {},
   "outputs": [
    {
     "name": "stderr",
     "output_type": "stream",
     "text": [
      "/var/folders/_5/26fwgmd14qz8pgwfvn4dfky40000gn/T/ipykernel_13580/2848493394.py:1: SettingWithCopyWarning: \n",
      "A value is trying to be set on a copy of a slice from a DataFrame.\n",
      "Try using .loc[row_indexer,col_indexer] = value instead\n",
      "\n",
      "See the caveats in the documentation: https://pandas.pydata.org/pandas-docs/stable/user_guide/indexing.html#returning-a-view-versus-a-copy\n",
      "  dem['Voter ID'] = dem['Voter ID'].astype(int)\n"
     ]
    }
   ],
   "source": [
    "\n",
    "dem['Voter ID'] = dem['Voter ID'].astype(int)\n",
    "lkdem['Voter ID'] = lkdem['Voter ID'].astype(int)\n",
    "\n",
    "# Perform the merge\n",
    "merged = pd.merge(dem, lkdem, left_on=['Voter ID'], right_on=['Voter ID'])\n",
    "\n",
    "# Merge datasets on the corresponding columns using the following variables --#\n",
    "merged = pd.merge(dem,lkdem, left_on=['Voter ID'], right_on=['Voter ID'])"
   ]
  },
  {
   "cell_type": "code",
   "execution_count": 20,
   "id": "3577617b",
   "metadata": {},
   "outputs": [
    {
     "data": {
      "text/plain": [
       "(27744, 49)"
      ]
     },
     "execution_count": 20,
     "metadata": {},
     "output_type": "execute_result"
    }
   ],
   "source": [
    "#-- Inspecting the shape of the merged dataset --#\n",
    "merged.shape"
   ]
  },
  {
   "cell_type": "markdown",
   "id": "52172ccd",
   "metadata": {},
   "source": [
    "There are 400 \"Likely democrats\" that successfully matched with the confirmed county democrats."
   ]
  },
  {
   "cell_type": "code",
   "execution_count": 21,
   "id": "344a6e08",
   "metadata": {},
   "outputs": [
    {
     "data": {
      "text/plain": [
       "0.5159082879297842"
      ]
     },
     "execution_count": 21,
     "metadata": {},
     "output_type": "execute_result"
    }
   ],
   "source": [
    "#-- Now dividing the Kingmaker 'Likely Democrat' prediction against the confirmed county democrats --# \n",
    "27744/ 53777"
   ]
  },
  {
   "cell_type": "markdown",
   "id": "1db41408",
   "metadata": {},
   "source": [
    "# 0.51 or 51%\n",
    "The accuracy score of Kingmaker's 'Likely Democrat' classification."
   ]
  },
  {
   "cell_type": "markdown",
   "id": "212212e5",
   "metadata": {},
   "source": [
    "# Exploring Kingmaker's  \"Strong Republican\" classification accuracy "
   ]
  },
  {
   "cell_type": "code",
   "execution_count": 22,
   "id": "5a70a091",
   "metadata": {},
   "outputs": [
    {
     "name": "stderr",
     "output_type": "stream",
     "text": [
      "/var/folders/_5/26fwgmd14qz8pgwfvn4dfky40000gn/T/ipykernel_13580/113509920.py:3: DtypeWarning: Columns (22,23) have mixed types. Specify dtype option on import or set low_memory=False.\n",
      "  srep = pd.read_csv('/Users/michaelsegaline/Desktop/Washington GOP/King Maker Sentiment Data/Kingmakerdata Strong Reps.csv')\n"
     ]
    },
    {
     "data": {
      "text/html": [
       "<div>\n",
       "<style scoped>\n",
       "    .dataframe tbody tr th:only-of-type {\n",
       "        vertical-align: middle;\n",
       "    }\n",
       "\n",
       "    .dataframe tbody tr th {\n",
       "        vertical-align: top;\n",
       "    }\n",
       "\n",
       "    .dataframe thead th {\n",
       "        text-align: right;\n",
       "    }\n",
       "</style>\n",
       "<table border=\"1\" class=\"dataframe\">\n",
       "  <thead>\n",
       "    <tr style=\"text-align: right;\">\n",
       "      <th></th>\n",
       "      <th>lal_voter_id</th>\n",
       "      <th>vu_id</th>\n",
       "      <th>user_id</th>\n",
       "      <th>first_name</th>\n",
       "      <th>middle_name</th>\n",
       "      <th>last_name</th>\n",
       "      <th>address</th>\n",
       "      <th>city</th>\n",
       "      <th>city_mailing</th>\n",
       "      <th>zipcode</th>\n",
       "      <th>...</th>\n",
       "      <th>contact_mail</th>\n",
       "      <th>support_status</th>\n",
       "      <th>tags</th>\n",
       "      <th>contact_visit_count</th>\n",
       "      <th>contact_call_count</th>\n",
       "      <th>contact_text_count</th>\n",
       "      <th>contact_digital_count</th>\n",
       "      <th>contact_mail_count</th>\n",
       "      <th>top_issue</th>\n",
       "      <th>Unnamed: 28</th>\n",
       "    </tr>\n",
       "  </thead>\n",
       "  <tbody>\n",
       "    <tr>\n",
       "      <th>0</th>\n",
       "      <td>5302213820</td>\n",
       "      <td>WA000677706</td>\n",
       "      <td>61e9a5a1-5730-4710-85c3-f17248870d0c</td>\n",
       "      <td>Donald</td>\n",
       "      <td>J</td>\n",
       "      <td>Moody</td>\n",
       "      <td>1224 E Celesta Ave Apt A</td>\n",
       "      <td>SPOKANE</td>\n",
       "      <td>Spokane</td>\n",
       "      <td>99202</td>\n",
       "      <td>...</td>\n",
       "      <td>No</td>\n",
       "      <td>NaN</td>\n",
       "      <td>City of Spokane;Voted 2023 General</td>\n",
       "      <td>0</td>\n",
       "      <td>0</td>\n",
       "      <td>0</td>\n",
       "      <td>0</td>\n",
       "      <td>0</td>\n",
       "      <td>NaN</td>\n",
       "      <td>NaN</td>\n",
       "    </tr>\n",
       "    <tr>\n",
       "      <th>1</th>\n",
       "      <td>5303751404</td>\n",
       "      <td>WA000199781</td>\n",
       "      <td>61e9a5a1-5730-4710-85c3-f17248870d0c</td>\n",
       "      <td>Heidi</td>\n",
       "      <td>N</td>\n",
       "      <td>Kolarsky</td>\n",
       "      <td>1212 E Nina Ave</td>\n",
       "      <td>SPOKANE</td>\n",
       "      <td>Spokane</td>\n",
       "      <td>99202</td>\n",
       "      <td>...</td>\n",
       "      <td>No</td>\n",
       "      <td>NaN</td>\n",
       "      <td>City of Spokane;Slavic;Voted 2023 General</td>\n",
       "      <td>0</td>\n",
       "      <td>0</td>\n",
       "      <td>0</td>\n",
       "      <td>0</td>\n",
       "      <td>0</td>\n",
       "      <td>NaN</td>\n",
       "      <td>NaN</td>\n",
       "    </tr>\n",
       "    <tr>\n",
       "      <th>2</th>\n",
       "      <td>5310592398</td>\n",
       "      <td>WA011883261</td>\n",
       "      <td>61e9a5a1-5730-4710-85c3-f17248870d0c</td>\n",
       "      <td>Alexander</td>\n",
       "      <td>Jeremy</td>\n",
       "      <td>Brooks</td>\n",
       "      <td>716 S Arthur St Apt 24</td>\n",
       "      <td>SPOKANE</td>\n",
       "      <td>Spokane</td>\n",
       "      <td>99202</td>\n",
       "      <td>...</td>\n",
       "      <td>No</td>\n",
       "      <td>NaN</td>\n",
       "      <td>City of Spokane;Voted 2023 General</td>\n",
       "      <td>0</td>\n",
       "      <td>0</td>\n",
       "      <td>0</td>\n",
       "      <td>0</td>\n",
       "      <td>0</td>\n",
       "      <td>NaN</td>\n",
       "      <td>NaN</td>\n",
       "    </tr>\n",
       "    <tr>\n",
       "      <th>3</th>\n",
       "      <td>5302146818</td>\n",
       "      <td>WA001792940</td>\n",
       "      <td>61e9a5a1-5730-4710-85c3-f17248870d0c</td>\n",
       "      <td>John</td>\n",
       "      <td>K</td>\n",
       "      <td>Adolfson</td>\n",
       "      <td>1118 E 8th Ave</td>\n",
       "      <td>SPOKANE</td>\n",
       "      <td>Spokane</td>\n",
       "      <td>99202</td>\n",
       "      <td>...</td>\n",
       "      <td>No</td>\n",
       "      <td>NaN</td>\n",
       "      <td>City of Spokane;Voted 2023 General</td>\n",
       "      <td>0</td>\n",
       "      <td>0</td>\n",
       "      <td>0</td>\n",
       "      <td>0</td>\n",
       "      <td>0</td>\n",
       "      <td>NaN</td>\n",
       "      <td>NaN</td>\n",
       "    </tr>\n",
       "    <tr>\n",
       "      <th>4</th>\n",
       "      <td>5307290197</td>\n",
       "      <td>WA009669629</td>\n",
       "      <td>61e9a5a1-5730-4710-85c3-f17248870d0c</td>\n",
       "      <td>Daniel</td>\n",
       "      <td>V</td>\n",
       "      <td>Kovalyov</td>\n",
       "      <td>532 S Garfield St Unit 9</td>\n",
       "      <td>SPOKANE</td>\n",
       "      <td>Spokane</td>\n",
       "      <td>99202</td>\n",
       "      <td>...</td>\n",
       "      <td>No</td>\n",
       "      <td>NaN</td>\n",
       "      <td>City of Spokane;Voted 2023 General</td>\n",
       "      <td>0</td>\n",
       "      <td>0</td>\n",
       "      <td>0</td>\n",
       "      <td>0</td>\n",
       "      <td>0</td>\n",
       "      <td>NaN</td>\n",
       "      <td>NaN</td>\n",
       "    </tr>\n",
       "    <tr>\n",
       "      <th>...</th>\n",
       "      <td>...</td>\n",
       "      <td>...</td>\n",
       "      <td>...</td>\n",
       "      <td>...</td>\n",
       "      <td>...</td>\n",
       "      <td>...</td>\n",
       "      <td>...</td>\n",
       "      <td>...</td>\n",
       "      <td>...</td>\n",
       "      <td>...</td>\n",
       "      <td>...</td>\n",
       "      <td>...</td>\n",
       "      <td>...</td>\n",
       "      <td>...</td>\n",
       "      <td>...</td>\n",
       "      <td>...</td>\n",
       "      <td>...</td>\n",
       "      <td>...</td>\n",
       "      <td>...</td>\n",
       "      <td>...</td>\n",
       "      <td>...</td>\n",
       "    </tr>\n",
       "    <tr>\n",
       "      <th>82653</th>\n",
       "      <td>5309369089</td>\n",
       "      <td>WA010426777</td>\n",
       "      <td>61e9a5a1-5730-4710-85c3-f17248870d0c</td>\n",
       "      <td>Abigail</td>\n",
       "      <td>Jeanine</td>\n",
       "      <td>Barsness</td>\n",
       "      <td>530 W 3rd St</td>\n",
       "      <td>CHENEY</td>\n",
       "      <td>Cheney</td>\n",
       "      <td>99004</td>\n",
       "      <td>...</td>\n",
       "      <td>No</td>\n",
       "      <td>NaN</td>\n",
       "      <td>Voted 2023 General</td>\n",
       "      <td>0.0</td>\n",
       "      <td>0</td>\n",
       "      <td>0</td>\n",
       "      <td>0</td>\n",
       "      <td>0</td>\n",
       "      <td>NaN</td>\n",
       "      <td>NaN</td>\n",
       "    </tr>\n",
       "    <tr>\n",
       "      <th>82654</th>\n",
       "      <td>5302267646</td>\n",
       "      <td>WA001268891</td>\n",
       "      <td>61e9a5a1-5730-4710-85c3-f17248870d0c</td>\n",
       "      <td>Regina</td>\n",
       "      <td>D</td>\n",
       "      <td>Ross</td>\n",
       "      <td>206 W 3rd St</td>\n",
       "      <td>CHENEY</td>\n",
       "      <td>Cheney</td>\n",
       "      <td>99004</td>\n",
       "      <td>...</td>\n",
       "      <td>No</td>\n",
       "      <td>NaN</td>\n",
       "      <td>Voted 2023 General</td>\n",
       "      <td>0.0</td>\n",
       "      <td>0</td>\n",
       "      <td>0</td>\n",
       "      <td>0</td>\n",
       "      <td>0</td>\n",
       "      <td>NaN</td>\n",
       "      <td>NaN</td>\n",
       "    </tr>\n",
       "    <tr>\n",
       "      <th>82655</th>\n",
       "      <td>5305931535</td>\n",
       "      <td>WA004626024</td>\n",
       "      <td>61e9a5a1-5730-4710-85c3-f17248870d0c</td>\n",
       "      <td>Michael</td>\n",
       "      <td>NaN</td>\n",
       "      <td>Christenson</td>\n",
       "      <td>165 S Alki Ln</td>\n",
       "      <td>CHENEY</td>\n",
       "      <td>Cheney</td>\n",
       "      <td>99004</td>\n",
       "      <td>...</td>\n",
       "      <td>No</td>\n",
       "      <td>NaN</td>\n",
       "      <td>NaN</td>\n",
       "      <td>0.0</td>\n",
       "      <td>0</td>\n",
       "      <td>0</td>\n",
       "      <td>0</td>\n",
       "      <td>0</td>\n",
       "      <td>NaN</td>\n",
       "      <td>NaN</td>\n",
       "    </tr>\n",
       "    <tr>\n",
       "      <th>82656</th>\n",
       "      <td>5302086680</td>\n",
       "      <td>WA000696028</td>\n",
       "      <td>61e9a5a1-5730-4710-85c3-f17248870d0c</td>\n",
       "      <td>Brenda</td>\n",
       "      <td>L</td>\n",
       "      <td>Vanmatre</td>\n",
       "      <td>20015 S Cheney Plaza Rd</td>\n",
       "      <td>CHENEY</td>\n",
       "      <td>Cheney</td>\n",
       "      <td>99004</td>\n",
       "      <td>...</td>\n",
       "      <td>No</td>\n",
       "      <td>NaN</td>\n",
       "      <td>Voted 2023 General</td>\n",
       "      <td>0.0</td>\n",
       "      <td>0</td>\n",
       "      <td>0</td>\n",
       "      <td>0</td>\n",
       "      <td>0</td>\n",
       "      <td>NaN</td>\n",
       "      <td>NaN</td>\n",
       "    </tr>\n",
       "    <tr>\n",
       "      <th>82657</th>\n",
       "      <td>5309612962</td>\n",
       "      <td>WA010693382</td>\n",
       "      <td>61e9a5a1-5730-4710-85c3-f17248870d0c</td>\n",
       "      <td>Drew</td>\n",
       "      <td>C</td>\n",
       "      <td>Hampton</td>\n",
       "      <td>11919 W Fleming Ln</td>\n",
       "      <td>CHENEY</td>\n",
       "      <td>Cheney</td>\n",
       "      <td>99004</td>\n",
       "      <td>...</td>\n",
       "      <td>No</td>\n",
       "      <td>NaN</td>\n",
       "      <td>NaN</td>\n",
       "      <td>0.0</td>\n",
       "      <td>0</td>\n",
       "      <td>0</td>\n",
       "      <td>0</td>\n",
       "      <td>0</td>\n",
       "      <td>NaN</td>\n",
       "      <td>NaN</td>\n",
       "    </tr>\n",
       "  </tbody>\n",
       "</table>\n",
       "<p>82658 rows × 29 columns</p>\n",
       "</div>"
      ],
      "text/plain": [
       "      lal_voter_id        vu_id                               user_id  \\\n",
       "0       5302213820  WA000677706  61e9a5a1-5730-4710-85c3-f17248870d0c   \n",
       "1       5303751404  WA000199781  61e9a5a1-5730-4710-85c3-f17248870d0c   \n",
       "2       5310592398  WA011883261  61e9a5a1-5730-4710-85c3-f17248870d0c   \n",
       "3       5302146818  WA001792940  61e9a5a1-5730-4710-85c3-f17248870d0c   \n",
       "4       5307290197  WA009669629  61e9a5a1-5730-4710-85c3-f17248870d0c   \n",
       "...            ...          ...                                   ...   \n",
       "82653   5309369089  WA010426777  61e9a5a1-5730-4710-85c3-f17248870d0c   \n",
       "82654   5302267646  WA001268891  61e9a5a1-5730-4710-85c3-f17248870d0c   \n",
       "82655   5305931535  WA004626024  61e9a5a1-5730-4710-85c3-f17248870d0c   \n",
       "82656   5302086680  WA000696028  61e9a5a1-5730-4710-85c3-f17248870d0c   \n",
       "82657   5309612962  WA010693382  61e9a5a1-5730-4710-85c3-f17248870d0c   \n",
       "\n",
       "      first_name middle_name    last_name                   address     city  \\\n",
       "0         Donald           J        Moody  1224 E Celesta Ave Apt A  SPOKANE   \n",
       "1          Heidi           N     Kolarsky           1212 E Nina Ave  SPOKANE   \n",
       "2      Alexander      Jeremy       Brooks    716 S Arthur St Apt 24  SPOKANE   \n",
       "3           John           K     Adolfson            1118 E 8th Ave  SPOKANE   \n",
       "4         Daniel           V     Kovalyov  532 S Garfield St Unit 9  SPOKANE   \n",
       "...          ...         ...          ...                       ...      ...   \n",
       "82653    Abigail     Jeanine     Barsness              530 W 3rd St   CHENEY   \n",
       "82654     Regina           D         Ross              206 W 3rd St   CHENEY   \n",
       "82655    Michael         NaN  Christenson             165 S Alki Ln   CHENEY   \n",
       "82656     Brenda           L     Vanmatre   20015 S Cheney Plaza Rd   CHENEY   \n",
       "82657       Drew           C      Hampton        11919 W Fleming Ln   CHENEY   \n",
       "\n",
       "      city_mailing zipcode  ... contact_mail support_status  \\\n",
       "0          Spokane   99202  ...           No            NaN   \n",
       "1          Spokane   99202  ...           No            NaN   \n",
       "2          Spokane   99202  ...           No            NaN   \n",
       "3          Spokane   99202  ...           No            NaN   \n",
       "4          Spokane   99202  ...           No            NaN   \n",
       "...            ...     ...  ...          ...            ...   \n",
       "82653       Cheney   99004  ...           No            NaN   \n",
       "82654       Cheney   99004  ...           No            NaN   \n",
       "82655       Cheney   99004  ...           No            NaN   \n",
       "82656       Cheney   99004  ...           No            NaN   \n",
       "82657       Cheney   99004  ...           No            NaN   \n",
       "\n",
       "                                            tags contact_visit_count  \\\n",
       "0             City of Spokane;Voted 2023 General                   0   \n",
       "1      City of Spokane;Slavic;Voted 2023 General                   0   \n",
       "2             City of Spokane;Voted 2023 General                   0   \n",
       "3             City of Spokane;Voted 2023 General                   0   \n",
       "4             City of Spokane;Voted 2023 General                   0   \n",
       "...                                          ...                 ...   \n",
       "82653                         Voted 2023 General                 0.0   \n",
       "82654                         Voted 2023 General                 0.0   \n",
       "82655                                        NaN                 0.0   \n",
       "82656                         Voted 2023 General                 0.0   \n",
       "82657                                        NaN                 0.0   \n",
       "\n",
       "      contact_call_count contact_text_count contact_digital_count  \\\n",
       "0                      0                  0                     0   \n",
       "1                      0                  0                     0   \n",
       "2                      0                  0                     0   \n",
       "3                      0                  0                     0   \n",
       "4                      0                  0                     0   \n",
       "...                  ...                ...                   ...   \n",
       "82653                  0                  0                     0   \n",
       "82654                  0                  0                     0   \n",
       "82655                  0                  0                     0   \n",
       "82656                  0                  0                     0   \n",
       "82657                  0                  0                     0   \n",
       "\n",
       "      contact_mail_count top_issue Unnamed: 28  \n",
       "0                      0       NaN         NaN  \n",
       "1                      0       NaN         NaN  \n",
       "2                      0       NaN         NaN  \n",
       "3                      0       NaN         NaN  \n",
       "4                      0       NaN         NaN  \n",
       "...                  ...       ...         ...  \n",
       "82653                  0       NaN         NaN  \n",
       "82654                  0       NaN         NaN  \n",
       "82655                  0       NaN         NaN  \n",
       "82656                  0       NaN         NaN  \n",
       "82657                  0       NaN         NaN  \n",
       "\n",
       "[82658 rows x 29 columns]"
      ]
     },
     "execution_count": 22,
     "metadata": {},
     "output_type": "execute_result"
    }
   ],
   "source": [
    "#-- Importing the raw Kingmaker Data of Republicans --#\n",
    "\n",
    "srep = pd.read_csv('/Users/michaelsegaline/Desktop/Washington GOP/King Maker Sentiment Data/Kingmakerdata Strong Reps.csv')\n",
    "srep"
   ]
  },
  {
   "cell_type": "code",
   "execution_count": 23,
   "id": "3a97b1bd",
   "metadata": {},
   "outputs": [
    {
     "name": "stdout",
     "output_type": "stream",
     "text": [
      "lal_voter_id              0.000000\n",
      "vu_id                     0.000000\n",
      "user_id                   0.000000\n",
      "first_name                0.000000\n",
      "middle_name              11.848823\n",
      "last_name                 0.004839\n",
      "address                   0.000000\n",
      "city                      0.056861\n",
      "city_mailing              5.745360\n",
      "zipcode                   0.114931\n",
      "state                     0.022986\n",
      "phone1                   69.649641\n",
      "phone2                   61.350384\n",
      "precinct                  0.085896\n",
      "turnout_prediction        0.001210\n",
      "contact_visit            96.387524\n",
      "contact_call              0.597643\n",
      "contact_text             64.847928\n",
      "contact_digital          74.375136\n",
      "contact_mail              0.597643\n",
      "support_status           95.011977\n",
      "tags                     17.341334\n",
      "contact_visit_count       0.015727\n",
      "contact_call_count        0.001210\n",
      "contact_text_count        0.000000\n",
      "contact_digital_count     0.000000\n",
      "contact_mail_count        0.000000\n",
      "top_issue                98.175615\n",
      "Unnamed: 28              99.997580\n",
      "dtype: float64\n"
     ]
    }
   ],
   "source": [
    "#-- Now getting a data sparsity percentage per column --# \n",
    "#-- Calculate the percentage of missing values per column --#\n",
    "missing_percentage = srep.isnull().mean() * 100\n",
    "\n",
    "#-- Print the results --#\n",
    "print(missing_percentage)"
   ]
  },
  {
   "cell_type": "code",
   "execution_count": 47,
   "id": "1ac667cb",
   "metadata": {},
   "outputs": [
    {
     "data": {
      "text/plain": [
       "(82658, 30)"
      ]
     },
     "execution_count": 47,
     "metadata": {},
     "output_type": "execute_result"
    }
   ],
   "source": [
    "srep.shape"
   ]
  },
  {
   "cell_type": "code",
   "execution_count": 25,
   "id": "9477a62c",
   "metadata": {},
   "outputs": [
    {
     "data": {
      "text/plain": [
       "Index(['lal_voter_id', 'vu_id', 'user_id', 'first_name', 'middle_name',\n",
       "       'last_name', 'address', 'city', 'city_mailing', 'zipcode', 'state',\n",
       "       'phone1', 'phone2', 'precinct', 'turnout_prediction', 'contact_visit',\n",
       "       'contact_call', 'contact_text', 'contact_digital', 'contact_mail',\n",
       "       'support_status', 'tags', 'contact_visit_count', 'contact_call_count',\n",
       "       'contact_text_count', 'contact_digital_count', 'contact_mail_count',\n",
       "       'top_issue', 'Unnamed: 28', 'Voter ID'],\n",
       "      dtype='object')"
      ]
     },
     "execution_count": 25,
     "metadata": {},
     "output_type": "execute_result"
    }
   ],
   "source": [
    "# Extract the trailing 8 digits and assign to a new column\n",
    "srep['Voter ID'] = srep['vu_id'].str[3:]\n",
    "\n",
    "srep.columns\n"
   ]
  },
  {
   "cell_type": "code",
   "execution_count": 26,
   "id": "be758197",
   "metadata": {},
   "outputs": [
    {
     "name": "stderr",
     "output_type": "stream",
     "text": [
      "/var/folders/_5/26fwgmd14qz8pgwfvn4dfky40000gn/T/ipykernel_13580/2313170250.py:1: SettingWithCopyWarning: \n",
      "A value is trying to be set on a copy of a slice from a DataFrame.\n",
      "Try using .loc[row_indexer,col_indexer] = value instead\n",
      "\n",
      "See the caveats in the documentation: https://pandas.pydata.org/pandas-docs/stable/user_guide/indexing.html#returning-a-view-versus-a-copy\n",
      "  rep['Voter ID'] = rep['Voter ID'].astype(int)\n"
     ]
    }
   ],
   "source": [
    "rep['Voter ID'] = rep['Voter ID'].astype(int)\n",
    "srep['Voter ID'] = srep['Voter ID'].astype(int)\n",
    "\n",
    "\n"
   ]
  },
  {
   "cell_type": "markdown",
   "id": "f9fff47b",
   "metadata": {},
   "source": [
    "# Now concatinating and comparing the confirmed county republicans  against Kingmaker's \"Strong Republican\" classifications."
   ]
  },
  {
   "cell_type": "code",
   "execution_count": 27,
   "id": "cf586422",
   "metadata": {},
   "outputs": [],
   "source": [
    "#-- Merge datasets on the corresponding columns --#\n",
    "merged2 = pd.merge(rep,srep, left_on=['Voter ID'], right_on=['Voter ID'])"
   ]
  },
  {
   "cell_type": "markdown",
   "id": "a353ccd2",
   "metadata": {},
   "source": []
  },
  {
   "cell_type": "code",
   "execution_count": 28,
   "id": "986c0b94",
   "metadata": {},
   "outputs": [
    {
     "data": {
      "text/plain": [
       "(40779, 50)"
      ]
     },
     "execution_count": 28,
     "metadata": {},
     "output_type": "execute_result"
    }
   ],
   "source": [
    "#-- Inpspecting the shape--#\n",
    "merged2.shape"
   ]
  },
  {
   "cell_type": "code",
   "execution_count": 29,
   "id": "9987bcad",
   "metadata": {},
   "outputs": [
    {
     "data": {
      "text/plain": [
       "0.5208445091577899"
      ]
     },
     "execution_count": 29,
     "metadata": {},
     "output_type": "execute_result"
    }
   ],
   "source": [
    "40779 / 78294"
   ]
  },
  {
   "cell_type": "markdown",
   "id": "ef677a45",
   "metadata": {},
   "source": [
    "# 0.52 or 52% accurate at predicting Strong Republicans"
   ]
  },
  {
   "cell_type": "code",
   "execution_count": 30,
   "id": "223c0c07",
   "metadata": {},
   "outputs": [],
   "source": [
    "#Emerged.to_csv('/Users/michaelsegaline/Desktop/Washington GOP/King Maker Sentiment Data/cleaned kingmaker data/repYes.csv')"
   ]
  },
  {
   "cell_type": "code",
   "execution_count": null,
   "id": "e32bf2be",
   "metadata": {},
   "outputs": [],
   "source": []
  },
  {
   "cell_type": "markdown",
   "id": "cb2870c4",
   "metadata": {},
   "source": [
    "# Exploring Kingmaker's \"Strong Democrat\" classification accuracy"
   ]
  },
  {
   "cell_type": "code",
   "execution_count": 31,
   "id": "6e84a02f",
   "metadata": {
    "scrolled": true
   },
   "outputs": [
    {
     "name": "stderr",
     "output_type": "stream",
     "text": [
      "/var/folders/_5/26fwgmd14qz8pgwfvn4dfky40000gn/T/ipykernel_13580/1585055716.py:3: DtypeWarning: Columns (9,11) have mixed types. Specify dtype option on import or set low_memory=False.\n",
      "  sdem = pd.read_csv('/Users/michaelsegaline/Desktop/Washington GOP/King Maker Sentiment Data/Kingmaker Strong Dem.csv')\n"
     ]
    },
    {
     "data": {
      "text/html": [
       "<div>\n",
       "<style scoped>\n",
       "    .dataframe tbody tr th:only-of-type {\n",
       "        vertical-align: middle;\n",
       "    }\n",
       "\n",
       "    .dataframe tbody tr th {\n",
       "        vertical-align: top;\n",
       "    }\n",
       "\n",
       "    .dataframe thead th {\n",
       "        text-align: right;\n",
       "    }\n",
       "</style>\n",
       "<table border=\"1\" class=\"dataframe\">\n",
       "  <thead>\n",
       "    <tr style=\"text-align: right;\">\n",
       "      <th></th>\n",
       "      <th>lal_voter_id</th>\n",
       "      <th>vu_id</th>\n",
       "      <th>user_id</th>\n",
       "      <th>first_name</th>\n",
       "      <th>middle_name</th>\n",
       "      <th>last_name</th>\n",
       "      <th>address</th>\n",
       "      <th>city</th>\n",
       "      <th>city_mailing</th>\n",
       "      <th>zipcode</th>\n",
       "      <th>...</th>\n",
       "      <th>contact_digital</th>\n",
       "      <th>contact_mail</th>\n",
       "      <th>support_status</th>\n",
       "      <th>tags</th>\n",
       "      <th>contact_visit_count</th>\n",
       "      <th>contact_call_count</th>\n",
       "      <th>contact_text_count</th>\n",
       "      <th>contact_digital_count</th>\n",
       "      <th>contact_mail_count</th>\n",
       "      <th>top_issue</th>\n",
       "    </tr>\n",
       "  </thead>\n",
       "  <tbody>\n",
       "    <tr>\n",
       "      <th>0</th>\n",
       "      <td>5304702442</td>\n",
       "      <td>WA000694308</td>\n",
       "      <td>61e9a5a1-5730-4710-85c3-f17248870d0c</td>\n",
       "      <td>Frances</td>\n",
       "      <td>A</td>\n",
       "      <td>Awbery</td>\n",
       "      <td>11115 E Dean Ave</td>\n",
       "      <td>SPOKANE VALLEY</td>\n",
       "      <td>Spokane Valley</td>\n",
       "      <td>99206</td>\n",
       "      <td>...</td>\n",
       "      <td>NaN</td>\n",
       "      <td>No</td>\n",
       "      <td>NaN</td>\n",
       "      <td>Central Valley SD</td>\n",
       "      <td>0.0</td>\n",
       "      <td>0</td>\n",
       "      <td>0</td>\n",
       "      <td>0</td>\n",
       "      <td>0</td>\n",
       "      <td>NaN</td>\n",
       "    </tr>\n",
       "    <tr>\n",
       "      <th>1</th>\n",
       "      <td>5310893682</td>\n",
       "      <td>WA012047102</td>\n",
       "      <td>61e9a5a1-5730-4710-85c3-f17248870d0c</td>\n",
       "      <td>Julia</td>\n",
       "      <td>Camille</td>\n",
       "      <td>Bjerkestrand</td>\n",
       "      <td>432 W Glass Ave</td>\n",
       "      <td>SPOKANE</td>\n",
       "      <td>Spokane</td>\n",
       "      <td>99205</td>\n",
       "      <td>...</td>\n",
       "      <td>NaN</td>\n",
       "      <td>No</td>\n",
       "      <td>NaN</td>\n",
       "      <td>City of Spokane;Voted 2023 General</td>\n",
       "      <td>0.0</td>\n",
       "      <td>0</td>\n",
       "      <td>0</td>\n",
       "      <td>0</td>\n",
       "      <td>0</td>\n",
       "      <td>NaN</td>\n",
       "    </tr>\n",
       "    <tr>\n",
       "      <th>2</th>\n",
       "      <td>5311258498</td>\n",
       "      <td>WA011956959</td>\n",
       "      <td>61e9a5a1-5730-4710-85c3-f17248870d0c</td>\n",
       "      <td>Christopher</td>\n",
       "      <td>Ray</td>\n",
       "      <td>Levi</td>\n",
       "      <td>17606 E Mission Ave</td>\n",
       "      <td>SPOKANE VALLEY</td>\n",
       "      <td>Spokane Valley</td>\n",
       "      <td>99016</td>\n",
       "      <td>...</td>\n",
       "      <td>NaN</td>\n",
       "      <td>No</td>\n",
       "      <td>NaN</td>\n",
       "      <td>Central Valley SD</td>\n",
       "      <td>0.0</td>\n",
       "      <td>0</td>\n",
       "      <td>0</td>\n",
       "      <td>0</td>\n",
       "      <td>0</td>\n",
       "      <td>NaN</td>\n",
       "    </tr>\n",
       "    <tr>\n",
       "      <th>3</th>\n",
       "      <td>5304463241</td>\n",
       "      <td>WA003117606</td>\n",
       "      <td>61e9a5a1-5730-4710-85c3-f17248870d0c</td>\n",
       "      <td>Sarah</td>\n",
       "      <td>A</td>\n",
       "      <td>Murphy</td>\n",
       "      <td>3410 E 13th Ave</td>\n",
       "      <td>SPOKANE</td>\n",
       "      <td>Spokane</td>\n",
       "      <td>99202</td>\n",
       "      <td>...</td>\n",
       "      <td>NaN</td>\n",
       "      <td>No</td>\n",
       "      <td>NaN</td>\n",
       "      <td>City of Spokane;Voted 2023 General</td>\n",
       "      <td>0.0</td>\n",
       "      <td>0</td>\n",
       "      <td>0</td>\n",
       "      <td>0</td>\n",
       "      <td>0</td>\n",
       "      <td>NaN</td>\n",
       "    </tr>\n",
       "    <tr>\n",
       "      <th>4</th>\n",
       "      <td>5308161074</td>\n",
       "      <td>WA008390791</td>\n",
       "      <td>61e9a5a1-5730-4710-85c3-f17248870d0c</td>\n",
       "      <td>Donna</td>\n",
       "      <td>Ann</td>\n",
       "      <td>Fields</td>\n",
       "      <td>21655 E Rockrose Ln</td>\n",
       "      <td>LIBERTY LAKE</td>\n",
       "      <td>NaN</td>\n",
       "      <td>99019</td>\n",
       "      <td>...</td>\n",
       "      <td>NaN</td>\n",
       "      <td>No</td>\n",
       "      <td>NaN</td>\n",
       "      <td>Central Valley SD</td>\n",
       "      <td>0.0</td>\n",
       "      <td>0</td>\n",
       "      <td>0</td>\n",
       "      <td>0</td>\n",
       "      <td>0</td>\n",
       "      <td>NaN</td>\n",
       "    </tr>\n",
       "    <tr>\n",
       "      <th>...</th>\n",
       "      <td>...</td>\n",
       "      <td>...</td>\n",
       "      <td>...</td>\n",
       "      <td>...</td>\n",
       "      <td>...</td>\n",
       "      <td>...</td>\n",
       "      <td>...</td>\n",
       "      <td>...</td>\n",
       "      <td>...</td>\n",
       "      <td>...</td>\n",
       "      <td>...</td>\n",
       "      <td>...</td>\n",
       "      <td>...</td>\n",
       "      <td>...</td>\n",
       "      <td>...</td>\n",
       "      <td>...</td>\n",
       "      <td>...</td>\n",
       "      <td>...</td>\n",
       "      <td>...</td>\n",
       "      <td>...</td>\n",
       "      <td>...</td>\n",
       "    </tr>\n",
       "    <tr>\n",
       "      <th>36694</th>\n",
       "      <td>5309633960</td>\n",
       "      <td>WA010699838</td>\n",
       "      <td>61e9a5a1-5730-4710-85c3-f17248870d0c</td>\n",
       "      <td>Cynthia</td>\n",
       "      <td>Louise</td>\n",
       "      <td>Masri</td>\n",
       "      <td>7506 N Panorama Dr</td>\n",
       "      <td>SPOKANE</td>\n",
       "      <td>Spokane</td>\n",
       "      <td>99208.0</td>\n",
       "      <td>...</td>\n",
       "      <td>NaN</td>\n",
       "      <td>No</td>\n",
       "      <td>NaN</td>\n",
       "      <td>City of Spokane;Voted 2023 General</td>\n",
       "      <td>0.0</td>\n",
       "      <td>0</td>\n",
       "      <td>0</td>\n",
       "      <td>0</td>\n",
       "      <td>0</td>\n",
       "      <td>NaN</td>\n",
       "    </tr>\n",
       "    <tr>\n",
       "      <th>36695</th>\n",
       "      <td>5302084421</td>\n",
       "      <td>WA005134633</td>\n",
       "      <td>61e9a5a1-5730-4710-85c3-f17248870d0c</td>\n",
       "      <td>Debra</td>\n",
       "      <td>L</td>\n",
       "      <td>Tobler</td>\n",
       "      <td>8617 N Hill N Dale St</td>\n",
       "      <td>SPOKANE</td>\n",
       "      <td>Spokane</td>\n",
       "      <td>99208.0</td>\n",
       "      <td>...</td>\n",
       "      <td>NaN</td>\n",
       "      <td>No</td>\n",
       "      <td>NaN</td>\n",
       "      <td>City of Spokane;Voted 2023 General;Levy Text 1</td>\n",
       "      <td>0.0</td>\n",
       "      <td>0</td>\n",
       "      <td>0</td>\n",
       "      <td>0</td>\n",
       "      <td>0</td>\n",
       "      <td>NaN</td>\n",
       "    </tr>\n",
       "    <tr>\n",
       "      <th>36696</th>\n",
       "      <td>5309734672</td>\n",
       "      <td>WA010799067</td>\n",
       "      <td>61e9a5a1-5730-4710-85c3-f17248870d0c</td>\n",
       "      <td>Garrett</td>\n",
       "      <td>P</td>\n",
       "      <td>Stenehjem</td>\n",
       "      <td>1927 E 15th Ave</td>\n",
       "      <td>SPOKANE</td>\n",
       "      <td>Spokane</td>\n",
       "      <td>99203.0</td>\n",
       "      <td>...</td>\n",
       "      <td>NaN</td>\n",
       "      <td>No</td>\n",
       "      <td>NaN</td>\n",
       "      <td>City of Spokane;Voted 2023 General</td>\n",
       "      <td>0.0</td>\n",
       "      <td>0</td>\n",
       "      <td>0</td>\n",
       "      <td>0</td>\n",
       "      <td>0</td>\n",
       "      <td>NaN</td>\n",
       "    </tr>\n",
       "    <tr>\n",
       "      <th>36697</th>\n",
       "      <td>5304700983</td>\n",
       "      <td>WA000250504</td>\n",
       "      <td>61e9a5a1-5730-4710-85c3-f17248870d0c</td>\n",
       "      <td>Roberta</td>\n",
       "      <td>R</td>\n",
       "      <td>Mackin</td>\n",
       "      <td>7007 N Wiscomb St Apt 210</td>\n",
       "      <td>SPOKANE</td>\n",
       "      <td>Spokane</td>\n",
       "      <td>99208.0</td>\n",
       "      <td>...</td>\n",
       "      <td>NaN</td>\n",
       "      <td>No</td>\n",
       "      <td>NaN</td>\n",
       "      <td>City of Spokane</td>\n",
       "      <td>0.0</td>\n",
       "      <td>0</td>\n",
       "      <td>0</td>\n",
       "      <td>0</td>\n",
       "      <td>0</td>\n",
       "      <td>NaN</td>\n",
       "    </tr>\n",
       "    <tr>\n",
       "      <th>36698</th>\n",
       "      <td>5309791603</td>\n",
       "      <td>WA011008377</td>\n",
       "      <td>61e9a5a1-5730-4710-85c3-f17248870d0c</td>\n",
       "      <td>Nicole</td>\n",
       "      <td>Andree</td>\n",
       "      <td>Erickson</td>\n",
       "      <td>15317 N Gleneden St</td>\n",
       "      <td>SPOKANE</td>\n",
       "      <td>Spokane</td>\n",
       "      <td>99208.0</td>\n",
       "      <td>...</td>\n",
       "      <td>NaN</td>\n",
       "      <td>No</td>\n",
       "      <td>NaN</td>\n",
       "      <td>Voted 2023 General</td>\n",
       "      <td>0.0</td>\n",
       "      <td>0</td>\n",
       "      <td>0</td>\n",
       "      <td>0</td>\n",
       "      <td>0</td>\n",
       "      <td>NaN</td>\n",
       "    </tr>\n",
       "  </tbody>\n",
       "</table>\n",
       "<p>36699 rows × 28 columns</p>\n",
       "</div>"
      ],
      "text/plain": [
       "      lal_voter_id        vu_id                               user_id  \\\n",
       "0       5304702442  WA000694308  61e9a5a1-5730-4710-85c3-f17248870d0c   \n",
       "1       5310893682  WA012047102  61e9a5a1-5730-4710-85c3-f17248870d0c   \n",
       "2       5311258498  WA011956959  61e9a5a1-5730-4710-85c3-f17248870d0c   \n",
       "3       5304463241  WA003117606  61e9a5a1-5730-4710-85c3-f17248870d0c   \n",
       "4       5308161074  WA008390791  61e9a5a1-5730-4710-85c3-f17248870d0c   \n",
       "...            ...          ...                                   ...   \n",
       "36694   5309633960  WA010699838  61e9a5a1-5730-4710-85c3-f17248870d0c   \n",
       "36695   5302084421  WA005134633  61e9a5a1-5730-4710-85c3-f17248870d0c   \n",
       "36696   5309734672  WA010799067  61e9a5a1-5730-4710-85c3-f17248870d0c   \n",
       "36697   5304700983  WA000250504  61e9a5a1-5730-4710-85c3-f17248870d0c   \n",
       "36698   5309791603  WA011008377  61e9a5a1-5730-4710-85c3-f17248870d0c   \n",
       "\n",
       "        first_name middle_name     last_name                    address  \\\n",
       "0          Frances           A        Awbery           11115 E Dean Ave   \n",
       "1            Julia     Camille  Bjerkestrand            432 W Glass Ave   \n",
       "2      Christopher         Ray          Levi        17606 E Mission Ave   \n",
       "3            Sarah           A        Murphy            3410 E 13th Ave   \n",
       "4            Donna         Ann        Fields        21655 E Rockrose Ln   \n",
       "...            ...         ...           ...                        ...   \n",
       "36694      Cynthia      Louise         Masri         7506 N Panorama Dr   \n",
       "36695        Debra           L        Tobler      8617 N Hill N Dale St   \n",
       "36696      Garrett           P     Stenehjem            1927 E 15th Ave   \n",
       "36697      Roberta           R        Mackin  7007 N Wiscomb St Apt 210   \n",
       "36698       Nicole      Andree      Erickson        15317 N Gleneden St   \n",
       "\n",
       "                 city    city_mailing  zipcode  ... contact_digital  \\\n",
       "0      SPOKANE VALLEY  Spokane Valley    99206  ...             NaN   \n",
       "1             SPOKANE         Spokane    99205  ...             NaN   \n",
       "2      SPOKANE VALLEY  Spokane Valley    99016  ...             NaN   \n",
       "3             SPOKANE         Spokane    99202  ...             NaN   \n",
       "4        LIBERTY LAKE             NaN    99019  ...             NaN   \n",
       "...               ...             ...      ...  ...             ...   \n",
       "36694         SPOKANE         Spokane  99208.0  ...             NaN   \n",
       "36695         SPOKANE         Spokane  99208.0  ...             NaN   \n",
       "36696         SPOKANE         Spokane  99203.0  ...             NaN   \n",
       "36697         SPOKANE         Spokane  99208.0  ...             NaN   \n",
       "36698         SPOKANE         Spokane  99208.0  ...             NaN   \n",
       "\n",
       "      contact_mail support_status  \\\n",
       "0               No            NaN   \n",
       "1               No            NaN   \n",
       "2               No            NaN   \n",
       "3               No            NaN   \n",
       "4               No            NaN   \n",
       "...            ...            ...   \n",
       "36694           No            NaN   \n",
       "36695           No            NaN   \n",
       "36696           No            NaN   \n",
       "36697           No            NaN   \n",
       "36698           No            NaN   \n",
       "\n",
       "                                                 tags contact_visit_count  \\\n",
       "0                                   Central Valley SD                 0.0   \n",
       "1                  City of Spokane;Voted 2023 General                 0.0   \n",
       "2                                   Central Valley SD                 0.0   \n",
       "3                  City of Spokane;Voted 2023 General                 0.0   \n",
       "4                                   Central Valley SD                 0.0   \n",
       "...                                               ...                 ...   \n",
       "36694              City of Spokane;Voted 2023 General                 0.0   \n",
       "36695  City of Spokane;Voted 2023 General;Levy Text 1                 0.0   \n",
       "36696              City of Spokane;Voted 2023 General                 0.0   \n",
       "36697                                 City of Spokane                 0.0   \n",
       "36698                              Voted 2023 General                 0.0   \n",
       "\n",
       "      contact_call_count contact_text_count contact_digital_count  \\\n",
       "0                      0                  0                     0   \n",
       "1                      0                  0                     0   \n",
       "2                      0                  0                     0   \n",
       "3                      0                  0                     0   \n",
       "4                      0                  0                     0   \n",
       "...                  ...                ...                   ...   \n",
       "36694                  0                  0                     0   \n",
       "36695                  0                  0                     0   \n",
       "36696                  0                  0                     0   \n",
       "36697                  0                  0                     0   \n",
       "36698                  0                  0                     0   \n",
       "\n",
       "      contact_mail_count top_issue  \n",
       "0                      0       NaN  \n",
       "1                      0       NaN  \n",
       "2                      0       NaN  \n",
       "3                      0       NaN  \n",
       "4                      0       NaN  \n",
       "...                  ...       ...  \n",
       "36694                  0       NaN  \n",
       "36695                  0       NaN  \n",
       "36696                  0       NaN  \n",
       "36697                  0       NaN  \n",
       "36698                  0       NaN  \n",
       "\n",
       "[36699 rows x 28 columns]"
      ]
     },
     "execution_count": 31,
     "metadata": {},
     "output_type": "execute_result"
    }
   ],
   "source": [
    "#-- Importing the raw Kingmaker Data of Democrats --#\n",
    "\n",
    "sdem = pd.read_csv('/Users/michaelsegaline/Desktop/Washington GOP/King Maker Sentiment Data/Kingmaker Strong Dem.csv')\n",
    "sdem"
   ]
  },
  {
   "cell_type": "markdown",
   "id": "02e70cb7",
   "metadata": {},
   "source": [
    "# Again, notice how the sparisty % of the Kingmaker's classified democrats, is the approximent ratio to the county's variable sparsity percentage "
   ]
  },
  {
   "cell_type": "code",
   "execution_count": 32,
   "id": "b77da411",
   "metadata": {},
   "outputs": [
    {
     "name": "stdout",
     "output_type": "stream",
     "text": [
      "lal_voter_id              0.000000\n",
      "vu_id                     0.000000\n",
      "user_id                   0.000000\n",
      "first_name                0.000000\n",
      "middle_name              11.468977\n",
      "last_name                 0.008175\n",
      "address                   0.000000\n",
      "city                      0.049048\n",
      "city_mailing              6.425243\n",
      "zipcode                   0.253413\n",
      "state                     0.002725\n",
      "phone1                   69.132674\n",
      "phone2                   68.898335\n",
      "precinct                  0.000000\n",
      "turnout_prediction        0.000000\n",
      "contact_visit            99.457751\n",
      "contact_call              0.673043\n",
      "contact_text             99.700264\n",
      "contact_digital          99.307883\n",
      "contact_mail              0.673043\n",
      "support_status           99.215237\n",
      "tags                     11.842285\n",
      "contact_visit_count       0.002725\n",
      "contact_call_count        0.000000\n",
      "contact_text_count        0.000000\n",
      "contact_digital_count     0.000000\n",
      "contact_mail_count        0.000000\n",
      "top_issue                99.411428\n",
      "dtype: float64\n"
     ]
    }
   ],
   "source": [
    "#-- Now getting a data sparsity percentage per column --# \n",
    "#-- Calculate the percentage of missing values per column --#\n",
    "missing_percentage = sdem.isnull().mean() * 100\n",
    "\n",
    "#-- Print the results --#\n",
    "print(missing_percentage)"
   ]
  },
  {
   "cell_type": "code",
   "execution_count": 46,
   "id": "58e6b12e",
   "metadata": {},
   "outputs": [
    {
     "data": {
      "text/plain": [
       "(36699, 29)"
      ]
     },
     "execution_count": 46,
     "metadata": {},
     "output_type": "execute_result"
    }
   ],
   "source": [
    "#-- Inspecting the shape of the dataset --#\n",
    "sdem.shape"
   ]
  },
  {
   "cell_type": "code",
   "execution_count": 33,
   "id": "372bcdd3",
   "metadata": {},
   "outputs": [
    {
     "data": {
      "text/plain": [
       "Index(['lal_voter_id', 'vu_id', 'user_id', 'first_name', 'middle_name',\n",
       "       'last_name', 'address', 'city', 'city_mailing', 'zipcode', 'state',\n",
       "       'phone1', 'phone2', 'precinct', 'turnout_prediction', 'contact_visit',\n",
       "       'contact_call', 'contact_text', 'contact_digital', 'contact_mail',\n",
       "       'support_status', 'tags', 'contact_visit_count', 'contact_call_count',\n",
       "       'contact_text_count', 'contact_digital_count', 'contact_mail_count',\n",
       "       'top_issue', 'Voter ID'],\n",
       "      dtype='object')"
      ]
     },
     "execution_count": 33,
     "metadata": {},
     "output_type": "execute_result"
    }
   ],
   "source": [
    "# Extract the trailing 8 digits and assign to a new column\n",
    "sdem['Voter ID'] = sdem['vu_id'].str[3:]\n",
    "\n",
    "sdem.columns\n"
   ]
  },
  {
   "cell_type": "code",
   "execution_count": 34,
   "id": "4e222119",
   "metadata": {},
   "outputs": [
    {
     "name": "stderr",
     "output_type": "stream",
     "text": [
      "/var/folders/_5/26fwgmd14qz8pgwfvn4dfky40000gn/T/ipykernel_13580/2628588489.py:1: SettingWithCopyWarning: \n",
      "A value is trying to be set on a copy of a slice from a DataFrame.\n",
      "Try using .loc[row_indexer,col_indexer] = value instead\n",
      "\n",
      "See the caveats in the documentation: https://pandas.pydata.org/pandas-docs/stable/user_guide/indexing.html#returning-a-view-versus-a-copy\n",
      "  dem['Voter ID'] = dem['Voter ID'].astype(int)\n"
     ]
    }
   ],
   "source": [
    " dem['Voter ID'] = dem['Voter ID'].astype(int)\n",
    "sdem['Voter ID'] = sdem['Voter ID'].astype(int)"
   ]
  },
  {
   "cell_type": "markdown",
   "id": "0eacf3a7",
   "metadata": {},
   "source": [
    "# Now concatinating and comparing the county identified democrats against the Kingmaker \"Strong Democrat\" classifications."
   ]
  },
  {
   "cell_type": "code",
   "execution_count": 35,
   "id": "5daffa34",
   "metadata": {},
   "outputs": [],
   "source": [
    "# Merge datasets on the corresponding columns\n",
    "merged3 = pd.merge(dem,sdem, left_on=['Voter ID'], right_on=['Voter ID'])"
   ]
  },
  {
   "cell_type": "markdown",
   "id": "f96302a2",
   "metadata": {},
   "source": [
    "There are 534 \"Likely democrats\" that successfully matched with the confirmed county democrats."
   ]
  },
  {
   "cell_type": "code",
   "execution_count": 36,
   "id": "a3fbe721",
   "metadata": {},
   "outputs": [
    {
     "data": {
      "text/plain": [
       "(17070, 49)"
      ]
     },
     "execution_count": 36,
     "metadata": {},
     "output_type": "execute_result"
    }
   ],
   "source": [
    "merged3.shape"
   ]
  },
  {
   "cell_type": "code",
   "execution_count": 37,
   "id": "5a1eff97",
   "metadata": {},
   "outputs": [
    {
     "data": {
      "text/plain": [
       "0.3174219461851721"
      ]
     },
     "execution_count": 37,
     "metadata": {},
     "output_type": "execute_result"
    }
   ],
   "source": [
    "17070 / 53777"
   ]
  },
  {
   "cell_type": "markdown",
   "id": "0c43dad2",
   "metadata": {},
   "source": [
    "# 0.31 or 31%\n",
    "Kingmaker's classification accuracy to predict \"Strong Democrat\"."
   ]
  },
  {
   "cell_type": "markdown",
   "id": "18030c91",
   "metadata": {},
   "source": [
    "# Now exploring Kingmaker's \"Likely  Republican\" classification."
   ]
  },
  {
   "cell_type": "code",
   "execution_count": 38,
   "id": "ddcebb31",
   "metadata": {
    "scrolled": true
   },
   "outputs": [
    {
     "data": {
      "text/html": [
       "<div>\n",
       "<style scoped>\n",
       "    .dataframe tbody tr th:only-of-type {\n",
       "        vertical-align: middle;\n",
       "    }\n",
       "\n",
       "    .dataframe tbody tr th {\n",
       "        vertical-align: top;\n",
       "    }\n",
       "\n",
       "    .dataframe thead th {\n",
       "        text-align: right;\n",
       "    }\n",
       "</style>\n",
       "<table border=\"1\" class=\"dataframe\">\n",
       "  <thead>\n",
       "    <tr style=\"text-align: right;\">\n",
       "      <th></th>\n",
       "      <th>lal_voter_id</th>\n",
       "      <th>vu_id</th>\n",
       "      <th>user_id</th>\n",
       "      <th>first_name</th>\n",
       "      <th>middle_name</th>\n",
       "      <th>last_name</th>\n",
       "      <th>address</th>\n",
       "      <th>city</th>\n",
       "      <th>city_mailing</th>\n",
       "      <th>zipcode</th>\n",
       "      <th>...</th>\n",
       "      <th>contact_digital</th>\n",
       "      <th>contact_mail</th>\n",
       "      <th>support_status</th>\n",
       "      <th>tags</th>\n",
       "      <th>contact_visit_count</th>\n",
       "      <th>contact_call_count</th>\n",
       "      <th>contact_text_count</th>\n",
       "      <th>contact_digital_count</th>\n",
       "      <th>contact_mail_count</th>\n",
       "      <th>top_issue</th>\n",
       "    </tr>\n",
       "  </thead>\n",
       "  <tbody>\n",
       "    <tr>\n",
       "      <th>0</th>\n",
       "      <td>5307260047</td>\n",
       "      <td>WA008801013</td>\n",
       "      <td>61e9a5a1-5730-4710-85c3-f17248870d0c</td>\n",
       "      <td>Lev</td>\n",
       "      <td>Nikolay</td>\n",
       "      <td>Starovoytov</td>\n",
       "      <td>1111 E 9th Ave</td>\n",
       "      <td>SPOKANE</td>\n",
       "      <td>Spokane</td>\n",
       "      <td>99202</td>\n",
       "      <td>...</td>\n",
       "      <td>NaN</td>\n",
       "      <td>No</td>\n",
       "      <td>NaN</td>\n",
       "      <td>City of Spokane</td>\n",
       "      <td>0.0</td>\n",
       "      <td>0</td>\n",
       "      <td>0</td>\n",
       "      <td>0</td>\n",
       "      <td>0</td>\n",
       "      <td>NaN</td>\n",
       "    </tr>\n",
       "    <tr>\n",
       "      <th>1</th>\n",
       "      <td>5310943454</td>\n",
       "      <td>WA012083785</td>\n",
       "      <td>61e9a5a1-5730-4710-85c3-f17248870d0c</td>\n",
       "      <td>Joshua</td>\n",
       "      <td>Lloyd</td>\n",
       "      <td>Miller</td>\n",
       "      <td>816 E 8th Ave</td>\n",
       "      <td>SPOKANE</td>\n",
       "      <td>NaN</td>\n",
       "      <td>99202</td>\n",
       "      <td>...</td>\n",
       "      <td>NaN</td>\n",
       "      <td>No</td>\n",
       "      <td>NaN</td>\n",
       "      <td>City of Spokane</td>\n",
       "      <td>0.0</td>\n",
       "      <td>0</td>\n",
       "      <td>0</td>\n",
       "      <td>0</td>\n",
       "      <td>0</td>\n",
       "      <td>NaN</td>\n",
       "    </tr>\n",
       "    <tr>\n",
       "      <th>2</th>\n",
       "      <td>5308140474</td>\n",
       "      <td>WA009604273</td>\n",
       "      <td>61e9a5a1-5730-4710-85c3-f17248870d0c</td>\n",
       "      <td>Tony</td>\n",
       "      <td>NaN</td>\n",
       "      <td>Swisher</td>\n",
       "      <td>926 E 8th Ave Apt 207</td>\n",
       "      <td>SPOKANE</td>\n",
       "      <td>Spokane</td>\n",
       "      <td>99202</td>\n",
       "      <td>...</td>\n",
       "      <td>NaN</td>\n",
       "      <td>No</td>\n",
       "      <td>NaN</td>\n",
       "      <td>City of Spokane;Voted 2023 General</td>\n",
       "      <td>0.0</td>\n",
       "      <td>0</td>\n",
       "      <td>0</td>\n",
       "      <td>0</td>\n",
       "      <td>0</td>\n",
       "      <td>NaN</td>\n",
       "    </tr>\n",
       "    <tr>\n",
       "      <th>3</th>\n",
       "      <td>5307342773</td>\n",
       "      <td>WA008615032</td>\n",
       "      <td>61e9a5a1-5730-4710-85c3-f17248870d0c</td>\n",
       "      <td>James</td>\n",
       "      <td>Lawrence</td>\n",
       "      <td>Munroe</td>\n",
       "      <td>1203 E 14th Ave</td>\n",
       "      <td>SPOKANE</td>\n",
       "      <td>Spokane</td>\n",
       "      <td>99202</td>\n",
       "      <td>...</td>\n",
       "      <td>NaN</td>\n",
       "      <td>No</td>\n",
       "      <td>NaN</td>\n",
       "      <td>City of Spokane</td>\n",
       "      <td>0.0</td>\n",
       "      <td>0</td>\n",
       "      <td>0</td>\n",
       "      <td>0</td>\n",
       "      <td>0</td>\n",
       "      <td>NaN</td>\n",
       "    </tr>\n",
       "    <tr>\n",
       "      <th>4</th>\n",
       "      <td>5305912398</td>\n",
       "      <td>WA004677131</td>\n",
       "      <td>61e9a5a1-5730-4710-85c3-f17248870d0c</td>\n",
       "      <td>Jeremiah</td>\n",
       "      <td>Joseph</td>\n",
       "      <td>Supon</td>\n",
       "      <td>1018 E 13th Ave</td>\n",
       "      <td>SPOKANE</td>\n",
       "      <td>Spokane</td>\n",
       "      <td>99202</td>\n",
       "      <td>...</td>\n",
       "      <td>NaN</td>\n",
       "      <td>No</td>\n",
       "      <td>NaN</td>\n",
       "      <td>City of Spokane;Voted 2023 General;Levy Text 1</td>\n",
       "      <td>0.0</td>\n",
       "      <td>0</td>\n",
       "      <td>0</td>\n",
       "      <td>0</td>\n",
       "      <td>0</td>\n",
       "      <td>NaN</td>\n",
       "    </tr>\n",
       "    <tr>\n",
       "      <th>...</th>\n",
       "      <td>...</td>\n",
       "      <td>...</td>\n",
       "      <td>...</td>\n",
       "      <td>...</td>\n",
       "      <td>...</td>\n",
       "      <td>...</td>\n",
       "      <td>...</td>\n",
       "      <td>...</td>\n",
       "      <td>...</td>\n",
       "      <td>...</td>\n",
       "      <td>...</td>\n",
       "      <td>...</td>\n",
       "      <td>...</td>\n",
       "      <td>...</td>\n",
       "      <td>...</td>\n",
       "      <td>...</td>\n",
       "      <td>...</td>\n",
       "      <td>...</td>\n",
       "      <td>...</td>\n",
       "      <td>...</td>\n",
       "      <td>...</td>\n",
       "    </tr>\n",
       "    <tr>\n",
       "      <th>10772</th>\n",
       "      <td>5304018422</td>\n",
       "      <td>WA000021161</td>\n",
       "      <td>61e9a5a1-5730-4710-85c3-f17248870d0c</td>\n",
       "      <td>Justin</td>\n",
       "      <td>Alan</td>\n",
       "      <td>Ulbright</td>\n",
       "      <td>354 Nolan Brown Pl</td>\n",
       "      <td>CHENEY</td>\n",
       "      <td>Cheney</td>\n",
       "      <td>99004</td>\n",
       "      <td>...</td>\n",
       "      <td>NaN</td>\n",
       "      <td>No</td>\n",
       "      <td>NaN</td>\n",
       "      <td>Voted 2023 General</td>\n",
       "      <td>0.0</td>\n",
       "      <td>0</td>\n",
       "      <td>0</td>\n",
       "      <td>0</td>\n",
       "      <td>0</td>\n",
       "      <td>NaN</td>\n",
       "    </tr>\n",
       "    <tr>\n",
       "      <th>10773</th>\n",
       "      <td>5304670392</td>\n",
       "      <td>WA000387240</td>\n",
       "      <td>61e9a5a1-5730-4710-85c3-f17248870d0c</td>\n",
       "      <td>Joshua</td>\n",
       "      <td>Cole</td>\n",
       "      <td>Alent</td>\n",
       "      <td>449 N 4th St</td>\n",
       "      <td>CHENEY</td>\n",
       "      <td>Cheney</td>\n",
       "      <td>99004</td>\n",
       "      <td>...</td>\n",
       "      <td>Yes</td>\n",
       "      <td>No</td>\n",
       "      <td>NaN</td>\n",
       "      <td>Voted 2023 General</td>\n",
       "      <td>0.0</td>\n",
       "      <td>0</td>\n",
       "      <td>0</td>\n",
       "      <td>0</td>\n",
       "      <td>0</td>\n",
       "      <td>NaN</td>\n",
       "    </tr>\n",
       "    <tr>\n",
       "      <th>10774</th>\n",
       "      <td>5303735507</td>\n",
       "      <td>WA000210557</td>\n",
       "      <td>61e9a5a1-5730-4710-85c3-f17248870d0c</td>\n",
       "      <td>Christopher</td>\n",
       "      <td>Scott</td>\n",
       "      <td>Hoppe</td>\n",
       "      <td>403 Simpson Pkwy</td>\n",
       "      <td>CHENEY</td>\n",
       "      <td>Cheney</td>\n",
       "      <td>99004</td>\n",
       "      <td>...</td>\n",
       "      <td>NaN</td>\n",
       "      <td>No</td>\n",
       "      <td>NaN</td>\n",
       "      <td>Voted 2023 General</td>\n",
       "      <td>0.0</td>\n",
       "      <td>0</td>\n",
       "      <td>0</td>\n",
       "      <td>0</td>\n",
       "      <td>0</td>\n",
       "      <td>NaN</td>\n",
       "    </tr>\n",
       "    <tr>\n",
       "      <th>10775</th>\n",
       "      <td>5302084123</td>\n",
       "      <td>WA001512720</td>\n",
       "      <td>61e9a5a1-5730-4710-85c3-f17248870d0c</td>\n",
       "      <td>Gavin</td>\n",
       "      <td>NaN</td>\n",
       "      <td>Peterson</td>\n",
       "      <td>718 Lincoln St</td>\n",
       "      <td>CHENEY</td>\n",
       "      <td>Cheney</td>\n",
       "      <td>99004</td>\n",
       "      <td>...</td>\n",
       "      <td>NaN</td>\n",
       "      <td>No</td>\n",
       "      <td>NaN</td>\n",
       "      <td>Voted 2023 General</td>\n",
       "      <td>0.0</td>\n",
       "      <td>0</td>\n",
       "      <td>0</td>\n",
       "      <td>0</td>\n",
       "      <td>0</td>\n",
       "      <td>NaN</td>\n",
       "    </tr>\n",
       "    <tr>\n",
       "      <th>10776</th>\n",
       "      <td>5308595719</td>\n",
       "      <td>WA009838328</td>\n",
       "      <td>61e9a5a1-5730-4710-85c3-f17248870d0c</td>\n",
       "      <td>Stephanie</td>\n",
       "      <td>Guadarrama</td>\n",
       "      <td>Toro</td>\n",
       "      <td>13 2nd St</td>\n",
       "      <td>CHENEY</td>\n",
       "      <td>Cheney</td>\n",
       "      <td>99004</td>\n",
       "      <td>...</td>\n",
       "      <td>NaN</td>\n",
       "      <td>No</td>\n",
       "      <td>NaN</td>\n",
       "      <td>Voted 2023 General</td>\n",
       "      <td>0.0</td>\n",
       "      <td>0</td>\n",
       "      <td>0</td>\n",
       "      <td>0</td>\n",
       "      <td>0</td>\n",
       "      <td>NaN</td>\n",
       "    </tr>\n",
       "  </tbody>\n",
       "</table>\n",
       "<p>10777 rows × 28 columns</p>\n",
       "</div>"
      ],
      "text/plain": [
       "      lal_voter_id        vu_id                               user_id  \\\n",
       "0       5307260047  WA008801013  61e9a5a1-5730-4710-85c3-f17248870d0c   \n",
       "1       5310943454  WA012083785  61e9a5a1-5730-4710-85c3-f17248870d0c   \n",
       "2       5308140474  WA009604273  61e9a5a1-5730-4710-85c3-f17248870d0c   \n",
       "3       5307342773  WA008615032  61e9a5a1-5730-4710-85c3-f17248870d0c   \n",
       "4       5305912398  WA004677131  61e9a5a1-5730-4710-85c3-f17248870d0c   \n",
       "...            ...          ...                                   ...   \n",
       "10772   5304018422  WA000021161  61e9a5a1-5730-4710-85c3-f17248870d0c   \n",
       "10773   5304670392  WA000387240  61e9a5a1-5730-4710-85c3-f17248870d0c   \n",
       "10774   5303735507  WA000210557  61e9a5a1-5730-4710-85c3-f17248870d0c   \n",
       "10775   5302084123  WA001512720  61e9a5a1-5730-4710-85c3-f17248870d0c   \n",
       "10776   5308595719  WA009838328  61e9a5a1-5730-4710-85c3-f17248870d0c   \n",
       "\n",
       "        first_name middle_name    last_name                address     city  \\\n",
       "0              Lev     Nikolay  Starovoytov         1111 E 9th Ave  SPOKANE   \n",
       "1           Joshua       Lloyd       Miller          816 E 8th Ave  SPOKANE   \n",
       "2             Tony         NaN      Swisher  926 E 8th Ave Apt 207  SPOKANE   \n",
       "3            James    Lawrence       Munroe        1203 E 14th Ave  SPOKANE   \n",
       "4         Jeremiah      Joseph        Supon        1018 E 13th Ave  SPOKANE   \n",
       "...            ...         ...          ...                    ...      ...   \n",
       "10772       Justin        Alan     Ulbright     354 Nolan Brown Pl   CHENEY   \n",
       "10773       Joshua        Cole        Alent           449 N 4th St   CHENEY   \n",
       "10774  Christopher       Scott        Hoppe       403 Simpson Pkwy   CHENEY   \n",
       "10775        Gavin         NaN     Peterson         718 Lincoln St   CHENEY   \n",
       "10776    Stephanie  Guadarrama         Toro              13 2nd St   CHENEY   \n",
       "\n",
       "      city_mailing zipcode  ... contact_digital contact_mail support_status  \\\n",
       "0          Spokane   99202  ...             NaN           No            NaN   \n",
       "1              NaN   99202  ...             NaN           No            NaN   \n",
       "2          Spokane   99202  ...             NaN           No            NaN   \n",
       "3          Spokane   99202  ...             NaN           No            NaN   \n",
       "4          Spokane   99202  ...             NaN           No            NaN   \n",
       "...            ...     ...  ...             ...          ...            ...   \n",
       "10772       Cheney   99004  ...             NaN           No            NaN   \n",
       "10773       Cheney   99004  ...             Yes           No            NaN   \n",
       "10774       Cheney   99004  ...             NaN           No            NaN   \n",
       "10775       Cheney   99004  ...             NaN           No            NaN   \n",
       "10776       Cheney   99004  ...             NaN           No            NaN   \n",
       "\n",
       "                                                 tags contact_visit_count  \\\n",
       "0                                     City of Spokane                 0.0   \n",
       "1                                     City of Spokane                 0.0   \n",
       "2                  City of Spokane;Voted 2023 General                 0.0   \n",
       "3                                     City of Spokane                 0.0   \n",
       "4      City of Spokane;Voted 2023 General;Levy Text 1                 0.0   \n",
       "...                                               ...                 ...   \n",
       "10772                              Voted 2023 General                 0.0   \n",
       "10773                              Voted 2023 General                 0.0   \n",
       "10774                              Voted 2023 General                 0.0   \n",
       "10775                              Voted 2023 General                 0.0   \n",
       "10776                              Voted 2023 General                 0.0   \n",
       "\n",
       "      contact_call_count contact_text_count contact_digital_count  \\\n",
       "0                      0                  0                     0   \n",
       "1                      0                  0                     0   \n",
       "2                      0                  0                     0   \n",
       "3                      0                  0                     0   \n",
       "4                      0                  0                     0   \n",
       "...                  ...                ...                   ...   \n",
       "10772                  0                  0                     0   \n",
       "10773                  0                  0                     0   \n",
       "10774                  0                  0                     0   \n",
       "10775                  0                  0                     0   \n",
       "10776                  0                  0                     0   \n",
       "\n",
       "      contact_mail_count top_issue  \n",
       "0                      0       NaN  \n",
       "1                      0       NaN  \n",
       "2                      0       NaN  \n",
       "3                      0       NaN  \n",
       "4                      0       NaN  \n",
       "...                  ...       ...  \n",
       "10772                  0       NaN  \n",
       "10773                  0       NaN  \n",
       "10774                  0       NaN  \n",
       "10775                  0       NaN  \n",
       "10776                  0       NaN  \n",
       "\n",
       "[10777 rows x 28 columns]"
      ]
     },
     "execution_count": 38,
     "metadata": {},
     "output_type": "execute_result"
    }
   ],
   "source": [
    "#-- Importing the raw Kingmaker Data of Republicans --#\n",
    "\n",
    "lkrep = pd.read_csv('/Users/michaelsegaline/Desktop/Washington GOP/King Maker Sentiment Data/Kingmakerdata Possible Reps.csv')\n",
    "lkrep"
   ]
  },
  {
   "cell_type": "code",
   "execution_count": 39,
   "id": "ca6ede26",
   "metadata": {},
   "outputs": [
    {
     "data": {
      "text/plain": [
       "(10777, 28)"
      ]
     },
     "execution_count": 39,
     "metadata": {},
     "output_type": "execute_result"
    }
   ],
   "source": [
    "lkrep.shape"
   ]
  },
  {
   "cell_type": "markdown",
   "id": "8f5c1bfc",
   "metadata": {},
   "source": [
    "# Again, notice how the column sparisty % ratios match the county."
   ]
  },
  {
   "cell_type": "code",
   "execution_count": 40,
   "id": "e3b21286",
   "metadata": {},
   "outputs": [
    {
     "name": "stdout",
     "output_type": "stream",
     "text": [
      "lal_voter_id              0.000000\n",
      "vu_id                     0.000000\n",
      "user_id                   0.000000\n",
      "first_name                0.000000\n",
      "middle_name               9.186230\n",
      "last_name                 0.018558\n",
      "address                   0.000000\n",
      "city                      0.083511\n",
      "city_mailing              9.937831\n",
      "zipcode                   0.176301\n",
      "state                     0.018558\n",
      "phone1                   59.831122\n",
      "phone2                   77.795305\n",
      "precinct                  0.027837\n",
      "turnout_prediction        0.000000\n",
      "contact_visit            96.872970\n",
      "contact_call              0.612415\n",
      "contact_text             74.705391\n",
      "contact_digital          84.225666\n",
      "contact_mail              0.612415\n",
      "support_status           95.768767\n",
      "tags                     26.797810\n",
      "contact_visit_count       0.018558\n",
      "contact_call_count        0.000000\n",
      "contact_text_count        0.000000\n",
      "contact_digital_count     0.000000\n",
      "contact_mail_count        0.000000\n",
      "top_issue                98.626705\n",
      "dtype: float64\n"
     ]
    }
   ],
   "source": [
    "#-- Now getting a data sparsity percentage per column --# \n",
    "#-- Calculate the percentage of missing values per column --#\n",
    "missing_percentage = lkrep.isnull().mean() * 100\n",
    "\n",
    "#-- Print the results --#\n",
    "print(missing_percentage)"
   ]
  },
  {
   "cell_type": "code",
   "execution_count": 41,
   "id": "7eaa2cdb",
   "metadata": {},
   "outputs": [
    {
     "data": {
      "text/plain": [
       "Index(['lal_voter_id', 'vu_id', 'user_id', 'first_name', 'middle_name',\n",
       "       'last_name', 'address', 'city', 'city_mailing', 'zipcode', 'state',\n",
       "       'phone1', 'phone2', 'precinct', 'turnout_prediction', 'contact_visit',\n",
       "       'contact_call', 'contact_text', 'contact_digital', 'contact_mail',\n",
       "       'support_status', 'tags', 'contact_visit_count', 'contact_call_count',\n",
       "       'contact_text_count', 'contact_digital_count', 'contact_mail_count',\n",
       "       'top_issue', 'Voter ID'],\n",
       "      dtype='object')"
      ]
     },
     "execution_count": 41,
     "metadata": {},
     "output_type": "execute_result"
    }
   ],
   "source": [
    "#-- Extracting the trailing 8 digits and assign to a new column --#\n",
    "lkrep['Voter ID'] = lkrep['vu_id'].str[3:]\n",
    "\n",
    "lkrep.columns"
   ]
  },
  {
   "cell_type": "code",
   "execution_count": 42,
   "id": "bbc56723",
   "metadata": {},
   "outputs": [],
   "source": [
    " #dem['Voter ID'] = dem['Voter ID'].astype(int)\n",
    "lkrep['Voter ID'] = lkrep['Voter ID'].astype(int)"
   ]
  },
  {
   "cell_type": "markdown",
   "id": "f71aba8f",
   "metadata": {},
   "source": [
    "# Now merging and comparing the comfirmed county repubilicans against the Kingmaker \"Likely Republican\" classifications."
   ]
  },
  {
   "cell_type": "code",
   "execution_count": 43,
   "id": "5e91ec86",
   "metadata": {},
   "outputs": [],
   "source": [
    "#-- Merge datasets on the corresponding columns --#\n",
    "merged4 = pd.merge(rep,lkrep, left_on=['Voter ID'], right_on=['Voter ID'])"
   ]
  },
  {
   "cell_type": "markdown",
   "id": "acb8ba81",
   "metadata": {},
   "source": [
    "There are 4125 \"Likely Republicans\" that successfully matched with the confirmed county democrats."
   ]
  },
  {
   "cell_type": "code",
   "execution_count": 44,
   "id": "080a71a0",
   "metadata": {},
   "outputs": [
    {
     "data": {
      "text/plain": [
       "(17070, 49)"
      ]
     },
     "execution_count": 44,
     "metadata": {},
     "output_type": "execute_result"
    }
   ],
   "source": [
    "merged3.shape"
   ]
  },
  {
   "cell_type": "code",
   "execution_count": 45,
   "id": "b68dc957",
   "metadata": {},
   "outputs": [
    {
     "data": {
      "text/plain": [
       "0.21802436968350064"
      ]
     },
     "execution_count": 45,
     "metadata": {},
     "output_type": "execute_result"
    }
   ],
   "source": [
    "17070 / 78294"
   ]
  },
  {
   "cell_type": "markdown",
   "id": "3107381c",
   "metadata": {},
   "source": [
    "# 0.21 or 21% \n",
    "\n",
    "Kingmaker accuracy at classifying \"Likely Republican\"."
   ]
  },
  {
   "cell_type": "code",
   "execution_count": null,
   "id": "a71a3f8f",
   "metadata": {},
   "outputs": [],
   "source": []
  }
 ],
 "metadata": {
  "kernelspec": {
   "display_name": "Python 3 (ipykernel)",
   "language": "python",
   "name": "python3"
  },
  "language_info": {
   "codemirror_mode": {
    "name": "ipython",
    "version": 3
   },
   "file_extension": ".py",
   "mimetype": "text/x-python",
   "name": "python",
   "nbconvert_exporter": "python",
   "pygments_lexer": "ipython3",
   "version": "3.9.13"
  }
 },
 "nbformat": 4,
 "nbformat_minor": 5
}
