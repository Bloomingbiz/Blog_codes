{
 "cells": [
  {
   "cell_type": "markdown",
   "id": "b734de1b",
   "metadata": {},
   "source": [
    "# Google Political Ad Research \n",
    "\n",
    "300k of 800k rows containing US political ads are analyized.\n",
    "\n",
    "The datasets where only allowed to be queried 100k rows at a time; Therefore only 3 dataset imports must be accomplished.\n",
    "\n",
    "Covering the years 2018 - 2024.\n",
    "\n"
   ]
  },
  {
   "cell_type": "code",
   "execution_count": 31,
   "id": "9cfdbc17",
   "metadata": {},
   "outputs": [],
   "source": [
    "#-- Importing Nessesary Libraries --#\n",
    "import pandas as pd\n",
    "import numpy as np\n",
    "import seaborn as sns\n",
    "import matplotlib.pyplot as plt\n",
    "import matplotlib.ticker as ticker"
   ]
  },
  {
   "cell_type": "code",
   "execution_count": 2,
   "id": "f3d7f0c4",
   "metadata": {},
   "outputs": [],
   "source": [
    "#-- Importing one of three datasets--# \n",
    "\n",
    "\n",
    "df_1 = pd.read_csv('/Users/michaelsegaline/Desktop/Research Objectives/Political ads on Google/Google Poli-ads 100k adertiser_id pull.csv')"
   ]
  },
  {
   "cell_type": "code",
   "execution_count": 3,
   "id": "27a6e4cb",
   "metadata": {},
   "outputs": [
    {
     "data": {
      "text/html": [
       "<div>\n",
       "<style scoped>\n",
       "    .dataframe tbody tr th:only-of-type {\n",
       "        vertical-align: middle;\n",
       "    }\n",
       "\n",
       "    .dataframe tbody tr th {\n",
       "        vertical-align: top;\n",
       "    }\n",
       "\n",
       "    .dataframe thead th {\n",
       "        text-align: right;\n",
       "    }\n",
       "</style>\n",
       "<table border=\"1\" class=\"dataframe\">\n",
       "  <thead>\n",
       "    <tr style=\"text-align: right;\">\n",
       "      <th></th>\n",
       "      <th>advertiser_id</th>\n",
       "      <th>advertiser_name</th>\n",
       "      <th>ad_type</th>\n",
       "      <th>ad_url</th>\n",
       "      <th>regions</th>\n",
       "      <th>date_range_start</th>\n",
       "      <th>num_of_days</th>\n",
       "      <th>Impressions</th>\n",
       "      <th>gender_targeting</th>\n",
       "      <th>spend_range_max_usd</th>\n",
       "    </tr>\n",
       "  </thead>\n",
       "  <tbody>\n",
       "    <tr>\n",
       "      <th>0</th>\n",
       "      <td>AR00000475401340059649</td>\n",
       "      <td>Vince Leach for Senate</td>\n",
       "      <td>IMAGE</td>\n",
       "      <td>https://adstransparency.google.com/advertiser/...</td>\n",
       "      <td>US</td>\n",
       "      <td>7/21/22</td>\n",
       "      <td>13</td>\n",
       "      <td>20000.0</td>\n",
       "      <td>NaN</td>\n",
       "      <td>100</td>\n",
       "    </tr>\n",
       "    <tr>\n",
       "      <th>1</th>\n",
       "      <td>AR00000475401340059649</td>\n",
       "      <td>Vince Leach for Senate</td>\n",
       "      <td>VIDEO</td>\n",
       "      <td>https://adstransparency.google.com/advertiser/...</td>\n",
       "      <td>US</td>\n",
       "      <td>7/12/24</td>\n",
       "      <td>11</td>\n",
       "      <td>125000.0</td>\n",
       "      <td>Female, Unknown gender</td>\n",
       "      <td>1500</td>\n",
       "    </tr>\n",
       "    <tr>\n",
       "      <th>2</th>\n",
       "      <td>AR00000475401340059649</td>\n",
       "      <td>Vince Leach for Senate</td>\n",
       "      <td>VIDEO</td>\n",
       "      <td>https://adstransparency.google.com/advertiser/...</td>\n",
       "      <td>US</td>\n",
       "      <td>8/26/20</td>\n",
       "      <td>18</td>\n",
       "      <td>15000.0</td>\n",
       "      <td>Male, Female, Unknown gender</td>\n",
       "      <td>200</td>\n",
       "    </tr>\n",
       "    <tr>\n",
       "      <th>3</th>\n",
       "      <td>AR00000475401340059649</td>\n",
       "      <td>Vince Leach for Senate</td>\n",
       "      <td>VIDEO</td>\n",
       "      <td>https://adstransparency.google.com/advertiser/...</td>\n",
       "      <td>US</td>\n",
       "      <td>6/8/24</td>\n",
       "      <td>3</td>\n",
       "      <td>30000.0</td>\n",
       "      <td>Male, Female, Unknown gender</td>\n",
       "      <td>400</td>\n",
       "    </tr>\n",
       "    <tr>\n",
       "      <th>4</th>\n",
       "      <td>AR00000475401340059649</td>\n",
       "      <td>Vince Leach for Senate</td>\n",
       "      <td>TEXT</td>\n",
       "      <td>https://adstransparency.google.com/advertiser/...</td>\n",
       "      <td>US</td>\n",
       "      <td>5/1/24</td>\n",
       "      <td>91</td>\n",
       "      <td>400000.0</td>\n",
       "      <td>NaN</td>\n",
       "      <td>3000</td>\n",
       "    </tr>\n",
       "  </tbody>\n",
       "</table>\n",
       "</div>"
      ],
      "text/plain": [
       "            advertiser_id         advertiser_name ad_type  \\\n",
       "0  AR00000475401340059649  Vince Leach for Senate   IMAGE   \n",
       "1  AR00000475401340059649  Vince Leach for Senate   VIDEO   \n",
       "2  AR00000475401340059649  Vince Leach for Senate   VIDEO   \n",
       "3  AR00000475401340059649  Vince Leach for Senate   VIDEO   \n",
       "4  AR00000475401340059649  Vince Leach for Senate    TEXT   \n",
       "\n",
       "                                              ad_url regions date_range_start  \\\n",
       "0  https://adstransparency.google.com/advertiser/...      US          7/21/22   \n",
       "1  https://adstransparency.google.com/advertiser/...      US          7/12/24   \n",
       "2  https://adstransparency.google.com/advertiser/...      US          8/26/20   \n",
       "3  https://adstransparency.google.com/advertiser/...      US           6/8/24   \n",
       "4  https://adstransparency.google.com/advertiser/...      US           5/1/24   \n",
       "\n",
       "   num_of_days  Impressions              gender_targeting  spend_range_max_usd  \n",
       "0           13      20000.0                           NaN                  100  \n",
       "1           11     125000.0        Female, Unknown gender                 1500  \n",
       "2           18      15000.0  Male, Female, Unknown gender                  200  \n",
       "3            3      30000.0  Male, Female, Unknown gender                  400  \n",
       "4           91     400000.0                           NaN                 3000  "
      ]
     },
     "execution_count": 3,
     "metadata": {},
     "output_type": "execute_result"
    }
   ],
   "source": [
    "#-- Inspecting the head --#\n",
    "df_1.head()"
   ]
  },
  {
   "cell_type": "code",
   "execution_count": 4,
   "id": "d0d3f775",
   "metadata": {},
   "outputs": [
    {
     "data": {
      "text/plain": [
       "(100000, 10)"
      ]
     },
     "execution_count": 4,
     "metadata": {},
     "output_type": "execute_result"
    }
   ],
   "source": [
    "#-- Inspecting the shape --#\n",
    "df_1.shape"
   ]
  },
  {
   "cell_type": "code",
   "execution_count": 5,
   "id": "93886a0e",
   "metadata": {},
   "outputs": [
    {
     "data": {
      "text/plain": [
       "Index(['advertiser_id', 'advertiser_name', 'ad_type', 'ad_url', 'regions',\n",
       "       'date_range_start', 'num_of_days', 'Impressions', 'gender_targeting',\n",
       "       'spend_range_max_usd'],\n",
       "      dtype='object')"
      ]
     },
     "execution_count": 5,
     "metadata": {},
     "output_type": "execute_result"
    }
   ],
   "source": [
    "df_1.columns"
   ]
  },
  {
   "cell_type": "markdown",
   "id": "05d6bdae",
   "metadata": {},
   "source": [
    "Importing the 2nd dataset"
   ]
  },
  {
   "cell_type": "code",
   "execution_count": 6,
   "id": "6e2b5049",
   "metadata": {},
   "outputs": [],
   "source": [
    "#-- Importing the 2nd dataset --#\n",
    "df_2 = pd.read_csv('/Users/michaelsegaline/Desktop/Research Objectives/Political ads on Google/Google Poli-ads 100k ascending.csv')"
   ]
  },
  {
   "cell_type": "code",
   "execution_count": 7,
   "id": "7b96ac78",
   "metadata": {},
   "outputs": [
    {
     "data": {
      "text/html": [
       "<div>\n",
       "<style scoped>\n",
       "    .dataframe tbody tr th:only-of-type {\n",
       "        vertical-align: middle;\n",
       "    }\n",
       "\n",
       "    .dataframe tbody tr th {\n",
       "        vertical-align: top;\n",
       "    }\n",
       "\n",
       "    .dataframe thead th {\n",
       "        text-align: right;\n",
       "    }\n",
       "</style>\n",
       "<table border=\"1\" class=\"dataframe\">\n",
       "  <thead>\n",
       "    <tr style=\"text-align: right;\">\n",
       "      <th></th>\n",
       "      <th>ad_id</th>\n",
       "      <th>ad_url</th>\n",
       "      <th>ad_type</th>\n",
       "      <th>regions</th>\n",
       "      <th>advertiser_name</th>\n",
       "      <th>date_range_start</th>\n",
       "      <th>num_of_days</th>\n",
       "      <th>impressions</th>\n",
       "      <th>gender_targeting</th>\n",
       "      <th>spend_range_max_usd</th>\n",
       "    </tr>\n",
       "  </thead>\n",
       "  <tbody>\n",
       "    <tr>\n",
       "      <th>0</th>\n",
       "      <td>CR02531186130619990017</td>\n",
       "      <td>https://adstransparency.google.com/advertiser/...</td>\n",
       "      <td>TEXT</td>\n",
       "      <td>US</td>\n",
       "      <td>AMERICAN CIVIL LIBERTIES UNION, INC.</td>\n",
       "      <td>7/6/18</td>\n",
       "      <td>18</td>\n",
       "      <td>1000.0</td>\n",
       "      <td>NaN</td>\n",
       "      <td>100</td>\n",
       "    </tr>\n",
       "    <tr>\n",
       "      <th>1</th>\n",
       "      <td>CR08784300210244288513</td>\n",
       "      <td>https://adstransparency.google.com/advertiser/...</td>\n",
       "      <td>TEXT</td>\n",
       "      <td>US</td>\n",
       "      <td>AMERICAN CIVIL LIBERTIES UNION, INC.</td>\n",
       "      <td>12/5/19</td>\n",
       "      <td>122</td>\n",
       "      <td>3000.0</td>\n",
       "      <td>NaN</td>\n",
       "      <td>700</td>\n",
       "    </tr>\n",
       "    <tr>\n",
       "      <th>2</th>\n",
       "      <td>CR01718433869876690945</td>\n",
       "      <td>https://adstransparency.google.com/advertiser/...</td>\n",
       "      <td>TEXT</td>\n",
       "      <td>US</td>\n",
       "      <td>AMERICAN CIVIL LIBERTIES UNION, INC.</td>\n",
       "      <td>12/6/19</td>\n",
       "      <td>23</td>\n",
       "      <td>1000.0</td>\n",
       "      <td>NaN</td>\n",
       "      <td>100</td>\n",
       "    </tr>\n",
       "    <tr>\n",
       "      <th>3</th>\n",
       "      <td>CR16710206607442575361</td>\n",
       "      <td>https://adstransparency.google.com/advertiser/...</td>\n",
       "      <td>TEXT</td>\n",
       "      <td>US</td>\n",
       "      <td>AMERICAN CIVIL LIBERTIES UNION, INC.</td>\n",
       "      <td>6/26/18</td>\n",
       "      <td>6</td>\n",
       "      <td>1000.0</td>\n",
       "      <td>NaN</td>\n",
       "      <td>100</td>\n",
       "    </tr>\n",
       "    <tr>\n",
       "      <th>4</th>\n",
       "      <td>CR12760549734238650369</td>\n",
       "      <td>https://adstransparency.google.com/advertiser/...</td>\n",
       "      <td>TEXT</td>\n",
       "      <td>US</td>\n",
       "      <td>AMERICAN CIVIL LIBERTIES UNION, INC.</td>\n",
       "      <td>6/27/18</td>\n",
       "      <td>1</td>\n",
       "      <td>1000.0</td>\n",
       "      <td>NaN</td>\n",
       "      <td>100</td>\n",
       "    </tr>\n",
       "  </tbody>\n",
       "</table>\n",
       "</div>"
      ],
      "text/plain": [
       "                    ad_id                                             ad_url  \\\n",
       "0  CR02531186130619990017  https://adstransparency.google.com/advertiser/...   \n",
       "1  CR08784300210244288513  https://adstransparency.google.com/advertiser/...   \n",
       "2  CR01718433869876690945  https://adstransparency.google.com/advertiser/...   \n",
       "3  CR16710206607442575361  https://adstransparency.google.com/advertiser/...   \n",
       "4  CR12760549734238650369  https://adstransparency.google.com/advertiser/...   \n",
       "\n",
       "  ad_type regions                       advertiser_name date_range_start  \\\n",
       "0    TEXT      US  AMERICAN CIVIL LIBERTIES UNION, INC.           7/6/18   \n",
       "1    TEXT      US  AMERICAN CIVIL LIBERTIES UNION, INC.          12/5/19   \n",
       "2    TEXT      US  AMERICAN CIVIL LIBERTIES UNION, INC.          12/6/19   \n",
       "3    TEXT      US  AMERICAN CIVIL LIBERTIES UNION, INC.          6/26/18   \n",
       "4    TEXT      US  AMERICAN CIVIL LIBERTIES UNION, INC.          6/27/18   \n",
       "\n",
       "   num_of_days  impressions gender_targeting  spend_range_max_usd  \n",
       "0           18       1000.0              NaN                  100  \n",
       "1          122       3000.0              NaN                  700  \n",
       "2           23       1000.0              NaN                  100  \n",
       "3            6       1000.0              NaN                  100  \n",
       "4            1       1000.0              NaN                  100  "
      ]
     },
     "execution_count": 7,
     "metadata": {},
     "output_type": "execute_result"
    }
   ],
   "source": [
    "#-- Inspecting the head --#\n",
    "df_2.head()"
   ]
  },
  {
   "cell_type": "code",
   "execution_count": 8,
   "id": "f1478392",
   "metadata": {},
   "outputs": [
    {
     "data": {
      "text/plain": [
       "(100000, 10)"
      ]
     },
     "execution_count": 8,
     "metadata": {},
     "output_type": "execute_result"
    }
   ],
   "source": [
    "#-- Inspecting the shape --#\n",
    "df_2.shape"
   ]
  },
  {
   "cell_type": "code",
   "execution_count": 9,
   "id": "1237a0e7",
   "metadata": {},
   "outputs": [
    {
     "data": {
      "text/plain": [
       "Index(['ad_id', 'ad_url', 'ad_type', 'regions', 'advertiser_name',\n",
       "       'date_range_start', 'num_of_days', 'impressions', 'gender_targeting',\n",
       "       'spend_range_max_usd'],\n",
       "      dtype='object')"
      ]
     },
     "execution_count": 9,
     "metadata": {},
     "output_type": "execute_result"
    }
   ],
   "source": [
    "#-- Inspecting the column names --#\n",
    "df_2.columns"
   ]
  },
  {
   "cell_type": "markdown",
   "id": "960121e7",
   "metadata": {},
   "source": [
    "Importing the 3rd dataset"
   ]
  },
  {
   "cell_type": "code",
   "execution_count": 10,
   "id": "b3d7c1d2",
   "metadata": {},
   "outputs": [],
   "source": [
    "df_3 = pd.read_csv('/Users/michaelsegaline/Desktop/Research Objectives/Political ads on Google/Google Poliads_both_variables.csv')"
   ]
  },
  {
   "cell_type": "code",
   "execution_count": 11,
   "id": "0ae78bfb",
   "metadata": {},
   "outputs": [
    {
     "data": {
      "text/html": [
       "<div>\n",
       "<style scoped>\n",
       "    .dataframe tbody tr th:only-of-type {\n",
       "        vertical-align: middle;\n",
       "    }\n",
       "\n",
       "    .dataframe tbody tr th {\n",
       "        vertical-align: top;\n",
       "    }\n",
       "\n",
       "    .dataframe thead th {\n",
       "        text-align: right;\n",
       "    }\n",
       "</style>\n",
       "<table border=\"1\" class=\"dataframe\">\n",
       "  <thead>\n",
       "    <tr style=\"text-align: right;\">\n",
       "      <th></th>\n",
       "      <th>ad_id</th>\n",
       "      <th>ad_url</th>\n",
       "      <th>ad_type</th>\n",
       "      <th>regions</th>\n",
       "      <th>advertiser_id</th>\n",
       "      <th>advertiser_name</th>\n",
       "      <th>date_range_start</th>\n",
       "      <th>num_of_days</th>\n",
       "      <th>impressions</th>\n",
       "      <th>gender_targeting</th>\n",
       "      <th>spend_range_max_usd</th>\n",
       "    </tr>\n",
       "  </thead>\n",
       "  <tbody>\n",
       "    <tr>\n",
       "      <th>0</th>\n",
       "      <td>CR08524069859766566913</td>\n",
       "      <td>https://adstransparency.google.com/advertiser/...</td>\n",
       "      <td>IMAGE</td>\n",
       "      <td>US</td>\n",
       "      <td>AR10921704497713512449</td>\n",
       "      <td>SAHAK NALBANDYAN</td>\n",
       "      <td>8/17/19</td>\n",
       "      <td>66</td>\n",
       "      <td>200000.0</td>\n",
       "      <td>Male, Female, Unknown gender</td>\n",
       "      <td>300</td>\n",
       "    </tr>\n",
       "    <tr>\n",
       "      <th>1</th>\n",
       "      <td>CR14421520240229744641</td>\n",
       "      <td>https://adstransparency.google.com/advertiser/...</td>\n",
       "      <td>IMAGE</td>\n",
       "      <td>US</td>\n",
       "      <td>AR10921704497713512449</td>\n",
       "      <td>SAHAK NALBANDYAN</td>\n",
       "      <td>8/6/21</td>\n",
       "      <td>24</td>\n",
       "      <td>30000.0</td>\n",
       "      <td>NaN</td>\n",
       "      <td>1500</td>\n",
       "    </tr>\n",
       "    <tr>\n",
       "      <th>2</th>\n",
       "      <td>CR14883776265944301569</td>\n",
       "      <td>https://adstransparency.google.com/advertiser/...</td>\n",
       "      <td>IMAGE</td>\n",
       "      <td>US</td>\n",
       "      <td>AR10921704497713512449</td>\n",
       "      <td>SAHAK NALBANDYAN</td>\n",
       "      <td>12/5/23</td>\n",
       "      <td>2</td>\n",
       "      <td>1000.0</td>\n",
       "      <td>NaN</td>\n",
       "      <td>100</td>\n",
       "    </tr>\n",
       "    <tr>\n",
       "      <th>3</th>\n",
       "      <td>CR16987812059137703937</td>\n",
       "      <td>https://adstransparency.google.com/advertiser/...</td>\n",
       "      <td>IMAGE</td>\n",
       "      <td>US</td>\n",
       "      <td>AR10921704497713512449</td>\n",
       "      <td>SAHAK NALBANDYAN</td>\n",
       "      <td>8/20/22</td>\n",
       "      <td>50</td>\n",
       "      <td>400000.0</td>\n",
       "      <td>NaN</td>\n",
       "      <td>1500</td>\n",
       "    </tr>\n",
       "    <tr>\n",
       "      <th>4</th>\n",
       "      <td>CR04239571357572005889</td>\n",
       "      <td>https://adstransparency.google.com/advertiser/...</td>\n",
       "      <td>VIDEO</td>\n",
       "      <td>US</td>\n",
       "      <td>AR10921704497713512449</td>\n",
       "      <td>SAHAK NALBANDYAN</td>\n",
       "      <td>4/12/23</td>\n",
       "      <td>2</td>\n",
       "      <td>1000.0</td>\n",
       "      <td>NaN</td>\n",
       "      <td>100</td>\n",
       "    </tr>\n",
       "  </tbody>\n",
       "</table>\n",
       "</div>"
      ],
      "text/plain": [
       "                    ad_id                                             ad_url  \\\n",
       "0  CR08524069859766566913  https://adstransparency.google.com/advertiser/...   \n",
       "1  CR14421520240229744641  https://adstransparency.google.com/advertiser/...   \n",
       "2  CR14883776265944301569  https://adstransparency.google.com/advertiser/...   \n",
       "3  CR16987812059137703937  https://adstransparency.google.com/advertiser/...   \n",
       "4  CR04239571357572005889  https://adstransparency.google.com/advertiser/...   \n",
       "\n",
       "  ad_type regions           advertiser_id   advertiser_name date_range_start  \\\n",
       "0   IMAGE      US  AR10921704497713512449  SAHAK NALBANDYAN          8/17/19   \n",
       "1   IMAGE      US  AR10921704497713512449  SAHAK NALBANDYAN           8/6/21   \n",
       "2   IMAGE      US  AR10921704497713512449  SAHAK NALBANDYAN          12/5/23   \n",
       "3   IMAGE      US  AR10921704497713512449  SAHAK NALBANDYAN          8/20/22   \n",
       "4   VIDEO      US  AR10921704497713512449  SAHAK NALBANDYAN          4/12/23   \n",
       "\n",
       "   num_of_days  impressions              gender_targeting  spend_range_max_usd  \n",
       "0           66     200000.0  Male, Female, Unknown gender                  300  \n",
       "1           24      30000.0                           NaN                 1500  \n",
       "2            2       1000.0                           NaN                  100  \n",
       "3           50     400000.0                           NaN                 1500  \n",
       "4            2       1000.0                           NaN                  100  "
      ]
     },
     "execution_count": 11,
     "metadata": {},
     "output_type": "execute_result"
    }
   ],
   "source": [
    "#-- Inspecting the head --#\n",
    "df_3.head()"
   ]
  },
  {
   "cell_type": "code",
   "execution_count": 12,
   "id": "a5a40a26",
   "metadata": {},
   "outputs": [
    {
     "data": {
      "text/plain": [
       "(100000, 11)"
      ]
     },
     "execution_count": 12,
     "metadata": {},
     "output_type": "execute_result"
    }
   ],
   "source": [
    "#-- Inspecting the shape --#\n",
    "df_3.shape"
   ]
  },
  {
   "cell_type": "code",
   "execution_count": 13,
   "id": "dbabaa5d",
   "metadata": {},
   "outputs": [
    {
     "data": {
      "text/plain": [
       "Index(['ad_id', 'ad_url', 'ad_type', 'regions', 'advertiser_id',\n",
       "       'advertiser_name', 'date_range_start', 'num_of_days', 'impressions',\n",
       "       'gender_targeting', 'spend_range_max_usd'],\n",
       "      dtype='object')"
      ]
     },
     "execution_count": 13,
     "metadata": {},
     "output_type": "execute_result"
    }
   ],
   "source": [
    "df_3.columns"
   ]
  },
  {
   "cell_type": "markdown",
   "id": "fb9ffa13",
   "metadata": {},
   "source": [
    "# Contactinating the datasets"
   ]
  },
  {
   "cell_type": "code",
   "execution_count": 16,
   "id": "18cbceb1",
   "metadata": {},
   "outputs": [],
   "source": [
    "# First, ensure columns have consistent names\n",
    "df_1 = df_1.rename(columns={'Impressions': 'impressions'})\n",
    "df_2 = df_2.rename(columns={'impressions': 'impressions'})\n",
    "df_3 = df_3.rename(columns={'impressions': 'impressions'})\n",
    "\n",
    "# Concatenate the three datasets\n",
    "df = pd.concat([df_1, df_2, df_3], ignore_index=True)\n"
   ]
  },
  {
   "cell_type": "code",
   "execution_count": 17,
   "id": "80238064",
   "metadata": {},
   "outputs": [
    {
     "data": {
      "text/html": [
       "<div>\n",
       "<style scoped>\n",
       "    .dataframe tbody tr th:only-of-type {\n",
       "        vertical-align: middle;\n",
       "    }\n",
       "\n",
       "    .dataframe tbody tr th {\n",
       "        vertical-align: top;\n",
       "    }\n",
       "\n",
       "    .dataframe thead th {\n",
       "        text-align: right;\n",
       "    }\n",
       "</style>\n",
       "<table border=\"1\" class=\"dataframe\">\n",
       "  <thead>\n",
       "    <tr style=\"text-align: right;\">\n",
       "      <th></th>\n",
       "      <th>advertiser_id</th>\n",
       "      <th>advertiser_name</th>\n",
       "      <th>ad_type</th>\n",
       "      <th>ad_url</th>\n",
       "      <th>regions</th>\n",
       "      <th>date_range_start</th>\n",
       "      <th>num_of_days</th>\n",
       "      <th>impressions</th>\n",
       "      <th>gender_targeting</th>\n",
       "      <th>spend_range_max_usd</th>\n",
       "      <th>ad_id</th>\n",
       "    </tr>\n",
       "  </thead>\n",
       "  <tbody>\n",
       "    <tr>\n",
       "      <th>0</th>\n",
       "      <td>AR00000475401340059649</td>\n",
       "      <td>Vince Leach for Senate</td>\n",
       "      <td>IMAGE</td>\n",
       "      <td>https://adstransparency.google.com/advertiser/...</td>\n",
       "      <td>US</td>\n",
       "      <td>7/21/22</td>\n",
       "      <td>13</td>\n",
       "      <td>20000.0</td>\n",
       "      <td>NaN</td>\n",
       "      <td>100</td>\n",
       "      <td>NaN</td>\n",
       "    </tr>\n",
       "    <tr>\n",
       "      <th>1</th>\n",
       "      <td>AR00000475401340059649</td>\n",
       "      <td>Vince Leach for Senate</td>\n",
       "      <td>VIDEO</td>\n",
       "      <td>https://adstransparency.google.com/advertiser/...</td>\n",
       "      <td>US</td>\n",
       "      <td>7/12/24</td>\n",
       "      <td>11</td>\n",
       "      <td>125000.0</td>\n",
       "      <td>Female, Unknown gender</td>\n",
       "      <td>1500</td>\n",
       "      <td>NaN</td>\n",
       "    </tr>\n",
       "    <tr>\n",
       "      <th>2</th>\n",
       "      <td>AR00000475401340059649</td>\n",
       "      <td>Vince Leach for Senate</td>\n",
       "      <td>VIDEO</td>\n",
       "      <td>https://adstransparency.google.com/advertiser/...</td>\n",
       "      <td>US</td>\n",
       "      <td>8/26/20</td>\n",
       "      <td>18</td>\n",
       "      <td>15000.0</td>\n",
       "      <td>Male, Female, Unknown gender</td>\n",
       "      <td>200</td>\n",
       "      <td>NaN</td>\n",
       "    </tr>\n",
       "    <tr>\n",
       "      <th>3</th>\n",
       "      <td>AR00000475401340059649</td>\n",
       "      <td>Vince Leach for Senate</td>\n",
       "      <td>VIDEO</td>\n",
       "      <td>https://adstransparency.google.com/advertiser/...</td>\n",
       "      <td>US</td>\n",
       "      <td>6/8/24</td>\n",
       "      <td>3</td>\n",
       "      <td>30000.0</td>\n",
       "      <td>Male, Female, Unknown gender</td>\n",
       "      <td>400</td>\n",
       "      <td>NaN</td>\n",
       "    </tr>\n",
       "    <tr>\n",
       "      <th>4</th>\n",
       "      <td>AR00000475401340059649</td>\n",
       "      <td>Vince Leach for Senate</td>\n",
       "      <td>TEXT</td>\n",
       "      <td>https://adstransparency.google.com/advertiser/...</td>\n",
       "      <td>US</td>\n",
       "      <td>5/1/24</td>\n",
       "      <td>91</td>\n",
       "      <td>400000.0</td>\n",
       "      <td>NaN</td>\n",
       "      <td>3000</td>\n",
       "      <td>NaN</td>\n",
       "    </tr>\n",
       "  </tbody>\n",
       "</table>\n",
       "</div>"
      ],
      "text/plain": [
       "            advertiser_id         advertiser_name ad_type  \\\n",
       "0  AR00000475401340059649  Vince Leach for Senate   IMAGE   \n",
       "1  AR00000475401340059649  Vince Leach for Senate   VIDEO   \n",
       "2  AR00000475401340059649  Vince Leach for Senate   VIDEO   \n",
       "3  AR00000475401340059649  Vince Leach for Senate   VIDEO   \n",
       "4  AR00000475401340059649  Vince Leach for Senate    TEXT   \n",
       "\n",
       "                                              ad_url regions date_range_start  \\\n",
       "0  https://adstransparency.google.com/advertiser/...      US          7/21/22   \n",
       "1  https://adstransparency.google.com/advertiser/...      US          7/12/24   \n",
       "2  https://adstransparency.google.com/advertiser/...      US          8/26/20   \n",
       "3  https://adstransparency.google.com/advertiser/...      US           6/8/24   \n",
       "4  https://adstransparency.google.com/advertiser/...      US           5/1/24   \n",
       "\n",
       "   num_of_days  impressions              gender_targeting  \\\n",
       "0           13      20000.0                           NaN   \n",
       "1           11     125000.0        Female, Unknown gender   \n",
       "2           18      15000.0  Male, Female, Unknown gender   \n",
       "3            3      30000.0  Male, Female, Unknown gender   \n",
       "4           91     400000.0                           NaN   \n",
       "\n",
       "   spend_range_max_usd ad_id  \n",
       "0                  100   NaN  \n",
       "1                 1500   NaN  \n",
       "2                  200   NaN  \n",
       "3                  400   NaN  \n",
       "4                 3000   NaN  "
      ]
     },
     "execution_count": 17,
     "metadata": {},
     "output_type": "execute_result"
    }
   ],
   "source": [
    "df.head()\n"
   ]
  },
  {
   "cell_type": "code",
   "execution_count": 18,
   "id": "71edc977",
   "metadata": {},
   "outputs": [
    {
     "data": {
      "text/plain": [
       "(300000, 11)"
      ]
     },
     "execution_count": 18,
     "metadata": {},
     "output_type": "execute_result"
    }
   ],
   "source": [
    "df.shape"
   ]
  },
  {
   "cell_type": "code",
   "execution_count": 19,
   "id": "96ea5221",
   "metadata": {},
   "outputs": [],
   "source": [
    "# Drop duplicate rows\n",
    "df = df.drop_duplicates()"
   ]
  },
  {
   "cell_type": "code",
   "execution_count": 20,
   "id": "c75caa2d",
   "metadata": {},
   "outputs": [
    {
     "data": {
      "text/plain": [
       "(300000, 11)"
      ]
     },
     "execution_count": 20,
     "metadata": {},
     "output_type": "execute_result"
    }
   ],
   "source": [
    "df.shape"
   ]
  },
  {
   "cell_type": "code",
   "execution_count": 21,
   "id": "3b133d2b",
   "metadata": {},
   "outputs": [],
   "source": [
    "# Optionally reset the index after dropping duplicates\n",
    "df = combined_df.reset_index(drop=True)"
   ]
  },
  {
   "cell_type": "code",
   "execution_count": 22,
   "id": "306fc2eb",
   "metadata": {},
   "outputs": [],
   "source": [
    "#-- Exporting the combined dataset for exploration in Excel --#\n",
    "\n",
    "df.to_csv('/Users/michaelsegaline/Desktop/Research Objectives/Political ads on Google/combined_df.csv', index =False)"
   ]
  },
  {
   "cell_type": "markdown",
   "id": "b386c19b",
   "metadata": {},
   "source": [
    "# Now going into data cleaning "
   ]
  },
  {
   "cell_type": "code",
   "execution_count": 23,
   "id": "c85f82d8",
   "metadata": {},
   "outputs": [
    {
     "name": "stdout",
     "output_type": "stream",
     "text": [
      "       date_range_start  Month  Day  Year\n",
      "0            2022-07-21      7   21  2022\n",
      "1            2024-07-12      7   12  2024\n",
      "2            2020-08-26      8   26  2020\n",
      "3            2024-06-08      6    8  2024\n",
      "4            2024-05-01      5    1  2024\n",
      "...                 ...    ...  ...   ...\n",
      "299995       2024-09-11      9   11  2024\n",
      "299996       2022-09-27      9   27  2022\n",
      "299997       2021-03-09      3    9  2021\n",
      "299998       2021-03-09      3    9  2021\n",
      "299999       2021-11-22     11   22  2021\n",
      "\n",
      "[300000 rows x 4 columns]\n"
     ]
    }
   ],
   "source": [
    "# Convert the 'date_range_start' column to datetime format\n",
    "df['date_range_start'] = pd.to_datetime(df['date_range_start'], errors='coerce')\n",
    "\n",
    "# Create new columns for 'Month', 'Day', and 'Year'\n",
    "df['Month'] = df['date_range_start'].dt.month\n",
    "df['Day'] = df['date_range_start'].dt.day\n",
    "df['Year'] = df['date_range_start'].dt.year\n",
    "\n",
    "# Display the resulting dataframe with the new columns\n",
    "print(df[['date_range_start', 'Month', 'Day', 'Year']])"
   ]
  },
  {
   "cell_type": "code",
   "execution_count": 24,
   "id": "9faf525d",
   "metadata": {},
   "outputs": [],
   "source": [
    "#-- Converting ad_type to binary via get_dummies --#\n",
    "# Convert 'ad_type' to binary using get_dummies\n",
    "df = pd.get_dummies(df, columns=['ad_type'], drop_first=True)"
   ]
  },
  {
   "cell_type": "code",
   "execution_count": 26,
   "id": "55cf17bd",
   "metadata": {},
   "outputs": [
    {
     "data": {
      "text/plain": [
       "Index(['advertiser_id', 'advertiser_name', 'ad_url', 'regions',\n",
       "       'date_range_start', 'num_of_days', 'impressions', 'gender_targeting',\n",
       "       'spend_range_max_usd', 'ad_id', 'Month', 'Day', 'Year', 'ad_type_TEXT',\n",
       "       'ad_type_VIDEO'],\n",
       "      dtype='object')"
      ]
     },
     "execution_count": 26,
     "metadata": {},
     "output_type": "execute_result"
    }
   ],
   "source": [
    "df.columns\n"
   ]
  },
  {
   "cell_type": "markdown",
   "id": "f15d1f52",
   "metadata": {},
   "source": [
    "# Now conducting Univariate Analysis"
   ]
  },
  {
   "cell_type": "code",
   "execution_count": 28,
   "id": "49dd8ffc",
   "metadata": {},
   "outputs": [
    {
     "data": {
      "image/png": "[encoded data removed]",
      "text/plain": [
       "<Figure size 800x600 with 1 Axes>"
      ]
     },
     "metadata": {},
     "output_type": "display_data"
    }
   ],
   "source": [
    "# KDE plot for num_of_days\n",
    "plt.figure(figsize=(8, 6))\n",
    "sns.kdeplot(df['num_of_days'], shade=True)\n",
    "plt.title('KDE Plot of num_of_days')\n",
    "plt.xlabel('Number of Days')\n",
    "plt.ylabel('Density')\n",
    "plt.show()"
   ]
  },
  {
   "cell_type": "code",
   "execution_count": 32,
   "id": "f9f5431d",
   "metadata": {},
   "outputs": [
    {
     "data": {
      "image/png": "[encoded data removed]",
      "text/plain": [
       "<Figure size 800x600 with 1 Axes>"
      ]
     },
     "metadata": {},
     "output_type": "display_data"
    }
   ],
   "source": [
    "# Create the KDE plot\n",
    "plt.figure(figsize=(8, 6))\n",
    "sns.kdeplot(df['spend_range_max_usd'], shade=True)\n",
    "\n",
    "# Set title and labels\n",
    "plt.title('KDE Plot of Spending')\n",
    "plt.xlabel('spend_range_max_usd')\n",
    "plt.ylabel('Density')\n",
    "\n",
    "# Set the x-axis limits for zoom-in effect (adjust based on your data)\n",
    "plt.xlim(0, 50000)  # Modify this range to suit your data\n",
    "\n",
    "# Format the ticks to avoid scientific notation\n",
    "plt.gca().xaxis.set_major_formatter(ticker.FuncFormatter(lambda x, _: f'{int(x):,}'))\n",
    "\n",
    "# Display the plot\n",
    "plt.show()"
   ]
  },
  {
   "cell_type": "code",
   "execution_count": 36,
   "id": "cff0bb25",
   "metadata": {},
   "outputs": [
    {
     "data": {
      "image/png": "[encoded data removed]",
      "text/plain": [
       "<Figure size 800x600 with 1 Axes>"
      ]
     },
     "metadata": {},
     "output_type": "display_data"
    }
   ],
   "source": [
    "# Create the KDE plot\n",
    "plt.figure(figsize=(8, 6))\n",
    "sns.kdeplot(df['impressions'], shade=True)\n",
    "\n",
    "# Set title and labels\n",
    "plt.title('KDE Plot of impressions')\n",
    "plt.xlabel('impressions')\n",
    "plt.ylabel('Density')\n",
    "\n",
    "# Set the x-axis limits for zoom-in effect (adjust based on your data)\n",
    "plt.xlim(0, 50000)  # Modify this range to suit your data\n",
    "\n",
    "# Format the ticks to avoid scientific notation\n",
    "plt.gca().xaxis.set_major_formatter(ticker.FuncFormatter(lambda x, _: f'{int(x):,}'))\n",
    "\n",
    "# Display the plot\n",
    "plt.show()"
   ]
  },
  {
   "cell_type": "code",
   "execution_count": 38,
   "id": "ee61e8c0",
   "metadata": {},
   "outputs": [
    {
     "data": {
      "text/plain": [
       "Text(0, 0.5, 'Count')"
      ]
     },
     "execution_count": 38,
     "metadata": {},
     "output_type": "execute_result"
    },
    {
     "data": {
      "image/png": "[encoded data removed]",
      "text/plain": [
       "<Figure size 800x600 with 1 Axes>"
      ]
     },
     "metadata": {},
     "output_type": "display_data"
    }
   ],
   "source": [
    "# Count the occurrences of each month\n",
    "month_counts = df['Month'].value_counts().sort_index()\n",
    "\n",
    "# Create the bar chart\n",
    "plt.figure(figsize=(8, 6))\n",
    "sns.barplot(x=month_counts.index, y=month_counts.values)\n",
    "\n",
    "# Set title and labels\n",
    "plt.title('Bar Chart of Month')\n",
    "plt.xlabel('Month')\n",
    "plt.ylabel('Count')"
   ]
  },
  {
   "cell_type": "code",
   "execution_count": 39,
   "id": "0f2b3e48",
   "metadata": {},
   "outputs": [
    {
     "data": {
      "text/plain": [
       "Text(0, 0.5, 'Count')"
      ]
     },
     "execution_count": 39,
     "metadata": {},
     "output_type": "execute_result"
    },
    {
     "data": {
      "image/png": "[encoded data removed]",
      "text/plain": [
       "<Figure size 800x600 with 1 Axes>"
      ]
     },
     "metadata": {},
     "output_type": "display_data"
    }
   ],
   "source": [
    "# Count the occurrences of each month\n",
    "day_counts = df['Day'].value_counts().sort_index()\n",
    "\n",
    "# Create the bar chart\n",
    "plt.figure(figsize=(8, 6))\n",
    "sns.barplot(x=day_counts.index, y=day_counts.values)\n",
    "\n",
    "# Set title and labels\n",
    "plt.title('Bar Chart of Day')\n",
    "plt.xlabel('Day')\n",
    "plt.ylabel('Count')"
   ]
  },
  {
   "cell_type": "code",
   "execution_count": 53,
   "id": "6821a61f",
   "metadata": {},
   "outputs": [
    {
     "data": {
      "text/plain": [
       "Text(0, 0.5, 'Count')"
      ]
     },
     "execution_count": 53,
     "metadata": {},
     "output_type": "execute_result"
    },
    {
     "data": {
      "image/png": "[encoded data removed]",
      "text/plain": [
       "<Figure size 800x600 with 1 Axes>"
      ]
     },
     "metadata": {},
     "output_type": "display_data"
    }
   ],
   "source": [
    "# Count the occurrences of each month\n",
    "yr_counts = df['Year'].value_counts().sort_index()\n",
    "\n",
    "# Create the bar chart\n",
    "plt.figure(figsize=(8, 6))\n",
    "sns.barplot(x=yr_counts.index, y=yr_counts.values)\n",
    "\n",
    "# Set title and labels\n",
    "plt.title('Google Political Ad Spending per Year')\n",
    "plt.xlabel('Years')\n",
    "plt.ylabel('Count')"
   ]
  },
  {
   "cell_type": "markdown",
   "id": "7ed9f1bd",
   "metadata": {},
   "source": [
    "# Now conducting Bivariate analysis"
   ]
  },
  {
   "cell_type": "code",
   "execution_count": 49,
   "id": "5569c68f",
   "metadata": {},
   "outputs": [
    {
     "data": {
      "image/png": "[encoded data removed]",
      "text/plain": [
       "<Figure size 1000x600 with 1 Axes>"
      ]
     },
     "metadata": {},
     "output_type": "display_data"
    }
   ],
   "source": [
    "plt.figure(figsize=(10, 6))\n",
    "sns.regplot(x='impressions', y='spend_range_max_usd', data=df, scatter_kws={'alpha':0.5})\n",
    "\n",
    "# Set the title and labels\n",
    "plt.title('Scatter Plot of Spending vs. Impressions with Regression Line')\n",
    "plt.xlabel('Impressions')\n",
    "plt.ylabel('Spending (in USD)')\n",
    "\n",
    "# Show the plot\n",
    "plt.show()"
   ]
  },
  {
   "cell_type": "code",
   "execution_count": 97,
   "id": "1527e15b",
   "metadata": {},
   "outputs": [
    {
     "name": "stdout",
     "output_type": "stream",
     "text": [
      "                                      advertiser_name  count\n",
      "64                       TRUMP NATIONAL COMMITTEE JFC      9\n",
      "12                                               DSCC      8\n",
      "56                             SALEM WEB NETWORK, LLC      8\n",
      "63           TRUMP MAKE AMERICA GREAT AGAIN COMMITTEE      8\n",
      "0                 AMERICANS FOR PROSPERITY ACTION INC      5\n",
      "4             CALIFORNIANS FOR EQUAL RIGHTS, NO ON 16      5\n",
      "40                                               NRSC      5\n",
      "29                                        KEVIN COMBS      4\n",
      "43                             PETE FOR AMERICA, INC.      4\n",
      "8                                                DCCC      3\n",
      "34                            MIKE BLOOMBERG 2020 INC      3\n",
      "55                                   SAHAK NALBANDYAN      3\n",
      "1                                 BIDEN FOR PRESIDENT      2\n",
      "2                                  BIDEN VICTORY FUND      2\n",
      "5                   COMMON SENSE LEADERSHIP FUND INC.      2\n",
      "14                            ELDER FOR GOVERNOR 2021      2\n",
      "20                                        Fiona Ching      2\n",
      "22                                   FreedomWorks Inc      2\n",
      "31  LEAGUE OF CONSERVATION VOTERS VICTORY FUND & P...      2\n",
      "38         NATIONAL DEMOCRATIC TRAINING COMMITTEE PAC      2\n",
      "42                                         ONE NATION      2\n",
      "51                        REPUBLICAN PARTY OF FLORIDA      2\n",
      "52  REPUBLICAN STATE LEADERSHIP COMMITTEE - WASHIN...      2\n",
      "57                             SENATE LEADERSHIP FUND      2\n",
      "3                    CALIFORNIA APARTMENT ASSOCIATION      1\n",
      "6                               CONSERVATIVE BUZZ LLC      1\n",
      "7                    Cheri Beasley for North Carolina      1\n",
      "9                        DEFENDING DEMOCRACY TOGETHER      1\n",
      "10                      DEMOCRATIC PARTY OF WISCONSIN      1\n",
      "11  DNC SERVICES CORP / DEMOCRATIC NATIONAL COMMITTEE      1\n",
      "13                               Dallas Express Media      1\n",
      "15                                     EPOCH USA INC.      1\n",
      "16         FEDERATION FOR AMERICAN IMMIGRATION REFORM      1\n",
      "17                                   FETTERMAN FOR PA      1\n",
      "18                        FORCE VECTOR COMMUNICATIONS      1\n",
      "19                            FRIENDS OF RON DESANTIS      1\n",
      "21                              Free Citizens Network      1\n",
      "23                          Future Forward USA Action      1\n",
      "24                                GEORGIA ACTION FUND      1\n",
      "25                                      GEORGIA HONOR      1\n",
      "26                                HARRIS VICTORY FUND      1\n",
      "27                               INDEPENDENCE USA PAC      1\n",
      "28                              Jon Ossoff for Senate      1\n",
      "30                        LAUREN BOEBERT FOR CONGRESS      1\n",
      "32                               Let America Vote PAC      1\n",
      "33                      MAKE AMERICA GREAT AGAIN INC.      1\n",
      "35                          MIKE BLOOMBERG 2020, INC.      1\n",
      "36                               MONTANANS FOR TESTER      1\n",
      "37                             MORGAN MEYER FOR TEXAS      1\n",
      "39                                               NRCC      1\n"
     ]
    }
   ],
   "source": [
    "# Define the range bins (tears) for impressions\n",
    "bins = [.5e7, .6e7, .7e7, .8e7, .9e7, .1e8]\n",
    "labels = ['500-600M', '600-700M', '700-800M', '800-900M', '900M-1B']\n",
    "\n",
    "# Create a new column that categorizes 'impressions' into these bins\n",
    "df['impression_tear'] = pd.cut(df['impressions'], bins=bins, labels=labels, right=False)\n",
    "\n",
    "# Filter the data for impressions in the '500-600M' range\n",
    "df_tear_500_600M = df[df['impression_tear'] == '500-600M']\n",
    "\n",
    "# Group by 'advertiser_name' and count the occurrences in this tear\n",
    "top_advertisers_tear_500_600M = (\n",
    "    df_tear_500_600M.groupby('advertiser_name')\n",
    "    .size()\n",
    "    .reset_index(name='count')\n",
    "    .nlargest(50, 'count')\n",
    ")\n",
    "\n",
    "# Display the top 50 advertisers for the '500-600M' tear\n",
    "print(top_advertisers_tear_500_600M)"
   ]
  },
  {
   "cell_type": "code",
   "execution_count": 99,
   "id": "e72cc91b",
   "metadata": {},
   "outputs": [
    {
     "name": "stdout",
     "output_type": "stream",
     "text": [
      "                                       advertiser_name  count\n",
      "93            TRUMP MAKE AMERICA GREAT AGAIN COMMITTEE     14\n",
      "94                        TRUMP NATIONAL COMMITTEE JFC     12\n",
      "77                              SALEM WEB NETWORK, LLC      8\n",
      "21                                                DCCC      7\n",
      "7                                  BIDEN FOR PRESIDENT      6\n",
      "27                                                DSCC      6\n",
      "56                                                NRCC      6\n",
      "16                               CONSERVATIVE BUZZ LLC      4\n",
      "79                              SENATE LEADERSHIP FUND      4\n",
      "81                                     SOS America PAC      4\n",
      "86            Save America Joint Fundraising Committee      4\n",
      "3                  AMERICANS FOR PROSPERITY ACTION INC      3\n",
      "45                               Jon Ossoff for Senate      3\n",
      "57                                                NRSC      3\n",
      "90                                   TIM RYAN FOR OHIO      3\n",
      "102  Yes on 27 - Californians for Solutions to Home...      3\n",
      "0                                             1111 LLC      2\n",
      "6                                  BEACHSIDE MEDIA INC      2\n",
      "14                                   COLOROFCHANGE PAC      2\n",
      "26                     DOUG JONES FOR SENATE COMMITTEE      2\n",
      "32                             FRIENDS OF RON DESANTIS      2\n",
      "33                                  FRIENDS OF SCHUMER      2\n",
      "40                                 HARRIS VICTORY FUND      2\n",
      "41                                 HEARTLAND INSTITUTE      2\n",
      "44                                          Inmo Khang      2\n",
      "46                                         KEVIN COMBS      2\n",
      "48   LEAGUE OF CONSERVATION VOTERS VICTORY FUND & P...      2\n",
      "53   NATIONAL RIFLE ASSOCIATION OF AMERICA POLITICA...      2\n",
      "70                                   Put Arizona First      2\n",
      "82                                 STANDING STRONG PAC      2\n",
      "85       STOP THE REPUBLICAN RECALL OF GOVERNOR NEWSOM      2\n",
      "88                            TAMMY BALDWIN FOR SENATE      2\n",
      "91                                     TOM STEYER 2020      2\n",
      "92                    TRUDY BUSCH VALENTINE FOR SENATE      2\n",
      "97                                  WEBUILDTHEWALL INC      2\n",
      "1                                  AMERICAN CROSSROADS      1\n",
      "2                         AMERICAN PROSPERITY ALLIANCE      1\n",
      "4                          AMERICANS UNITED FOR VALUES      1\n",
      "5                             Arizona Democratic Party      1\n",
      "8                                   BIDEN VICTORY FUND      1\n",
      "9                             BOB HUGIN FOR SENATE INC      1\n",
      "10                                     Bee For Georgia      1\n",
      "11                                   Bird For Congress      1\n",
      "12                      CAMPAIGN FOR TOBACCO-FREE KIDS      1\n",
      "13                                  CITIZENS FOR DOGAN      1\n",
      "15                       CONGRESSIONAL LEADERSHIP FUND      1\n",
      "17                           COOPER FOR NORTH CAROLINA      1\n",
      "18                             Californians for Choice      1\n",
      "19                             Comité Raúl López Vergé      1\n",
      "20                    Conservation Law Foundation, Inc      1\n"
     ]
    }
   ],
   "source": [
    "# Filter the data for impressions in the '600-700M' range\n",
    "df_tear_600_700M = df[df['impression_tear'] == '600-700M']\n",
    "\n",
    "# Group by 'advertiser_name' and count the occurrences in this tear\n",
    "top_advertisers_tear_600_700M = (\n",
    "    df_tear_600_700M.groupby('advertiser_name')\n",
    "    .size()\n",
    "    .reset_index(name='count')\n",
    "    .nlargest(50, 'count')\n",
    ")\n",
    "\n",
    "# Display the top 50 advertisers for the '600-700M' tear\n",
    "print(top_advertisers_tear_600_700M)"
   ]
  },
  {
   "cell_type": "code",
   "execution_count": 100,
   "id": "d0ac3480",
   "metadata": {},
   "outputs": [
    {
     "name": "stdout",
     "output_type": "stream",
     "text": [
      "                                      advertiser_name  count\n",
      "61           TRUMP MAKE AMERICA GREAT AGAIN COMMITTEE      9\n",
      "17                                               DCCC      7\n",
      "56                             SENATE LEADERSHIP FUND      6\n",
      "62                       TRUMP NATIONAL COMMITTEE JFC      6\n",
      "6                                 BEACHSIDE MEDIA INC      5\n",
      "29                            GREENSTRIPE MEDIA, INC.      4\n",
      "47                                         ONE NATION      4\n",
      "20  DNC SERVICES CORP / DEMOCRATIC NATIONAL COMMITTEE      3\n",
      "21                DONALD J. TRUMP FOR PRESIDENT, INC.      3\n",
      "22                                               DSCC      3\n",
      "42         NATIONAL DEMOCRATIC TRAINING COMMITTEE PAC      3\n",
      "46  No on 30 - Educators Opposed to Corporate Hand...      3\n",
      "59                                   STOP REPUBLICANS      3\n",
      "67                                UNICORN WEALTH, LLC      3\n",
      "76  Yes on 27 - Californians for Solutions to Home...      3\n",
      "1                 AMERICANS FOR PROSPERITY ACTION INC      2\n",
      "7                                 BIDEN FOR PRESIDENT      2\n",
      "19                           DIRECT MAILERS GROUP LLC      2\n",
      "32                                    JB for Governor      2\n",
      "33                                      Jan Dubauskas      2\n",
      "37                                  Lunario Media LLC      2\n",
      "39                            MIKE BLOOMBERG 2020 INC      2\n",
      "45                                               NRSC      2\n",
      "65            The Humane Society of the United States      2\n",
      "68                              VOTE YES FOR FAIRNESS      2\n",
      "72         YES ON 22 - SAVE APP-BASED JOBS & SERVICES      2\n",
      "0                        AMERICAN PROSPERITY ALLIANCE      1\n",
      "2                                 All For Our Country      1\n",
      "3                                     All In For Utah      1\n",
      "4                           American Policy Coalition      1\n",
      "5   Ashtabula County Republican Central and Execut...      1\n",
      "8                             Brian Zahra for Justice      1\n",
      "9                    CALIFORNIA APARTMENT ASSOCIATION      1\n",
      "10                           CIATTARELLI FOR GOVERNOR      1\n",
      "11                              COMSTOCK FOR CONGRESS      1\n",
      "12                      CONGRESSIONAL LEADERSHIP FUND      1\n",
      "13                              CONSERVATIVE BUZZ LLC      1\n",
      "14  Californians Supporting Ricardo Lara for Insur...      1\n",
      "15                   Cheri Beasley for North Carolina      1\n",
      "16  Coalition to Restore California's Middle Class...      1\n",
      "18                         DIGITAL COMMUNICATIONS LLC      1\n",
      "23                               Data Targeting, Inc.      1\n",
      "24                            Dow Jones & Company Inc      1\n",
      "25                                   EPOCH GROUP INC.      1\n",
      "26                            FRIENDS OF RON DESANTIS      1\n",
      "27                              Free Citizens Network      1\n",
      "28                                      GEORGIA HONOR      1\n",
      "30                                HARRIS VICTORY FUND      1\n",
      "31                        HERITAGE ACTION FOR AMERICA      1\n",
      "34  LEAGUE OF CONSERVATION VOTERS VICTORY FUND & P...      1\n"
     ]
    }
   ],
   "source": [
    "# Filter the data for impressions in the '700-800M' range\n",
    "df_tear_700_800M = df[df['impression_tear'] == '700-800M']\n",
    "\n",
    "# Group by 'advertiser_name' and count the occurrences in this tear\n",
    "top_advertisers_tear_700_800M = (\n",
    "    df_tear_700_800M.groupby('advertiser_name')\n",
    "    .size()\n",
    "    .reset_index(name='count')\n",
    "    .nlargest(50, 'count')\n",
    ")\n",
    "\n",
    "# Display the top 50 advertisers for the '500-600M' tear\n",
    "print(top_advertisers_tear_700_800M)"
   ]
  },
  {
   "cell_type": "code",
   "execution_count": 101,
   "id": "7100e926",
   "metadata": {},
   "outputs": [
    {
     "name": "stdout",
     "output_type": "stream",
     "text": [
      "                                      advertiser_name  count\n",
      "61           TRUMP MAKE AMERICA GREAT AGAIN COMMITTEE      9\n",
      "17                                               DCCC      7\n",
      "56                             SENATE LEADERSHIP FUND      6\n",
      "62                       TRUMP NATIONAL COMMITTEE JFC      6\n",
      "6                                 BEACHSIDE MEDIA INC      5\n",
      "29                            GREENSTRIPE MEDIA, INC.      4\n",
      "47                                         ONE NATION      4\n",
      "20  DNC SERVICES CORP / DEMOCRATIC NATIONAL COMMITTEE      3\n",
      "21                DONALD J. TRUMP FOR PRESIDENT, INC.      3\n",
      "22                                               DSCC      3\n",
      "42         NATIONAL DEMOCRATIC TRAINING COMMITTEE PAC      3\n",
      "46  No on 30 - Educators Opposed to Corporate Hand...      3\n",
      "59                                   STOP REPUBLICANS      3\n",
      "67                                UNICORN WEALTH, LLC      3\n",
      "76  Yes on 27 - Californians for Solutions to Home...      3\n",
      "1                 AMERICANS FOR PROSPERITY ACTION INC      2\n",
      "7                                 BIDEN FOR PRESIDENT      2\n",
      "19                           DIRECT MAILERS GROUP LLC      2\n",
      "32                                    JB for Governor      2\n",
      "33                                      Jan Dubauskas      2\n",
      "37                                  Lunario Media LLC      2\n",
      "39                            MIKE BLOOMBERG 2020 INC      2\n",
      "45                                               NRSC      2\n",
      "65            The Humane Society of the United States      2\n",
      "68                              VOTE YES FOR FAIRNESS      2\n",
      "72         YES ON 22 - SAVE APP-BASED JOBS & SERVICES      2\n",
      "0                        AMERICAN PROSPERITY ALLIANCE      1\n",
      "2                                 All For Our Country      1\n",
      "3                                     All In For Utah      1\n",
      "4                           American Policy Coalition      1\n",
      "5   Ashtabula County Republican Central and Execut...      1\n",
      "8                             Brian Zahra for Justice      1\n",
      "9                    CALIFORNIA APARTMENT ASSOCIATION      1\n",
      "10                           CIATTARELLI FOR GOVERNOR      1\n",
      "11                              COMSTOCK FOR CONGRESS      1\n",
      "12                      CONGRESSIONAL LEADERSHIP FUND      1\n",
      "13                              CONSERVATIVE BUZZ LLC      1\n",
      "14  Californians Supporting Ricardo Lara for Insur...      1\n",
      "15                   Cheri Beasley for North Carolina      1\n",
      "16  Coalition to Restore California's Middle Class...      1\n",
      "18                         DIGITAL COMMUNICATIONS LLC      1\n",
      "23                               Data Targeting, Inc.      1\n",
      "24                            Dow Jones & Company Inc      1\n",
      "25                                   EPOCH GROUP INC.      1\n",
      "26                            FRIENDS OF RON DESANTIS      1\n",
      "27                              Free Citizens Network      1\n",
      "28                                      GEORGIA HONOR      1\n",
      "30                                HARRIS VICTORY FUND      1\n",
      "31                        HERITAGE ACTION FOR AMERICA      1\n",
      "34  LEAGUE OF CONSERVATION VOTERS VICTORY FUND & P...      1\n"
     ]
    }
   ],
   "source": [
    "# Filter the data for impressions in the '800-900M' range\n",
    "df_tear_800_900M = df[df['impression_tear'] == '800-900M']\n",
    "\n",
    "# Group by 'advertiser_name' and count the occurrences in this tear\n",
    "top_advertisers_tear_800_900M = (\n",
    "    df_tear_700_800M.groupby('advertiser_name')\n",
    "    .size()\n",
    "    .reset_index(name='count')\n",
    "    .nlargest(50, 'count')\n",
    ")\n",
    "\n",
    "# Display the top 50 advertisers for the '800-900M' tear\n",
    "print(top_advertisers_tear_800_900M)"
   ]
  },
  {
   "cell_type": "code",
   "execution_count": 103,
   "id": "97279fcf",
   "metadata": {},
   "outputs": [
    {
     "name": "stdout",
     "output_type": "stream",
     "text": [
      "Empty DataFrame\n",
      "Columns: [advertiser_name, count]\n",
      "Index: []\n"
     ]
    }
   ],
   "source": [
    "# Filter the data for impressions in the '900-1Billion' range\n",
    "df_tear_900_1B = df[df['impression_tear'] == '900-1B']\n",
    "\n",
    "# Group by 'advertiser_name' and count the occurrences in this tear\n",
    "top_advertisers_tear_900_1B = (\n",
    "    df_tear_900_1B.groupby('advertiser_name')\n",
    "    .size()\n",
    "    .reset_index(name='count')\n",
    "    .nlargest(50, 'count')\n",
    ")\n",
    "\n",
    "# Display the top 50 advertisers for the '500-600M' tear\n",
    "print(top_advertisers_tear_900_1B)"
   ]
  },
  {
   "cell_type": "markdown",
   "id": "f6863ea5",
   "metadata": {},
   "source": [
    "# Now conducting multivariate exploration"
   ]
  },
  {
   "cell_type": "code",
   "execution_count": 43,
   "id": "c28b35e5",
   "metadata": {},
   "outputs": [
    {
     "data": {
      "image/png": "[encoded data removed]",
      "text/plain": [
       "<Figure size 1000x600 with 1 Axes>"
      ]
     },
     "metadata": {},
     "output_type": "display_data"
    }
   ],
   "source": [
    "# Group by 'Month' and sum the occurrences of each ad type\n",
    "month_ad_counts = df.groupby('Month')[['ad_type_TEXT', 'ad_type_VIDEO']].sum().reset_index()\n",
    "\n",
    "# Melt the data for easier plotting (long format)\n",
    "month_ad_melted = month_ad_counts.melt(id_vars='Month', \n",
    "                                       value_vars=['ad_type_TEXT', 'ad_type_VIDEO'], \n",
    "                                       var_name='Ad Type', \n",
    "                                       value_name='Count')\n",
    "\n",
    "# Create the bar chart\n",
    "plt.figure(figsize=(10, 6))\n",
    "sns.barplot(x='Month', y='Count', hue='Ad Type', data=month_ad_melted)\n",
    "\n",
    "# Set the title and labels\n",
    "plt.title('Comparison of Ad Types by Month')\n",
    "plt.xlabel('Month')\n",
    "plt.ylabel('Impressions')\n",
    "\n",
    "# Show the plot\n",
    "plt.show()"
   ]
  },
  {
   "cell_type": "code",
   "execution_count": 45,
   "id": "421ec861",
   "metadata": {},
   "outputs": [
    {
     "data": {
      "image/png": "[encoded data removed]",
      "text/plain": [
       "<Figure size 1000x600 with 1 Axes>"
      ]
     },
     "metadata": {},
     "output_type": "display_data"
    }
   ],
   "source": [
    "# Group by 'Day' and sum the occurrences of each ad type\n",
    "month_ad_counts = df.groupby('Day')[['ad_type_TEXT', 'ad_type_VIDEO']].sum().reset_index()\n",
    "\n",
    "# Melt the data for easier plotting (long format)\n",
    "month_ad_melted = month_ad_counts.melt(id_vars='Day', \n",
    "                                       value_vars=['ad_type_TEXT', 'ad_type_VIDEO'], \n",
    "                                       var_name='Ad Type', \n",
    "                                       value_name='Count')\n",
    "\n",
    "# Create the bar chart\n",
    "plt.figure(figsize=(10, 6))\n",
    "sns.barplot(x='Day', y='Count', hue='Ad Type', data=month_ad_melted)\n",
    "\n",
    "# Set the title and labels\n",
    "plt.title('Comparison of Ad Types by Day')\n",
    "plt.xlabel('Day')\n",
    "plt.ylabel('Impressions')\n",
    "\n",
    "# Show the plot\n",
    "plt.show()"
   ]
  },
  {
   "cell_type": "code",
   "execution_count": 46,
   "id": "470da8db",
   "metadata": {},
   "outputs": [
    {
     "data": {
      "image/png": "[encoded data removed]",
      "text/plain": [
       "<Figure size 1000x600 with 1 Axes>"
      ]
     },
     "metadata": {},
     "output_type": "display_data"
    }
   ],
   "source": [
    "# Group by 'Day' and sum the occurrences of each ad type\n",
    "year_ad_counts = df.groupby('Year')[['ad_type_TEXT', 'ad_type_VIDEO']].sum().reset_index()\n",
    "\n",
    "# Melt the data for easier plotting (long format)\n",
    "year_ad_melted = year_ad_counts.melt(id_vars='Year', \n",
    "                                       value_vars=['ad_type_TEXT', 'ad_type_VIDEO'], \n",
    "                                       var_name='Ad Type', \n",
    "                                       value_name='Count')\n",
    "\n",
    "# Create the bar chart\n",
    "plt.figure(figsize=(10, 6))\n",
    "sns.barplot(x='Year', y='Count', hue='Ad Type', data=year_ad_melted)\n",
    "\n",
    "# Set the title and labels\n",
    "plt.title('Comparison of Ad Types by Year')\n",
    "plt.xlabel('Year')\n",
    "plt.ylabel('Impressions')\n",
    "\n",
    "# Show the plot\n",
    "plt.show()"
   ]
  },
  {
   "cell_type": "markdown",
   "id": "7fa88aa5",
   "metadata": {},
   "source": [
    "# Exploring spending per impressions"
   ]
  },
  {
   "cell_type": "code",
   "execution_count": 47,
   "id": "c2422606",
   "metadata": {},
   "outputs": [
    {
     "data": {
      "image/png": "[encoded data removed]",
      "text/plain": [
       "<Figure size 1200x600 with 1 Axes>"
      ]
     },
     "metadata": {},
     "output_type": "display_data"
    }
   ],
   "source": [
    "# Group by 'Month' and sum spending and impressions\n",
    "month_spending_impressions = df.groupby('Month')[['spend_range_max_usd', 'impressions']].sum().reset_index()\n",
    "\n",
    "# Melt the data for easier plotting (long format)\n",
    "month_melted = month_spending_impressions.melt(id_vars='Month', \n",
    "                                                value_vars=['spend_range_max_usd', 'impressions'], \n",
    "                                                var_name='Metric', \n",
    "                                                value_name='Value')\n",
    "\n",
    "# Create the bar chart\n",
    "plt.figure(figsize=(12, 6))\n",
    "sns.barplot(x='Month', y='Value', hue='Metric', data=month_melted)\n",
    "\n",
    "# Set the title and labels\n",
    "plt.title('Comparison of Spending and Impressions by Month')\n",
    "plt.xlabel('Month')\n",
    "plt.ylabel('Total Value')\n",
    "\n",
    "# Show the plot\n",
    "plt.xticks(rotation=45)  # Rotate x-axis labels for better visibility\n",
    "plt.show()"
   ]
  },
  {
   "cell_type": "markdown",
   "id": "a97b793c",
   "metadata": {},
   "source": [
    "# Exploring which advertisers have spending the most money"
   ]
  },
  {
   "cell_type": "code",
   "execution_count": 55,
   "id": "0f8fc175",
   "metadata": {},
   "outputs": [
    {
     "data": {
      "text/html": [
       "<div>\n",
       "<style scoped>\n",
       "    .dataframe tbody tr th:only-of-type {\n",
       "        vertical-align: middle;\n",
       "    }\n",
       "\n",
       "    .dataframe tbody tr th {\n",
       "        vertical-align: top;\n",
       "    }\n",
       "\n",
       "    .dataframe thead th {\n",
       "        text-align: right;\n",
       "    }\n",
       "</style>\n",
       "<table border=\"1\" class=\"dataframe\">\n",
       "  <thead>\n",
       "    <tr style=\"text-align: right;\">\n",
       "      <th></th>\n",
       "      <th>advertiser_name</th>\n",
       "      <th>spend_range_max_usd</th>\n",
       "    </tr>\n",
       "  </thead>\n",
       "  <tbody>\n",
       "    <tr>\n",
       "      <th>259674</th>\n",
       "      <td>HARRIS VICTORY FUND</td>\n",
       "      <td>2000000</td>\n",
       "    </tr>\n",
       "    <tr>\n",
       "      <th>152957</th>\n",
       "      <td>BERNIE 2020</td>\n",
       "      <td>2000000</td>\n",
       "    </tr>\n",
       "    <tr>\n",
       "      <th>285046</th>\n",
       "      <td>BIDEN VICTORY FUND</td>\n",
       "      <td>2000000</td>\n",
       "    </tr>\n",
       "    <tr>\n",
       "      <th>206559</th>\n",
       "      <td>MIKE BLOOMBERG 2020 INC</td>\n",
       "      <td>2000000</td>\n",
       "    </tr>\n",
       "    <tr>\n",
       "      <th>48469</th>\n",
       "      <td>TRUMP NATIONAL COMMITTEE JFC</td>\n",
       "      <td>1500000</td>\n",
       "    </tr>\n",
       "    <tr>\n",
       "      <th>234342</th>\n",
       "      <td>YES ON 22 - SAVE APP-BASED JOBS &amp; SERVICES</td>\n",
       "      <td>1500000</td>\n",
       "    </tr>\n",
       "    <tr>\n",
       "      <th>24229</th>\n",
       "      <td>STANDING STRONG PAC</td>\n",
       "      <td>1500000</td>\n",
       "    </tr>\n",
       "    <tr>\n",
       "      <th>230965</th>\n",
       "      <td>AMY MCGRATH FOR SENATE, INC.</td>\n",
       "      <td>1500000</td>\n",
       "    </tr>\n",
       "    <tr>\n",
       "      <th>283210</th>\n",
       "      <td>CALIFORNIANS FOR TRIBAL SOVEREIGNTY SPONSORED ...</td>\n",
       "      <td>1500000</td>\n",
       "    </tr>\n",
       "    <tr>\n",
       "      <th>293498</th>\n",
       "      <td>YES on 26, NO on 27 - Coalition for Safe, Resp...</td>\n",
       "      <td>1500000</td>\n",
       "    </tr>\n",
       "    <tr>\n",
       "      <th>266199</th>\n",
       "      <td>Save America Joint Fundraising Committee</td>\n",
       "      <td>1500000</td>\n",
       "    </tr>\n",
       "    <tr>\n",
       "      <th>24358</th>\n",
       "      <td>Yes on 27 - Californians for Solutions to Home...</td>\n",
       "      <td>1500000</td>\n",
       "    </tr>\n",
       "    <tr>\n",
       "      <th>13651</th>\n",
       "      <td>DSCC</td>\n",
       "      <td>1500000</td>\n",
       "    </tr>\n",
       "    <tr>\n",
       "      <th>150770</th>\n",
       "      <td>FETTERMAN FOR PA</td>\n",
       "      <td>1000000</td>\n",
       "    </tr>\n",
       "    <tr>\n",
       "      <th>18244</th>\n",
       "      <td>FETTERMAN FOR PA</td>\n",
       "      <td>1000000</td>\n",
       "    </tr>\n",
       "    <tr>\n",
       "      <th>122735</th>\n",
       "      <td>TRUMP MAKE AMERICA GREAT AGAIN COMMITTEE</td>\n",
       "      <td>1000000</td>\n",
       "    </tr>\n",
       "    <tr>\n",
       "      <th>118572</th>\n",
       "      <td>Yes on 27 - Californians for Solutions to Home...</td>\n",
       "      <td>1000000</td>\n",
       "    </tr>\n",
       "    <tr>\n",
       "      <th>24389</th>\n",
       "      <td>Yes on 27 - Californians for Solutions to Home...</td>\n",
       "      <td>1000000</td>\n",
       "    </tr>\n",
       "    <tr>\n",
       "      <th>90180</th>\n",
       "      <td>NO ON 23 - STOP THE DANGEROUS &amp; COSTLY DIALYSI...</td>\n",
       "      <td>1000000</td>\n",
       "    </tr>\n",
       "    <tr>\n",
       "      <th>13003</th>\n",
       "      <td>DSCC</td>\n",
       "      <td>1000000</td>\n",
       "    </tr>\n",
       "    <tr>\n",
       "      <th>236926</th>\n",
       "      <td>TOM STEYER 2020</td>\n",
       "      <td>900000</td>\n",
       "    </tr>\n",
       "    <tr>\n",
       "      <th>18165</th>\n",
       "      <td>FETTERMAN FOR PA</td>\n",
       "      <td>900000</td>\n",
       "    </tr>\n",
       "    <tr>\n",
       "      <th>148851</th>\n",
       "      <td>DONALD J. TRUMP FOR PRESIDENT, INC.</td>\n",
       "      <td>900000</td>\n",
       "    </tr>\n",
       "    <tr>\n",
       "      <th>139900</th>\n",
       "      <td>MIKE BLOOMBERG 2020 INC</td>\n",
       "      <td>800000</td>\n",
       "    </tr>\n",
       "    <tr>\n",
       "      <th>132227</th>\n",
       "      <td>BIDEN FOR PRESIDENT</td>\n",
       "      <td>800000</td>\n",
       "    </tr>\n",
       "    <tr>\n",
       "      <th>277148</th>\n",
       "      <td>HARRIS VICTORY FUND</td>\n",
       "      <td>800000</td>\n",
       "    </tr>\n",
       "    <tr>\n",
       "      <th>48467</th>\n",
       "      <td>TRUMP NATIONAL COMMITTEE JFC</td>\n",
       "      <td>800000</td>\n",
       "    </tr>\n",
       "    <tr>\n",
       "      <th>280017</th>\n",
       "      <td>TRUMP NATIONAL COMMITTEE JFC</td>\n",
       "      <td>800000</td>\n",
       "    </tr>\n",
       "    <tr>\n",
       "      <th>268325</th>\n",
       "      <td>BIDEN FOR PRESIDENT</td>\n",
       "      <td>800000</td>\n",
       "    </tr>\n",
       "    <tr>\n",
       "      <th>48198</th>\n",
       "      <td>TRUMP NATIONAL COMMITTEE JFC</td>\n",
       "      <td>800000</td>\n",
       "    </tr>\n",
       "    <tr>\n",
       "      <th>234020</th>\n",
       "      <td>BIDEN FOR PRESIDENT</td>\n",
       "      <td>800000</td>\n",
       "    </tr>\n",
       "    <tr>\n",
       "      <th>185049</th>\n",
       "      <td>BIDEN FOR PRESIDENT</td>\n",
       "      <td>800000</td>\n",
       "    </tr>\n",
       "    <tr>\n",
       "      <th>169583</th>\n",
       "      <td>BIDEN FOR PRESIDENT</td>\n",
       "      <td>800000</td>\n",
       "    </tr>\n",
       "    <tr>\n",
       "      <th>42970</th>\n",
       "      <td>DCCC</td>\n",
       "      <td>700000</td>\n",
       "    </tr>\n",
       "    <tr>\n",
       "      <th>14498</th>\n",
       "      <td>DSCC</td>\n",
       "      <td>700000</td>\n",
       "    </tr>\n",
       "    <tr>\n",
       "      <th>115820</th>\n",
       "      <td>DONALD J. TRUMP FOR PRESIDENT, INC.</td>\n",
       "      <td>700000</td>\n",
       "    </tr>\n",
       "    <tr>\n",
       "      <th>204503</th>\n",
       "      <td>DCCC</td>\n",
       "      <td>700000</td>\n",
       "    </tr>\n",
       "    <tr>\n",
       "      <th>48382</th>\n",
       "      <td>TRUMP NATIONAL COMMITTEE JFC</td>\n",
       "      <td>700000</td>\n",
       "    </tr>\n",
       "    <tr>\n",
       "      <th>48350</th>\n",
       "      <td>TRUMP NATIONAL COMMITTEE JFC</td>\n",
       "      <td>700000</td>\n",
       "    </tr>\n",
       "    <tr>\n",
       "      <th>288320</th>\n",
       "      <td>DSCC</td>\n",
       "      <td>700000</td>\n",
       "    </tr>\n",
       "    <tr>\n",
       "      <th>95218</th>\n",
       "      <td>PETE FOR AMERICA, INC.</td>\n",
       "      <td>700000</td>\n",
       "    </tr>\n",
       "    <tr>\n",
       "      <th>98715</th>\n",
       "      <td>Abrams for Governor</td>\n",
       "      <td>700000</td>\n",
       "    </tr>\n",
       "    <tr>\n",
       "      <th>48366</th>\n",
       "      <td>TRUMP NATIONAL COMMITTEE JFC</td>\n",
       "      <td>700000</td>\n",
       "    </tr>\n",
       "    <tr>\n",
       "      <th>175632</th>\n",
       "      <td>TRUMP MAKE AMERICA GREAT AGAIN COMMITTEE</td>\n",
       "      <td>700000</td>\n",
       "    </tr>\n",
       "    <tr>\n",
       "      <th>285050</th>\n",
       "      <td>BIDEN VICTORY FUND</td>\n",
       "      <td>700000</td>\n",
       "    </tr>\n",
       "    <tr>\n",
       "      <th>297410</th>\n",
       "      <td>TRUMP NATIONAL COMMITTEE JFC</td>\n",
       "      <td>700000</td>\n",
       "    </tr>\n",
       "    <tr>\n",
       "      <th>297409</th>\n",
       "      <td>TRUMP NATIONAL COMMITTEE JFC</td>\n",
       "      <td>700000</td>\n",
       "    </tr>\n",
       "    <tr>\n",
       "      <th>14377</th>\n",
       "      <td>DSCC</td>\n",
       "      <td>600000</td>\n",
       "    </tr>\n",
       "    <tr>\n",
       "      <th>24400</th>\n",
       "      <td>Yes on 27 - Californians for Solutions to Home...</td>\n",
       "      <td>600000</td>\n",
       "    </tr>\n",
       "    <tr>\n",
       "      <th>13321</th>\n",
       "      <td>DSCC</td>\n",
       "      <td>600000</td>\n",
       "    </tr>\n",
       "  </tbody>\n",
       "</table>\n",
       "</div>"
      ],
      "text/plain": [
       "                                          advertiser_name  spend_range_max_usd\n",
       "259674                                HARRIS VICTORY FUND              2000000\n",
       "152957                                        BERNIE 2020              2000000\n",
       "285046                                 BIDEN VICTORY FUND              2000000\n",
       "206559                            MIKE BLOOMBERG 2020 INC              2000000\n",
       "48469                        TRUMP NATIONAL COMMITTEE JFC              1500000\n",
       "234342         YES ON 22 - SAVE APP-BASED JOBS & SERVICES              1500000\n",
       "24229                                 STANDING STRONG PAC              1500000\n",
       "230965                       AMY MCGRATH FOR SENATE, INC.              1500000\n",
       "283210  CALIFORNIANS FOR TRIBAL SOVEREIGNTY SPONSORED ...              1500000\n",
       "293498  YES on 26, NO on 27 - Coalition for Safe, Resp...              1500000\n",
       "266199           Save America Joint Fundraising Committee              1500000\n",
       "24358   Yes on 27 - Californians for Solutions to Home...              1500000\n",
       "13651                                                DSCC              1500000\n",
       "150770                                   FETTERMAN FOR PA              1000000\n",
       "18244                                    FETTERMAN FOR PA              1000000\n",
       "122735           TRUMP MAKE AMERICA GREAT AGAIN COMMITTEE              1000000\n",
       "118572  Yes on 27 - Californians for Solutions to Home...              1000000\n",
       "24389   Yes on 27 - Californians for Solutions to Home...              1000000\n",
       "90180   NO ON 23 - STOP THE DANGEROUS & COSTLY DIALYSI...              1000000\n",
       "13003                                                DSCC              1000000\n",
       "236926                                    TOM STEYER 2020               900000\n",
       "18165                                    FETTERMAN FOR PA               900000\n",
       "148851                DONALD J. TRUMP FOR PRESIDENT, INC.               900000\n",
       "139900                            MIKE BLOOMBERG 2020 INC               800000\n",
       "132227                                BIDEN FOR PRESIDENT               800000\n",
       "277148                                HARRIS VICTORY FUND               800000\n",
       "48467                        TRUMP NATIONAL COMMITTEE JFC               800000\n",
       "280017                       TRUMP NATIONAL COMMITTEE JFC               800000\n",
       "268325                                BIDEN FOR PRESIDENT               800000\n",
       "48198                        TRUMP NATIONAL COMMITTEE JFC               800000\n",
       "234020                                BIDEN FOR PRESIDENT               800000\n",
       "185049                                BIDEN FOR PRESIDENT               800000\n",
       "169583                                BIDEN FOR PRESIDENT               800000\n",
       "42970                                                DCCC               700000\n",
       "14498                                                DSCC               700000\n",
       "115820                DONALD J. TRUMP FOR PRESIDENT, INC.               700000\n",
       "204503                                               DCCC               700000\n",
       "48382                        TRUMP NATIONAL COMMITTEE JFC               700000\n",
       "48350                        TRUMP NATIONAL COMMITTEE JFC               700000\n",
       "288320                                               DSCC               700000\n",
       "95218                              PETE FOR AMERICA, INC.               700000\n",
       "98715                                 Abrams for Governor               700000\n",
       "48366                        TRUMP NATIONAL COMMITTEE JFC               700000\n",
       "175632           TRUMP MAKE AMERICA GREAT AGAIN COMMITTEE               700000\n",
       "285050                                 BIDEN VICTORY FUND               700000\n",
       "297410                       TRUMP NATIONAL COMMITTEE JFC               700000\n",
       "297409                       TRUMP NATIONAL COMMITTEE JFC               700000\n",
       "14377                                                DSCC               600000\n",
       "24400   Yes on 27 - Californians for Solutions to Home...               600000\n",
       "13321                                                DSCC               600000"
      ]
     },
     "execution_count": 55,
     "metadata": {},
     "output_type": "execute_result"
    }
   ],
   "source": [
    "# Sorting the dataset by 'spend_range_max_usd' in descending order\n",
    "df_sorted = df.sort_values(by='spend_range_max_usd', ascending=False)\n",
    "\n",
    "# Selecting the top 50 advertisers by 'spend_range_max_usd'\n",
    "top_50_advertisers = df_sorted[['advertiser_name', 'spend_range_max_usd']].head(50)\n",
    "\n",
    "# Display the list\n",
    "top_50_advertisers"
   ]
  },
  {
   "cell_type": "markdown",
   "id": "7ca5a500",
   "metadata": {},
   "source": [
    "# Exploring the advertisers with the most impressions "
   ]
  },
  {
   "cell_type": "code",
   "execution_count": 77,
   "id": "54b8e3cc",
   "metadata": {},
   "outputs": [
    {
     "data": {
      "text/html": [
       "<div>\n",
       "<style scoped>\n",
       "    .dataframe tbody tr th:only-of-type {\n",
       "        vertical-align: middle;\n",
       "    }\n",
       "\n",
       "    .dataframe tbody tr th {\n",
       "        vertical-align: top;\n",
       "    }\n",
       "\n",
       "    .dataframe thead th {\n",
       "        text-align: right;\n",
       "    }\n",
       "</style>\n",
       "<table border=\"1\" class=\"dataframe\">\n",
       "  <thead>\n",
       "    <tr style=\"text-align: right;\">\n",
       "      <th></th>\n",
       "      <th>advertiser_name</th>\n",
       "      <th>impressions</th>\n",
       "    </tr>\n",
       "  </thead>\n",
       "  <tbody>\n",
       "    <tr>\n",
       "      <th>259674</th>\n",
       "      <td>HARRIS VICTORY FUND</td>\n",
       "      <td>NaN</td>\n",
       "    </tr>\n",
       "    <tr>\n",
       "      <th>152957</th>\n",
       "      <td>BERNIE 2020</td>\n",
       "      <td>9000000.0</td>\n",
       "    </tr>\n",
       "    <tr>\n",
       "      <th>285046</th>\n",
       "      <td>BIDEN VICTORY FUND</td>\n",
       "      <td>350000.0</td>\n",
       "    </tr>\n",
       "    <tr>\n",
       "      <th>206559</th>\n",
       "      <td>MIKE BLOOMBERG 2020 INC</td>\n",
       "      <td>NaN</td>\n",
       "    </tr>\n",
       "    <tr>\n",
       "      <th>48469</th>\n",
       "      <td>TRUMP NATIONAL COMMITTEE JFC</td>\n",
       "      <td>2000000.0</td>\n",
       "    </tr>\n",
       "    <tr>\n",
       "      <th>234342</th>\n",
       "      <td>YES ON 22 - SAVE APP-BASED JOBS &amp; SERVICES</td>\n",
       "      <td>1750000.0</td>\n",
       "    </tr>\n",
       "    <tr>\n",
       "      <th>24229</th>\n",
       "      <td>STANDING STRONG PAC</td>\n",
       "      <td>NaN</td>\n",
       "    </tr>\n",
       "    <tr>\n",
       "      <th>230965</th>\n",
       "      <td>AMY MCGRATH FOR SENATE, INC.</td>\n",
       "      <td>3500000.0</td>\n",
       "    </tr>\n",
       "    <tr>\n",
       "      <th>283210</th>\n",
       "      <td>CALIFORNIANS FOR TRIBAL SOVEREIGNTY SPONSORED ...</td>\n",
       "      <td>600000.0</td>\n",
       "    </tr>\n",
       "    <tr>\n",
       "      <th>293498</th>\n",
       "      <td>YES on 26, NO on 27 - Coalition for Safe, Resp...</td>\n",
       "      <td>600000.0</td>\n",
       "    </tr>\n",
       "    <tr>\n",
       "      <th>266199</th>\n",
       "      <td>Save America Joint Fundraising Committee</td>\n",
       "      <td>NaN</td>\n",
       "    </tr>\n",
       "    <tr>\n",
       "      <th>24358</th>\n",
       "      <td>Yes on 27 - Californians for Solutions to Home...</td>\n",
       "      <td>NaN</td>\n",
       "    </tr>\n",
       "    <tr>\n",
       "      <th>13651</th>\n",
       "      <td>DSCC</td>\n",
       "      <td>NaN</td>\n",
       "    </tr>\n",
       "    <tr>\n",
       "      <th>150770</th>\n",
       "      <td>FETTERMAN FOR PA</td>\n",
       "      <td>2000000.0</td>\n",
       "    </tr>\n",
       "    <tr>\n",
       "      <th>18244</th>\n",
       "      <td>FETTERMAN FOR PA</td>\n",
       "      <td>2000000.0</td>\n",
       "    </tr>\n",
       "    <tr>\n",
       "      <th>122735</th>\n",
       "      <td>TRUMP MAKE AMERICA GREAT AGAIN COMMITTEE</td>\n",
       "      <td>NaN</td>\n",
       "    </tr>\n",
       "    <tr>\n",
       "      <th>118572</th>\n",
       "      <td>Yes on 27 - Californians for Solutions to Home...</td>\n",
       "      <td>350000.0</td>\n",
       "    </tr>\n",
       "    <tr>\n",
       "      <th>24389</th>\n",
       "      <td>Yes on 27 - Californians for Solutions to Home...</td>\n",
       "      <td>350000.0</td>\n",
       "    </tr>\n",
       "    <tr>\n",
       "      <th>90180</th>\n",
       "      <td>NO ON 23 - STOP THE DANGEROUS &amp; COSTLY DIALYSI...</td>\n",
       "      <td>700000.0</td>\n",
       "    </tr>\n",
       "    <tr>\n",
       "      <th>13003</th>\n",
       "      <td>DSCC</td>\n",
       "      <td>900000.0</td>\n",
       "    </tr>\n",
       "    <tr>\n",
       "      <th>236926</th>\n",
       "      <td>TOM STEYER 2020</td>\n",
       "      <td>6000000.0</td>\n",
       "    </tr>\n",
       "    <tr>\n",
       "      <th>18165</th>\n",
       "      <td>FETTERMAN FOR PA</td>\n",
       "      <td>2250000.0</td>\n",
       "    </tr>\n",
       "    <tr>\n",
       "      <th>148851</th>\n",
       "      <td>DONALD J. TRUMP FOR PRESIDENT, INC.</td>\n",
       "      <td>2000000.0</td>\n",
       "    </tr>\n",
       "    <tr>\n",
       "      <th>139900</th>\n",
       "      <td>MIKE BLOOMBERG 2020 INC</td>\n",
       "      <td>5000000.0</td>\n",
       "    </tr>\n",
       "    <tr>\n",
       "      <th>132227</th>\n",
       "      <td>BIDEN FOR PRESIDENT</td>\n",
       "      <td>NaN</td>\n",
       "    </tr>\n",
       "    <tr>\n",
       "      <th>277148</th>\n",
       "      <td>HARRIS VICTORY FUND</td>\n",
       "      <td>NaN</td>\n",
       "    </tr>\n",
       "    <tr>\n",
       "      <th>48467</th>\n",
       "      <td>TRUMP NATIONAL COMMITTEE JFC</td>\n",
       "      <td>1250000.0</td>\n",
       "    </tr>\n",
       "    <tr>\n",
       "      <th>280017</th>\n",
       "      <td>TRUMP NATIONAL COMMITTEE JFC</td>\n",
       "      <td>1250000.0</td>\n",
       "    </tr>\n",
       "    <tr>\n",
       "      <th>268325</th>\n",
       "      <td>BIDEN FOR PRESIDENT</td>\n",
       "      <td>NaN</td>\n",
       "    </tr>\n",
       "    <tr>\n",
       "      <th>48198</th>\n",
       "      <td>TRUMP NATIONAL COMMITTEE JFC</td>\n",
       "      <td>NaN</td>\n",
       "    </tr>\n",
       "    <tr>\n",
       "      <th>234020</th>\n",
       "      <td>BIDEN FOR PRESIDENT</td>\n",
       "      <td>NaN</td>\n",
       "    </tr>\n",
       "    <tr>\n",
       "      <th>185049</th>\n",
       "      <td>BIDEN FOR PRESIDENT</td>\n",
       "      <td>NaN</td>\n",
       "    </tr>\n",
       "    <tr>\n",
       "      <th>169583</th>\n",
       "      <td>BIDEN FOR PRESIDENT</td>\n",
       "      <td>2500000.0</td>\n",
       "    </tr>\n",
       "    <tr>\n",
       "      <th>42970</th>\n",
       "      <td>DCCC</td>\n",
       "      <td>450000.0</td>\n",
       "    </tr>\n",
       "    <tr>\n",
       "      <th>14498</th>\n",
       "      <td>DSCC</td>\n",
       "      <td>1250000.0</td>\n",
       "    </tr>\n",
       "    <tr>\n",
       "      <th>115820</th>\n",
       "      <td>DONALD J. TRUMP FOR PRESIDENT, INC.</td>\n",
       "      <td>NaN</td>\n",
       "    </tr>\n",
       "    <tr>\n",
       "      <th>204503</th>\n",
       "      <td>DCCC</td>\n",
       "      <td>450000.0</td>\n",
       "    </tr>\n",
       "    <tr>\n",
       "      <th>48382</th>\n",
       "      <td>TRUMP NATIONAL COMMITTEE JFC</td>\n",
       "      <td>2000000.0</td>\n",
       "    </tr>\n",
       "    <tr>\n",
       "      <th>48350</th>\n",
       "      <td>TRUMP NATIONAL COMMITTEE JFC</td>\n",
       "      <td>300000.0</td>\n",
       "    </tr>\n",
       "    <tr>\n",
       "      <th>288320</th>\n",
       "      <td>DSCC</td>\n",
       "      <td>300000.0</td>\n",
       "    </tr>\n",
       "    <tr>\n",
       "      <th>95218</th>\n",
       "      <td>PETE FOR AMERICA, INC.</td>\n",
       "      <td>4500000.0</td>\n",
       "    </tr>\n",
       "    <tr>\n",
       "      <th>98715</th>\n",
       "      <td>Abrams for Governor</td>\n",
       "      <td>1750000.0</td>\n",
       "    </tr>\n",
       "    <tr>\n",
       "      <th>48366</th>\n",
       "      <td>TRUMP NATIONAL COMMITTEE JFC</td>\n",
       "      <td>NaN</td>\n",
       "    </tr>\n",
       "    <tr>\n",
       "      <th>175632</th>\n",
       "      <td>TRUMP MAKE AMERICA GREAT AGAIN COMMITTEE</td>\n",
       "      <td>NaN</td>\n",
       "    </tr>\n",
       "    <tr>\n",
       "      <th>285050</th>\n",
       "      <td>BIDEN VICTORY FUND</td>\n",
       "      <td>150000.0</td>\n",
       "    </tr>\n",
       "    <tr>\n",
       "      <th>297410</th>\n",
       "      <td>TRUMP NATIONAL COMMITTEE JFC</td>\n",
       "      <td>2000000.0</td>\n",
       "    </tr>\n",
       "    <tr>\n",
       "      <th>297409</th>\n",
       "      <td>TRUMP NATIONAL COMMITTEE JFC</td>\n",
       "      <td>300000.0</td>\n",
       "    </tr>\n",
       "    <tr>\n",
       "      <th>14377</th>\n",
       "      <td>DSCC</td>\n",
       "      <td>NaN</td>\n",
       "    </tr>\n",
       "    <tr>\n",
       "      <th>24400</th>\n",
       "      <td>Yes on 27 - Californians for Solutions to Home...</td>\n",
       "      <td>225000.0</td>\n",
       "    </tr>\n",
       "    <tr>\n",
       "      <th>13321</th>\n",
       "      <td>DSCC</td>\n",
       "      <td>300000.0</td>\n",
       "    </tr>\n",
       "  </tbody>\n",
       "</table>\n",
       "</div>"
      ],
      "text/plain": [
       "                                          advertiser_name  impressions\n",
       "259674                                HARRIS VICTORY FUND          NaN\n",
       "152957                                        BERNIE 2020    9000000.0\n",
       "285046                                 BIDEN VICTORY FUND     350000.0\n",
       "206559                            MIKE BLOOMBERG 2020 INC          NaN\n",
       "48469                        TRUMP NATIONAL COMMITTEE JFC    2000000.0\n",
       "234342         YES ON 22 - SAVE APP-BASED JOBS & SERVICES    1750000.0\n",
       "24229                                 STANDING STRONG PAC          NaN\n",
       "230965                       AMY MCGRATH FOR SENATE, INC.    3500000.0\n",
       "283210  CALIFORNIANS FOR TRIBAL SOVEREIGNTY SPONSORED ...     600000.0\n",
       "293498  YES on 26, NO on 27 - Coalition for Safe, Resp...     600000.0\n",
       "266199           Save America Joint Fundraising Committee          NaN\n",
       "24358   Yes on 27 - Californians for Solutions to Home...          NaN\n",
       "13651                                                DSCC          NaN\n",
       "150770                                   FETTERMAN FOR PA    2000000.0\n",
       "18244                                    FETTERMAN FOR PA    2000000.0\n",
       "122735           TRUMP MAKE AMERICA GREAT AGAIN COMMITTEE          NaN\n",
       "118572  Yes on 27 - Californians for Solutions to Home...     350000.0\n",
       "24389   Yes on 27 - Californians for Solutions to Home...     350000.0\n",
       "90180   NO ON 23 - STOP THE DANGEROUS & COSTLY DIALYSI...     700000.0\n",
       "13003                                                DSCC     900000.0\n",
       "236926                                    TOM STEYER 2020    6000000.0\n",
       "18165                                    FETTERMAN FOR PA    2250000.0\n",
       "148851                DONALD J. TRUMP FOR PRESIDENT, INC.    2000000.0\n",
       "139900                            MIKE BLOOMBERG 2020 INC    5000000.0\n",
       "132227                                BIDEN FOR PRESIDENT          NaN\n",
       "277148                                HARRIS VICTORY FUND          NaN\n",
       "48467                        TRUMP NATIONAL COMMITTEE JFC    1250000.0\n",
       "280017                       TRUMP NATIONAL COMMITTEE JFC    1250000.0\n",
       "268325                                BIDEN FOR PRESIDENT          NaN\n",
       "48198                        TRUMP NATIONAL COMMITTEE JFC          NaN\n",
       "234020                                BIDEN FOR PRESIDENT          NaN\n",
       "185049                                BIDEN FOR PRESIDENT          NaN\n",
       "169583                                BIDEN FOR PRESIDENT    2500000.0\n",
       "42970                                                DCCC     450000.0\n",
       "14498                                                DSCC    1250000.0\n",
       "115820                DONALD J. TRUMP FOR PRESIDENT, INC.          NaN\n",
       "204503                                               DCCC     450000.0\n",
       "48382                        TRUMP NATIONAL COMMITTEE JFC    2000000.0\n",
       "48350                        TRUMP NATIONAL COMMITTEE JFC     300000.0\n",
       "288320                                               DSCC     300000.0\n",
       "95218                              PETE FOR AMERICA, INC.    4500000.0\n",
       "98715                                 Abrams for Governor    1750000.0\n",
       "48366                        TRUMP NATIONAL COMMITTEE JFC          NaN\n",
       "175632           TRUMP MAKE AMERICA GREAT AGAIN COMMITTEE          NaN\n",
       "285050                                 BIDEN VICTORY FUND     150000.0\n",
       "297410                       TRUMP NATIONAL COMMITTEE JFC    2000000.0\n",
       "297409                       TRUMP NATIONAL COMMITTEE JFC     300000.0\n",
       "14377                                                DSCC          NaN\n",
       "24400   Yes on 27 - Californians for Solutions to Home...     225000.0\n",
       "13321                                                DSCC     300000.0"
      ]
     },
     "execution_count": 77,
     "metadata": {},
     "output_type": "execute_result"
    }
   ],
   "source": [
    "#-- Sorting the dataset by 'impressions' in descending order --#\n",
    "df2_sorted = df.sort_values(by='spend_range_max_usd', ascending=False)\n",
    "\n",
    "#-- Selecting the top 50 advertisers by 'spend_range_max_usd' --#\n",
    "top_50_reach = df2_sorted[['advertiser_name', 'impressions']].head(50)\n",
    "\n",
    "#-- Display the list --#\n",
    "top_50_reach"
   ]
  },
  {
   "cell_type": "markdown",
   "id": "f6ed0de1",
   "metadata": {},
   "source": [
    "# Exploring the Google Ad spending of Donald Trump"
   ]
  },
  {
   "cell_type": "code",
   "execution_count": 56,
   "id": "fed05c89",
   "metadata": {},
   "outputs": [
    {
     "name": "stdout",
     "output_type": "stream",
     "text": [
      "Total spend by advertisers with 'TRUMP' or 'Trump' in their name: 54847200\n"
     ]
    }
   ],
   "source": [
    "# Filter rows where 'advertiser_name' contains \"TRUMP\" or \"Trump\"\n",
    "trump_advertisers = df[df['advertiser_name'].str.contains('TRUMP|Trump', case=False, na=False)]\n",
    "\n",
    "# Sum the 'spend_range_max_usd' for those advertisers\n",
    "total_spend_trump = trump_advertisers['spend_range_max_usd'].sum()\n",
    "\n",
    "# Display the result\n",
    "print(f\"Total spend by advertisers with 'TRUMP' or 'Trump' in their name: {total_spend_trump}\")"
   ]
  },
  {
   "cell_type": "code",
   "execution_count": 58,
   "id": "b407f7c5",
   "metadata": {},
   "outputs": [
    {
     "name": "stdout",
     "output_type": "stream",
     "text": [
      "Total spend by Trump advertisers in 2020: 25900100\n",
      "Total spend by Trump advertisers in 2024: 22897100\n"
     ]
    }
   ],
   "source": [
    "# Filter rows where 'advertiser_name' contains \"TRUMP\" or \"Trump\" and year is 2020\n",
    "trump_2020 = df[(df['advertiser_name'].str.contains('TRUMP|Trump', case=False, na=False)) & (df['Year'] == 2020)]\n",
    "\n",
    "# Filter rows where 'advertiser_name' contains \"TRUMP\" or \"Trump\" and year is 2024\n",
    "trump_2024 = df[(df['advertiser_name'].str.contains('TRUMP|Trump', case=False, na=False)) & (df['Year'] == 2024)]\n",
    "\n",
    "# Sum the 'spend_range_max_usd' for those advertisers in 2020 and 2024\n",
    "total_spend_trump_2020 = trump_2020['spend_range_max_usd'].sum()\n",
    "total_spend_trump_2024 = trump_2024['spend_range_max_usd'].sum()\n",
    "\n",
    "# Display the result\n",
    "print(f\"Total spend by Trump advertisers in 2020: {total_spend_trump_2020}\")\n",
    "print(f\"Total spend by Trump advertisers in 2024: {total_spend_trump_2024}\")"
   ]
  },
  {
   "cell_type": "markdown",
   "id": "56e7d711",
   "metadata": {},
   "source": [
    "Exploring the impression rate for Trump"
   ]
  },
  {
   "cell_type": "code",
   "execution_count": 60,
   "id": "f6ab0635",
   "metadata": {},
   "outputs": [
    {
     "name": "stdout",
     "output_type": "stream",
     "text": [
      "Total impressions with Donal Trump: 2451565000.0\n"
     ]
    }
   ],
   "source": [
    "# Filter rows where 'advertiser_name' contains \"TRUMP\" or \"Trump\"\n",
    "trump_advertisers = df[df['advertiser_name'].str.contains('TRUMP|Trump', case=False, na=False)]\n",
    "\n",
    "# Sum the 'spend_range_max_usd' for those advertisers\n",
    "total_spend_trump = trump_advertisers['impressions'].sum()\n",
    "\n",
    "# Display the result\n",
    "print(f\"Total impressions with Donal Trump: {total_spend_trump}\")"
   ]
  },
  {
   "cell_type": "code",
   "execution_count": 67,
   "id": "31b10934",
   "metadata": {},
   "outputs": [
    {
     "name": "stdout",
     "output_type": "stream",
     "text": [
      "Total impressions for Trump in 2020: 1359480000.0\n",
      "Total impressions for Trump in 2024: 676675000.0\n"
     ]
    }
   ],
   "source": [
    "\n",
    "# Sum the 'spend_range_max_usd' for those advertisers in 2020 and 2024\n",
    "total_views_trump_2020 = trump_2020['impressions'].sum()\n",
    "total_views_trump_2024 = trump_2024['impressions'].sum()\n",
    "\n",
    "# Display the result\n",
    "print(f\"Total impressions for Trump in 2020: {total_views_trump_2020}\")\n",
    "print(f\"Total impressions for Trump in 2024: {total_views_trump_2024}\")"
   ]
  },
  {
   "cell_type": "markdown",
   "id": "a5d993b2",
   "metadata": {},
   "source": [
    "Exploring the impression rate"
   ]
  },
  {
   "cell_type": "code",
   "execution_count": 70,
   "id": "d6e2b5fb",
   "metadata": {},
   "outputs": [
    {
     "data": {
      "text/plain": [
       "52.48937262790491"
      ]
     },
     "execution_count": 70,
     "metadata": {},
     "output_type": "execute_result"
    }
   ],
   "source": [
    "#-- Donald Trump Ad Impression rate for 2020 was 52 impressions per dollar --#\n",
    "\n",
    "1359480000 / 25900100"
   ]
  },
  {
   "cell_type": "code",
   "execution_count": 71,
   "id": "f80e1b19",
   "metadata": {},
   "outputs": [
    {
     "data": {
      "text/plain": [
       "29.55286914063353"
      ]
     },
     "execution_count": 71,
     "metadata": {},
     "output_type": "execute_result"
    }
   ],
   "source": [
    "#-- Donald Trump Ad Impression rate for 2024 is 29 impressions per dollar --#\n",
    "676675000 / 22897100"
   ]
  },
  {
   "cell_type": "markdown",
   "id": "07967130",
   "metadata": {},
   "source": [
    "# Exploring the Google Ad spending of Kamala Harris"
   ]
  },
  {
   "cell_type": "code",
   "execution_count": 62,
   "id": "3bc002b2",
   "metadata": {},
   "outputs": [
    {
     "name": "stdout",
     "output_type": "stream",
     "text": [
      "Total spend by Harris advertisers in 2020: 887000\n",
      "Total spend by Harris advertisers in 2024: 16502600\n"
     ]
    }
   ],
   "source": [
    "# Filter rows where 'advertiser_name' contains \"TRUMP\" or \"Trump\" and year is 2020\n",
    "harris_2020 = df[(df['advertiser_name'].str.contains('HARRIS|Harris', case=False, na=False)) & (df['Year'] == 2020)]\n",
    "\n",
    "# Filter rows where 'advertiser_name' contains \"TRUMP\" or \"Trump\" and year is 2024\n",
    "harris_2024 = df[(df['advertiser_name'].str.contains('HARRIS|Harris', case=False, na=False)) & (df['Year'] == 2024)]\n",
    "\n",
    "# Sum the 'spend_range_max_usd' for those advertisers in 2020 and 2024\n",
    "total_spend_harris_2020 = harris_2020['spend_range_max_usd'].sum()\n",
    "total_spend_harris_2024 = harris_2024['spend_range_max_usd'].sum()\n",
    "\n",
    "# Display the result\n",
    "print(f\"Total spend by Harris advertisers in 2020: {total_spend_harris_2020}\")\n",
    "print(f\"Total spend by Harris advertisers in 2024: {total_spend_harris_2024}\")"
   ]
  },
  {
   "cell_type": "markdown",
   "id": "67c8a2bb",
   "metadata": {},
   "source": [
    "Exploring the impression rate for Harris"
   ]
  },
  {
   "cell_type": "code",
   "execution_count": 63,
   "id": "4afc52a9",
   "metadata": {},
   "outputs": [
    {
     "name": "stdout",
     "output_type": "stream",
     "text": [
      "Total impressions for Harris in 2020: 67283000.0\n",
      "Total impressions for Harris in 2024: 329469000.0\n"
     ]
    }
   ],
   "source": [
    "\n",
    "# Sum the 'spend_range_max_usd' for those advertisers in 2020 and 2024\n",
    "total_views_harris_2020 = harris_2020['impressions'].sum()\n",
    "total_views_harris_2024 = harris_2024['impressions'].sum()\n",
    "\n",
    "# Display the result\n",
    "print(f\"Total impressions for Harris in 2020: {total_views_harris_2020}\")\n",
    "print(f\"Total impressions for Harris in 2024: {total_views_harris_2024}\")"
   ]
  },
  {
   "cell_type": "markdown",
   "id": "5939e5c7",
   "metadata": {},
   "source": [
    "Calculating the impression rate for Harris."
   ]
  },
  {
   "cell_type": "code",
   "execution_count": 65,
   "id": "08102ec0",
   "metadata": {},
   "outputs": [
    {
     "data": {
      "text/plain": [
       "75.85456595264938"
      ]
     },
     "execution_count": 65,
     "metadata": {},
     "output_type": "execute_result"
    }
   ],
   "source": [
    "#-- Harris got approximently 75 impressions per dollar in 2020 --#\n",
    "total_views_harris_2020 / total_spend_harris_2020"
   ]
  },
  {
   "cell_type": "code",
   "execution_count": 66,
   "id": "04908bcb",
   "metadata": {},
   "outputs": [
    {
     "data": {
      "text/plain": [
       "19.964672233466242"
      ]
     },
     "execution_count": 66,
     "metadata": {},
     "output_type": "execute_result"
    }
   ],
   "source": [
    "#-- Harris gets approximently 20 impression per dollar in 2024 --# \n",
    "total_views_harris_2024 / total_spend_harris_2024"
   ]
  },
  {
   "cell_type": "markdown",
   "id": "a9cabcbe",
   "metadata": {},
   "source": [
    "# Exploring the impression rate for Joe Biden "
   ]
  },
  {
   "cell_type": "code",
   "execution_count": 74,
   "id": "7646f969",
   "metadata": {},
   "outputs": [
    {
     "name": "stdout",
     "output_type": "stream",
     "text": [
      "Total spend by Biden advertisers in 2020: 20419000\n",
      "Total spend by Biden advertisers in 2024: 4762800\n"
     ]
    }
   ],
   "source": [
    "#-- Filtering rows where 'advertiser_name' contains \"BIDEN\" or \"Biden\" and year is 2020 --#\n",
    "biden_2020 = df[(df['advertiser_name'].str.contains('BIDEN|Biden', case=False, na=False)) & (df['Year'] == 2020)]\n",
    "\n",
    "#-- Filtering rows where 'advertiser_name' contains \"BIDEN\" or \"Biden\" and year is 2024 --#\n",
    "biden_2024 = df[(df['advertiser_name'].str.contains('BIDEN|Biden', case=False, na=False)) & (df['Year'] == 2024)]\n",
    "\n",
    "#-- Summing the 'spend_range_max_usd' for those advertisers in 2020 and 2024 --#\n",
    "total_spend_biden_2020 = biden_2020['spend_range_max_usd'].sum()\n",
    "total_spend_biden_2024 = biden_2024['spend_range_max_usd'].sum()\n",
    "\n",
    "#-- Displaying the result --#\n",
    "print(f\"Total spend by Biden advertisers in 2020: {total_spend_biden_2020}\")\n",
    "print(f\"Total spend by Biden advertisers in 2024: {total_spend_biden_2024}\")"
   ]
  },
  {
   "cell_type": "markdown",
   "id": "177fab4c",
   "metadata": {},
   "source": [
    "Exploring the impression rate"
   ]
  },
  {
   "cell_type": "code",
   "execution_count": 73,
   "id": "e7074b3a",
   "metadata": {},
   "outputs": [
    {
     "name": "stdout",
     "output_type": "stream",
     "text": [
      "Total impressions for Biden in 2020: 729991000.0\n",
      "Total impressions for Biden in 2024: 259376000.0\n"
     ]
    }
   ],
   "source": [
    "#-- Sum the 'spend_range_max_usd' for those advertisers in 2020 and 2024 --#\n",
    "total_views_biden_2020 = biden_2020['impressions'].sum()\n",
    "total_views_biden_2024 = biden_2024['impressions'].sum()\n",
    "\n",
    "#-- Display the result --#\n",
    "print(f\"Total impressions for Biden in 2020: {total_views_biden_2020}\")\n",
    "print(f\"Total impressions for Biden in 2024: {total_views_biden_2024}\")"
   ]
  },
  {
   "cell_type": "code",
   "execution_count": 75,
   "id": "3218a970",
   "metadata": {},
   "outputs": [
    {
     "data": {
      "text/plain": [
       "35.750575444439"
      ]
     },
     "execution_count": 75,
     "metadata": {},
     "output_type": "execute_result"
    }
   ],
   "source": [
    "#-- Biden recieved 35 impression per $1 in 2020 --#\n",
    "729991000 / 20419000"
   ]
  },
  {
   "cell_type": "code",
   "execution_count": 76,
   "id": "37b929d4",
   "metadata": {},
   "outputs": [
    {
     "data": {
      "text/plain": [
       "54.45872176030906"
      ]
     },
     "execution_count": 76,
     "metadata": {},
     "output_type": "execute_result"
    }
   ],
   "source": [
    "#-- Biden recieved 54 impressions per $1 in 2024 --#\n",
    "\n",
    "259376000 / 4762800"
   ]
  },
  {
   "cell_type": "markdown",
   "id": "1cc78200",
   "metadata": {},
   "source": [
    "# Exploring impression rate for Republicans"
   ]
  },
  {
   "cell_type": "code",
   "execution_count": 84,
   "id": "312f8404",
   "metadata": {},
   "outputs": [
    {
     "name": "stdout",
     "output_type": "stream",
     "text": [
      "Total spend by Republican advertisers in 2020: 2437700\n",
      "Total spend by Republican advertisers in 2024: 1585700\n"
     ]
    }
   ],
   "source": [
    "rep_2020 = df[(df['advertiser_name'].str.contains('REPUBLICAN|Republican', case=False, na=False)) & (df['Year'] == 2020)]\n",
    "\n",
    "rep_2024 = df[(df['advertiser_name'].str.contains('REPUBLICAN|Republican', case=False, na=False)) & (df['Year'] == 2024)]\n",
    "\n",
    "#-- Summing the 'spend_range_max_usd' for those advertisers in 2020 and 2024 --#\n",
    "total_spend_rep_2020 = rep_2020['spend_range_max_usd'].sum()\n",
    "total_spend_rep_2024 = rep_2024['spend_range_max_usd'].sum()\n",
    "\n",
    "#-- Displaying the result --#\n",
    "print(f\"Total spend by Republican advertisers in 2020: {total_spend_rep_2020}\")\n",
    "print(f\"Total spend by Republican advertisers in 2024: {total_spend_rep_2024}\")"
   ]
  },
  {
   "cell_type": "code",
   "execution_count": 85,
   "id": "de8ec6a1",
   "metadata": {},
   "outputs": [
    {
     "name": "stdout",
     "output_type": "stream",
     "text": [
      "Total impressions for Repulicans in 2020: 269498000.0\n",
      "Total impressions for Repulicans in 2024: 99585000.0\n"
     ]
    }
   ],
   "source": [
    "#-- Sum the 'impressions' for those advertisers in 2020 and 2024 --#\n",
    "total_views_rep_2020 = rep_2020['impressions'].sum()\n",
    "total_views_rep_2024 = rep_2024['impressions'].sum()\n",
    "\n",
    "#-- Display the result --#\n",
    "print(f\"Total impressions for Repulicans in 2020: {total_views_rep_2020}\")\n",
    "print(f\"Total impressions for Repulicans in 2024: {total_views_rep_2024}\")"
   ]
  },
  {
   "cell_type": "code",
   "execution_count": 86,
   "id": "9602a7d1",
   "metadata": {},
   "outputs": [
    {
     "data": {
      "text/plain": [
       "615.7139593328764"
      ]
     },
     "execution_count": 86,
     "metadata": {},
     "output_type": "execute_result"
    }
   ],
   "source": [
    "#-- Republicans recieved 615 impression per $1 in 2020 --#\n",
    "269498000 / 437700"
   ]
  },
  {
   "cell_type": "code",
   "execution_count": 87,
   "id": "b1dd7ed1",
   "metadata": {},
   "outputs": [
    {
     "data": {
      "text/plain": [
       "62.801917134388596"
      ]
     },
     "execution_count": 87,
     "metadata": {},
     "output_type": "execute_result"
    }
   ],
   "source": [
    "#-- Republicans recieved 62 impression per $1 in 2024 --#\n",
    "\n",
    "99585000 / 1585700"
   ]
  },
  {
   "cell_type": "markdown",
   "id": "496851aa",
   "metadata": {},
   "source": [
    "# Exploring impressions for Democrats"
   ]
  },
  {
   "cell_type": "code",
   "execution_count": 89,
   "id": "3f944f04",
   "metadata": {},
   "outputs": [
    {
     "name": "stdout",
     "output_type": "stream",
     "text": [
      "Total spend by Democrat advertisers in 2020: 2437700\n",
      "Total spend by Democrat advertisers in 2024: 1585700\n"
     ]
    }
   ],
   "source": [
    "dem_2020 = df[(df['advertiser_name'].str.contains('DEMOCRAT|Democrat', case=False, na=False)) & (df['Year'] == 2020)]\n",
    "\n",
    "dem_2024 = df[(df['advertiser_name'].str.contains('DEMOCRAT|Democrat', case=False, na=False)) & (df['Year'] == 2024)]\n",
    "\n",
    "#-- Summing the 'spend_range_max_usd' for those advertisers in 2020 and 2024 --#\n",
    "total_spend_dem_2020 = rep_2020['spend_range_max_usd'].sum()\n",
    "total_spend_dem_2024 = rep_2024['spend_range_max_usd'].sum()\n",
    "\n",
    "#-- Displaying the result --#\n",
    "print(f\"Total spend by Democrat advertisers in 2020: {total_spend_dem_2020}\")\n",
    "print(f\"Total spend by Democrat advertisers in 2024: {total_spend_dem_2024}\")"
   ]
  },
  {
   "cell_type": "code",
   "execution_count": 90,
   "id": "ec057751",
   "metadata": {},
   "outputs": [
    {
     "name": "stdout",
     "output_type": "stream",
     "text": [
      "Total impressions for Democrats in 2020: 407780000.0\n",
      "Total impressions for Democrats in 2024: 20855000.0\n"
     ]
    }
   ],
   "source": [
    "#-- Sum the 'impressions' for those advertisers in 2020 and 2024 --#\n",
    "total_views_dem_2020 = dem_2020['impressions'].sum()\n",
    "total_views_dem_2024 = dem_2024['impressions'].sum()\n",
    "\n",
    "#-- Display the result --#\n",
    "print(f\"Total impressions for Democrats in 2020: {total_views_dem_2020}\")\n",
    "print(f\"Total impressions for Democrats in 2024: {total_views_dem_2024}\")"
   ]
  },
  {
   "cell_type": "code",
   "execution_count": 91,
   "id": "06ab2109",
   "metadata": {},
   "outputs": [
    {
     "data": {
      "text/plain": [
       "167.28063338392747"
      ]
     },
     "execution_count": 91,
     "metadata": {},
     "output_type": "execute_result"
    }
   ],
   "source": [
    "#-- Democrats recieved 167 impression per $1 in 2020 --#\n",
    "407780000.0 / 2437700"
   ]
  },
  {
   "cell_type": "code",
   "execution_count": 94,
   "id": "858b1e86",
   "metadata": {},
   "outputs": [
    {
     "data": {
      "text/plain": [
       "13.151920287570158"
      ]
     },
     "execution_count": 94,
     "metadata": {},
     "output_type": "execute_result"
    }
   ],
   "source": [
    "#-- Democrats recieved 13 impression per $1 in 2024 --#\n",
    "20855000.0 / 1585700"
   ]
  },
  {
   "cell_type": "code",
   "execution_count": null,
   "id": "376a5cc5",
   "metadata": {},
   "outputs": [],
   "source": []
  }
 ],
 "metadata": {
  "kernelspec": {
   "display_name": "Python 3 (ipykernel)",
   "language": "python",
   "name": "python3"
  },
  "language_info": {
   "codemirror_mode": {
    "name": "ipython",
    "version": 3
   },
   "file_extension": ".py",
   "mimetype": "text/x-python",
   "name": "python",
   "nbconvert_exporter": "python",
   "pygments_lexer": "ipython3",
   "version": "3.9.13"
  }
 },
 "nbformat": 4,
 "nbformat_minor": 5
}
