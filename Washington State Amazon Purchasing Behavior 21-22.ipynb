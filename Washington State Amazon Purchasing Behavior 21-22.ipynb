{
 "cells": [
  {
   "cell_type": "markdown",
   "id": "4c52bd6a",
   "metadata": {},
   "source": [
    "# Washington State Amazon Purchasing Behavior Analysis from 2021 - 2022\n",
    "\n",
    "The following data mining is an exploritory analysis and prescriptive statistic for Washington State Agency's Amazon purchasing behavior. The following industry intelligence:\n",
    "\n",
    "A list of all Washington State agencys that have purchased from Amazon.\n",
    "\n",
    "The top 20 agencies highest spending agencies.\n",
    "The varaince of spending per top 20 agencies.\n",
    "The top 20 agencies most purchased item category.\n",
    "The iteams in the highest spending day of the top agency.\n",
    "A WordCloud generation of the most common words in the item 'description'.\n",
    "The highest spending month.\n",
    "The rate of spending per year covered.\n",
    "A list of the top spending day per top 10 departments.\n",
    "\n",
    "\n",
    "H0: There is NO association between the purchase of two or more products.\n",
    "\n",
    "H1: There is an association between the purchase of two or more products. \n",
    "\n",
    "Delegate Profile:\n",
    "\n",
    "Name: \n",
    "District: 4, Congressional District 5\n",
    "\n",
    "Biography:\n",
    "As the esteemed delegate representing District 4 within Congressional District 5, [Your Name] brings a wealth of expertise and dedication to the service of the constituents. With a background in data science and a passion for transparency and accountability, [Your Name] is committed to advocating for the interests and welfare of the community.\n",
    "\n",
    "Data Mining Findings on Amazon Spending:\n",
    "In addition to legislative duties, [Your Name] has conducted extensive data mining analyses on Amazon spending within Washington State agencies, uncovering critical insights into procurement practices and expenditure trends. Through meticulous examination of publicly available datasets, [Your Name] revealed notable patterns, including a surge in bulk purchasing by the Department of Children, Youth, and Families (DCYF) and significant expenditures by the Department of Social and Health Services (DSHS) on apparel.\n",
    "\n",
    "Furthermore, [Your Name] discovered discrepancies and deviations from established procurement protocols, such as the Department of Corrections' substantial expenditure on bulk book purchases under the guise of emergency procurement, and the Department of Fish and Wildlife's focus on acquiring personal laptops through emergency channels.\n",
    "\n",
    "By shedding light on these findings, [Your Name] aims to promote transparency, accountability, and prudent spending practices within state agencies. Through data-driven insights, [Your Name] advocates for informed decision-making and fiscal responsibility, ensuring taxpayer dollars are allocated efficiently and ethically.\n",
    "\n",
    "[Your Name] is committed to leveraging their expertise in data science to inform legislative initiatives, advocate for policy reforms, and empower constituents with the knowledge and tools to hold government agencies accountable. With a dedication to serving the community and upholding the principles of integrity and transparency, [Your Name] continues to be a steadfast advocate for the people of District 4 within Congressional District 5."
   ]
  },
  {
   "cell_type": "code",
   "execution_count": 1,
   "id": "fb724311",
   "metadata": {},
   "outputs": [],
   "source": [
    "#-- Importing liberaries --#\n",
    "\n",
    "import pandas as pd\n",
    "import numpy as np\n",
    "import seaborn as sns\n",
    "import matplotlib.pyplot as plt\n",
    "import warnings \n",
    "warnings.filterwarnings(\"ignore\")\n",
    "from wordcloud import WordCloud\n",
    "from sklearn.model_selection import cross_val_score\n",
    "from sklearn.metrics import mean_squared_error, mean_absolute_error, r2_score\n",
    "from sklearn.model_selection import GridSearchCV\n",
    "from sklearn.metrics import accuracy_score, classification_report\n",
    "from sklearn.model_selection import train_test_split\n",
    "from sklearn.preprocessing import LabelEncoder\n",
    "from sklearn.pipeline import make_pipeline\n",
    "from sklearn.preprocessing import StandardScaler\n",
    "from sklearn.neighbors import KNeighborsClassifier\n",
    "from sklearn.tree import DecisionTreeClassifier\n",
    "from sklearn.ensemble import RandomForestClassifier\n",
    "from sklearn.decomposition import PCA\n",
    "from sklearn.preprocessing import StandardScaler\n",
    "from sklearn.cluster import KMeans\n",
    "\n",
    "from mlxtend.frequent_patterns import apriori\n",
    "from mlxtend.frequent_patterns import association_rules"
   ]
  },
  {
   "cell_type": "code",
   "execution_count": 2,
   "id": "5de68996",
   "metadata": {},
   "outputs": [],
   "source": [
    "#-- Importing the dataset --#\n",
    "df = pd.read_csv('/Users/michaelsegaline/Desktop/Research Objectives/Washington State Amazon spendng /State_Agency_Amazon_Spend_Fiscal_Year_22 copy.csv')"
   ]
  },
  {
   "cell_type": "markdown",
   "id": "95b4c928",
   "metadata": {},
   "source": [
    "# Step1 Data import and Cleaning"
   ]
  },
  {
   "cell_type": "code",
   "execution_count": 3,
   "id": "6f26c8ed",
   "metadata": {},
   "outputs": [
    {
     "data": {
      "text/html": [
       "<div>\n",
       "<style scoped>\n",
       "    .dataframe tbody tr th:only-of-type {\n",
       "        vertical-align: middle;\n",
       "    }\n",
       "\n",
       "    .dataframe tbody tr th {\n",
       "        vertical-align: top;\n",
       "    }\n",
       "\n",
       "    .dataframe thead th {\n",
       "        text-align: right;\n",
       "    }\n",
       "</style>\n",
       "<table border=\"1\" class=\"dataframe\">\n",
       "  <thead>\n",
       "    <tr style=\"text-align: right;\">\n",
       "      <th></th>\n",
       "      <th>Month</th>\n",
       "      <th>Day</th>\n",
       "      <th>Year</th>\n",
       "      <th>Agency</th>\n",
       "      <th>Category</th>\n",
       "      <th>desc</th>\n",
       "      <th>Amount</th>\n",
       "      <th>Item_Qty</th>\n",
       "    </tr>\n",
       "  </thead>\n",
       "  <tbody>\n",
       "    <tr>\n",
       "      <th>0</th>\n",
       "      <td>6</td>\n",
       "      <td>30</td>\n",
       "      <td>2022</td>\n",
       "      <td>NATURAL RESOURCES DEPARTMENT OF</td>\n",
       "      <td>Personal Computer</td>\n",
       "      <td>Asus</td>\n",
       "      <td>323.89</td>\n",
       "      <td>1</td>\n",
       "    </tr>\n",
       "    <tr>\n",
       "      <th>1</th>\n",
       "      <td>6</td>\n",
       "      <td>30</td>\n",
       "      <td>2022</td>\n",
       "      <td>NATURAL RESOURCES DEPARTMENT OF</td>\n",
       "      <td>CE</td>\n",
       "      <td>LOBKIN</td>\n",
       "      <td>15.86</td>\n",
       "      <td>2</td>\n",
       "    </tr>\n",
       "    <tr>\n",
       "      <th>2</th>\n",
       "      <td>6</td>\n",
       "      <td>30</td>\n",
       "      <td>2022</td>\n",
       "      <td>FISH AND WILDLIFE DEPARTMENT OF</td>\n",
       "      <td>Kitchen</td>\n",
       "      <td>ADXCO</td>\n",
       "      <td>24.85</td>\n",
       "      <td>1</td>\n",
       "    </tr>\n",
       "    <tr>\n",
       "      <th>3</th>\n",
       "      <td>6</td>\n",
       "      <td>30</td>\n",
       "      <td>2022</td>\n",
       "      <td>FISH AND WILDLIFE DEPARTMENT OF</td>\n",
       "      <td>Kitchen</td>\n",
       "      <td>Hawaiian Luau Party Porch Sign</td>\n",
       "      <td>23.76</td>\n",
       "      <td>2</td>\n",
       "    </tr>\n",
       "    <tr>\n",
       "      <th>4</th>\n",
       "      <td>6</td>\n",
       "      <td>30</td>\n",
       "      <td>2022</td>\n",
       "      <td>FISH AND WILDLIFE DEPARTMENT OF</td>\n",
       "      <td>Apparel</td>\n",
       "      <td>Hajoyful</td>\n",
       "      <td>26.98</td>\n",
       "      <td>1</td>\n",
       "    </tr>\n",
       "  </tbody>\n",
       "</table>\n",
       "</div>"
      ],
      "text/plain": [
       "   Month  Day  Year                          Agency            Category  \\\n",
       "0      6   30  2022  NATURAL RESOURCES DEPARTMENT OF  Personal Computer   \n",
       "1      6   30  2022  NATURAL RESOURCES DEPARTMENT OF                 CE   \n",
       "2      6   30  2022  FISH AND WILDLIFE DEPARTMENT OF            Kitchen   \n",
       "3      6   30  2022  FISH AND WILDLIFE DEPARTMENT OF            Kitchen   \n",
       "4      6   30  2022  FISH AND WILDLIFE DEPARTMENT OF            Apparel   \n",
       "\n",
       "                             desc  Amount  Item_Qty  \n",
       "0                            Asus  323.89         1  \n",
       "1                          LOBKIN   15.86         2  \n",
       "2                           ADXCO   24.85         1  \n",
       "3  Hawaiian Luau Party Porch Sign   23.76         2  \n",
       "4                        Hajoyful   26.98         1  "
      ]
     },
     "execution_count": 3,
     "metadata": {},
     "output_type": "execute_result"
    }
   ],
   "source": [
    "#-- Inspecting the Head --#\n",
    "df.head()"
   ]
  },
  {
   "cell_type": "code",
   "execution_count": 4,
   "id": "f4c7fa9a",
   "metadata": {},
   "outputs": [
    {
     "data": {
      "text/plain": [
       "(486273, 8)"
      ]
     },
     "execution_count": 4,
     "metadata": {},
     "output_type": "execute_result"
    }
   ],
   "source": [
    "#-- Inspecting the shape --#\n",
    "df.shape"
   ]
  },
  {
   "cell_type": "code",
   "execution_count": 5,
   "id": "d299e605",
   "metadata": {},
   "outputs": [
    {
     "data": {
      "text/html": [
       "<div>\n",
       "<style scoped>\n",
       "    .dataframe tbody tr th:only-of-type {\n",
       "        vertical-align: middle;\n",
       "    }\n",
       "\n",
       "    .dataframe tbody tr th {\n",
       "        vertical-align: top;\n",
       "    }\n",
       "\n",
       "    .dataframe thead th {\n",
       "        text-align: right;\n",
       "    }\n",
       "</style>\n",
       "<table border=\"1\" class=\"dataframe\">\n",
       "  <thead>\n",
       "    <tr style=\"text-align: right;\">\n",
       "      <th></th>\n",
       "      <th>Month</th>\n",
       "      <th>Day</th>\n",
       "      <th>Amount</th>\n",
       "      <th>Item_Qty</th>\n",
       "    </tr>\n",
       "  </thead>\n",
       "  <tbody>\n",
       "    <tr>\n",
       "      <th>count</th>\n",
       "      <td>486273.000000</td>\n",
       "      <td>486273.000000</td>\n",
       "      <td>486096.000000</td>\n",
       "      <td>486273.000000</td>\n",
       "    </tr>\n",
       "    <tr>\n",
       "      <th>mean</th>\n",
       "      <td>6.290228</td>\n",
       "      <td>15.538076</td>\n",
       "      <td>90.727673</td>\n",
       "      <td>2.297423</td>\n",
       "    </tr>\n",
       "    <tr>\n",
       "      <th>std</th>\n",
       "      <td>3.396592</td>\n",
       "      <td>8.682386</td>\n",
       "      <td>260.139283</td>\n",
       "      <td>5.349342</td>\n",
       "    </tr>\n",
       "    <tr>\n",
       "      <th>min</th>\n",
       "      <td>1.000000</td>\n",
       "      <td>1.000000</td>\n",
       "      <td>0.000000</td>\n",
       "      <td>0.000000</td>\n",
       "    </tr>\n",
       "    <tr>\n",
       "      <th>25%</th>\n",
       "      <td>3.000000</td>\n",
       "      <td>8.000000</td>\n",
       "      <td>17.600000</td>\n",
       "      <td>1.000000</td>\n",
       "    </tr>\n",
       "    <tr>\n",
       "      <th>50%</th>\n",
       "      <td>6.000000</td>\n",
       "      <td>15.000000</td>\n",
       "      <td>35.910000</td>\n",
       "      <td>1.000000</td>\n",
       "    </tr>\n",
       "    <tr>\n",
       "      <th>75%</th>\n",
       "      <td>9.000000</td>\n",
       "      <td>23.000000</td>\n",
       "      <td>86.230000</td>\n",
       "      <td>2.000000</td>\n",
       "    </tr>\n",
       "    <tr>\n",
       "      <th>max</th>\n",
       "      <td>12.000000</td>\n",
       "      <td>31.000000</td>\n",
       "      <td>59075.800000</td>\n",
       "      <td>777.000000</td>\n",
       "    </tr>\n",
       "  </tbody>\n",
       "</table>\n",
       "</div>"
      ],
      "text/plain": [
       "               Month            Day         Amount       Item_Qty\n",
       "count  486273.000000  486273.000000  486096.000000  486273.000000\n",
       "mean        6.290228      15.538076      90.727673       2.297423\n",
       "std         3.396592       8.682386     260.139283       5.349342\n",
       "min         1.000000       1.000000       0.000000       0.000000\n",
       "25%         3.000000       8.000000      17.600000       1.000000\n",
       "50%         6.000000      15.000000      35.910000       1.000000\n",
       "75%         9.000000      23.000000      86.230000       2.000000\n",
       "max        12.000000      31.000000   59075.800000     777.000000"
      ]
     },
     "execution_count": 5,
     "metadata": {},
     "output_type": "execute_result"
    }
   ],
   "source": [
    "#-- Getting descriptive statisitcs --#\n",
    "df.describe()"
   ]
  },
  {
   "cell_type": "code",
   "execution_count": 6,
   "id": "0502cc0c",
   "metadata": {},
   "outputs": [
    {
     "data": {
      "text/plain": [
       "(424156, 8)"
      ]
     },
     "execution_count": 6,
     "metadata": {},
     "output_type": "execute_result"
    }
   ],
   "source": [
    "#-- Drop all duplicate rows --#\n",
    "df = df.drop_duplicates()\n",
    "df.shape"
   ]
  },
  {
   "cell_type": "code",
   "execution_count": 7,
   "id": "0617d145",
   "metadata": {},
   "outputs": [],
   "source": [
    "#-- Dropping any rows that may have missing values --# \n",
    "df = df.dropna()"
   ]
  },
  {
   "cell_type": "code",
   "execution_count": 8,
   "id": "db149255",
   "metadata": {},
   "outputs": [
    {
     "data": {
      "text/plain": [
       "(57712, 8)"
      ]
     },
     "execution_count": 8,
     "metadata": {},
     "output_type": "execute_result"
    }
   ],
   "source": [
    "df.shape"
   ]
  },
  {
   "cell_type": "code",
   "execution_count": 9,
   "id": "2a55ee5d",
   "metadata": {},
   "outputs": [
    {
     "name": "stdout",
     "output_type": "stream",
     "text": [
      "Repeat purchases: 428561\n",
      "Repeat pruchase %: 0.8813176960267175\n"
     ]
    }
   ],
   "source": [
    "double = 486273 - 57712\n",
    "repeat = double / 486273\n",
    "print(f'Repeat purchases: {double}')\n",
    "print(f'Repeat pruchase %: {repeat}')\n"
   ]
  },
  {
   "cell_type": "code",
   "execution_count": 10,
   "id": "a1412a3a",
   "metadata": {},
   "outputs": [
    {
     "data": {
      "text/html": [
       "<div>\n",
       "<style scoped>\n",
       "    .dataframe tbody tr th:only-of-type {\n",
       "        vertical-align: middle;\n",
       "    }\n",
       "\n",
       "    .dataframe tbody tr th {\n",
       "        vertical-align: top;\n",
       "    }\n",
       "\n",
       "    .dataframe thead th {\n",
       "        text-align: right;\n",
       "    }\n",
       "</style>\n",
       "<table border=\"1\" class=\"dataframe\">\n",
       "  <thead>\n",
       "    <tr style=\"text-align: right;\">\n",
       "      <th></th>\n",
       "      <th>Month</th>\n",
       "      <th>Day</th>\n",
       "      <th>Amount</th>\n",
       "      <th>Item_Qty</th>\n",
       "    </tr>\n",
       "  </thead>\n",
       "  <tbody>\n",
       "    <tr>\n",
       "      <th>count</th>\n",
       "      <td>57712.000000</td>\n",
       "      <td>57712.000000</td>\n",
       "      <td>57712.000000</td>\n",
       "      <td>57712.000000</td>\n",
       "    </tr>\n",
       "    <tr>\n",
       "      <th>mean</th>\n",
       "      <td>4.711897</td>\n",
       "      <td>15.594071</td>\n",
       "      <td>97.400194</td>\n",
       "      <td>2.242047</td>\n",
       "    </tr>\n",
       "    <tr>\n",
       "      <th>std</th>\n",
       "      <td>3.187739</td>\n",
       "      <td>8.552086</td>\n",
       "      <td>245.656830</td>\n",
       "      <td>4.782808</td>\n",
       "    </tr>\n",
       "    <tr>\n",
       "      <th>min</th>\n",
       "      <td>1.000000</td>\n",
       "      <td>1.000000</td>\n",
       "      <td>0.000000</td>\n",
       "      <td>0.000000</td>\n",
       "    </tr>\n",
       "    <tr>\n",
       "      <th>25%</th>\n",
       "      <td>3.000000</td>\n",
       "      <td>9.000000</td>\n",
       "      <td>19.770000</td>\n",
       "      <td>1.000000</td>\n",
       "    </tr>\n",
       "    <tr>\n",
       "      <th>50%</th>\n",
       "      <td>4.000000</td>\n",
       "      <td>15.000000</td>\n",
       "      <td>40.935000</td>\n",
       "      <td>1.000000</td>\n",
       "    </tr>\n",
       "    <tr>\n",
       "      <th>75%</th>\n",
       "      <td>5.000000</td>\n",
       "      <td>23.000000</td>\n",
       "      <td>96.065000</td>\n",
       "      <td>2.000000</td>\n",
       "    </tr>\n",
       "    <tr>\n",
       "      <th>max</th>\n",
       "      <td>12.000000</td>\n",
       "      <td>31.000000</td>\n",
       "      <td>11024.440000</td>\n",
       "      <td>400.000000</td>\n",
       "    </tr>\n",
       "  </tbody>\n",
       "</table>\n",
       "</div>"
      ],
      "text/plain": [
       "              Month           Day        Amount      Item_Qty\n",
       "count  57712.000000  57712.000000  57712.000000  57712.000000\n",
       "mean       4.711897     15.594071     97.400194      2.242047\n",
       "std        3.187739      8.552086    245.656830      4.782808\n",
       "min        1.000000      1.000000      0.000000      0.000000\n",
       "25%        3.000000      9.000000     19.770000      1.000000\n",
       "50%        4.000000     15.000000     40.935000      1.000000\n",
       "75%        5.000000     23.000000     96.065000      2.000000\n",
       "max       12.000000     31.000000  11024.440000    400.000000"
      ]
     },
     "execution_count": 10,
     "metadata": {},
     "output_type": "execute_result"
    }
   ],
   "source": [
    "df.describe()"
   ]
  },
  {
   "cell_type": "markdown",
   "id": "8e9f7509",
   "metadata": {},
   "source": [
    "Notice that the above mean amount for FY22 is 97.4. That number will be factored with the FY23 'Amount' mean."
   ]
  },
  {
   "cell_type": "code",
   "execution_count": 11,
   "id": "22ea6319",
   "metadata": {},
   "outputs": [
    {
     "name": "stdout",
     "output_type": "stream",
     "text": [
      "Missing values: 62117\n",
      "Sparsity %:0.12774100145391581\n"
     ]
    }
   ],
   "source": [
    "invoice_count_difference = 486273 - 424156  # Assuming these represent invoice counts\n",
    "sparsity = invoice_count_difference / 486273\n",
    "print(f'Missing values: {invoice_count_difference}')\n",
    "print(f'Sparsity %:{sparsity}')"
   ]
  },
  {
   "cell_type": "code",
   "execution_count": 12,
   "id": "1f54d096",
   "metadata": {},
   "outputs": [
    {
     "data": {
      "text/plain": [
       "Month          int64\n",
       "Day            int64\n",
       "Year          object\n",
       "Agency        object\n",
       " Category     object\n",
       "desc          object\n",
       "Amount       float64\n",
       "Item_Qty       int64\n",
       "dtype: object"
      ]
     },
     "execution_count": 12,
     "metadata": {},
     "output_type": "execute_result"
    }
   ],
   "source": [
    "#-- Inspecting data types --#\n",
    "df.dtypes"
   ]
  },
  {
   "cell_type": "code",
   "execution_count": 13,
   "id": "17446acb",
   "metadata": {},
   "outputs": [],
   "source": [
    "# Extract numeric part of the 'Year' column and convert it to integers\n",
    "df['Year'] = df['Year'].str.extract(r'(\\d+)').astype(int)\n"
   ]
  },
  {
   "cell_type": "code",
   "execution_count": 14,
   "id": "73388b8f",
   "metadata": {},
   "outputs": [
    {
     "data": {
      "text/plain": [
       "array(['Personal Computer', 'CE', 'Kitchen', 'Apparel', 'Home',\n",
       "       'Office Product', 'Lawn & Patio', 'Home Improvement',\n",
       "       'Health and Beauty',\n",
       "       'Business, Industrial, & Scientific Supplies Basic',\n",
       "       'Car Audio or Theater', 'Sports', 'Baby Product', 'Furniture',\n",
       "       'Wireless', 'Gift Card', 'Book', 'Photography', 'Lighting',\n",
       "       'Automotive Parts and Accessories', 'Beauty',\n",
       "       'Receiver or Amplifier', 'Toy', 'Shoes', 'Pet Products',\n",
       "       'VDO Devices', 'Grocery', 'PC Accessory', 'Art and Craft Supply',\n",
       "       'Premium Consumer Electronics Brands', 'Single Detail Page Misc',\n",
       "       'eBooks', 'Music', 'Home Theater', 'Speakers', 'Major Appliances',\n",
       "       'DVD', 'Amazon Home', 'Luggage', 'Amazon Tablets', 'Video Games',\n",
       "       'Musical Instruments', 'Prestige Beauty',\n",
       "       'Business, Industrial, & Scientific Supplies', 'Watch',\n",
       "       'Network Media Player', 'Office Electronics', 'Pantry',\n",
       "       'Digital Software', 'Target Outdoor Sporting', 'Woodworking Tools',\n",
       "       'GPS or Navigation System', 'Hobby', 'Amazon Basics',\n",
       "       'Trading Cards', 'Amazon SMP', 'Software', 'Hand Tools', 'Jewelry',\n",
       "       'Digital Device Accessory', 'Fabric', 'Amazon Ereaders',\n",
       "       'COVID Testing Display on Website', 'Amazon Smart Home Devices',\n",
       "       'Pro Tools', 'Associated Products', 'Target Toys'], dtype=object)"
      ]
     },
     "execution_count": 14,
     "metadata": {},
     "output_type": "execute_result"
    }
   ],
   "source": [
    "#-- Generating a list of the unique category types --#\n",
    "# Strip leading and trailing white spaces from 'Category' column\n",
    "df['Category'] = df[' Category'].str.strip()\n",
    "df.Category.unique()"
   ]
  },
  {
   "cell_type": "code",
   "execution_count": 15,
   "id": "891fe146",
   "metadata": {},
   "outputs": [],
   "source": [
    "#-- Get all column names --#\n",
    "cols = list(df.columns)\n",
    "\n",
    "#-- Find the column with leading/trailing whitespaces (might need adjustments) --#\n",
    "old_name = [col for col in cols if col.strip() == 'Agency'][0]  # Finds the column that becomes 'Agency' after stripping\n",
    "\n",
    "#-- Rename the column using df.rename --#\n",
    "df = df.rename(columns={old_name: 'Agency'})\n",
    "data = df['Agency']"
   ]
  },
  {
   "cell_type": "code",
   "execution_count": 17,
   "id": "8cbefef5",
   "metadata": {},
   "outputs": [
    {
     "data": {
      "text/html": [
       "<div>\n",
       "<style scoped>\n",
       "    .dataframe tbody tr th:only-of-type {\n",
       "        vertical-align: middle;\n",
       "    }\n",
       "\n",
       "    .dataframe tbody tr th {\n",
       "        vertical-align: top;\n",
       "    }\n",
       "\n",
       "    .dataframe thead th {\n",
       "        text-align: right;\n",
       "    }\n",
       "</style>\n",
       "<table border=\"1\" class=\"dataframe\">\n",
       "  <thead>\n",
       "    <tr style=\"text-align: right;\">\n",
       "      <th></th>\n",
       "      <th>count</th>\n",
       "      <th>mean</th>\n",
       "      <th>std</th>\n",
       "      <th>min</th>\n",
       "      <th>25%</th>\n",
       "      <th>50%</th>\n",
       "      <th>75%</th>\n",
       "      <th>max</th>\n",
       "    </tr>\n",
       "  </thead>\n",
       "  <tbody>\n",
       "    <tr>\n",
       "      <th>Month</th>\n",
       "      <td>57712.0</td>\n",
       "      <td>4.711897</td>\n",
       "      <td>3.187739</td>\n",
       "      <td>1.0</td>\n",
       "      <td>3.00</td>\n",
       "      <td>4.000</td>\n",
       "      <td>5.000</td>\n",
       "      <td>12.00</td>\n",
       "    </tr>\n",
       "    <tr>\n",
       "      <th>Day</th>\n",
       "      <td>57712.0</td>\n",
       "      <td>15.594071</td>\n",
       "      <td>8.552086</td>\n",
       "      <td>1.0</td>\n",
       "      <td>9.00</td>\n",
       "      <td>15.000</td>\n",
       "      <td>23.000</td>\n",
       "      <td>31.00</td>\n",
       "    </tr>\n",
       "    <tr>\n",
       "      <th>Year</th>\n",
       "      <td>57712.0</td>\n",
       "      <td>1546.470855</td>\n",
       "      <td>851.278364</td>\n",
       "      <td>22.0</td>\n",
       "      <td>2021.00</td>\n",
       "      <td>2022.000</td>\n",
       "      <td>2022.000</td>\n",
       "      <td>2022.00</td>\n",
       "    </tr>\n",
       "    <tr>\n",
       "      <th>Amount</th>\n",
       "      <td>57712.0</td>\n",
       "      <td>97.400194</td>\n",
       "      <td>245.656830</td>\n",
       "      <td>0.0</td>\n",
       "      <td>19.77</td>\n",
       "      <td>40.935</td>\n",
       "      <td>96.065</td>\n",
       "      <td>11024.44</td>\n",
       "    </tr>\n",
       "    <tr>\n",
       "      <th>Item_Qty</th>\n",
       "      <td>57712.0</td>\n",
       "      <td>2.242047</td>\n",
       "      <td>4.782808</td>\n",
       "      <td>0.0</td>\n",
       "      <td>1.00</td>\n",
       "      <td>1.000</td>\n",
       "      <td>2.000</td>\n",
       "      <td>400.00</td>\n",
       "    </tr>\n",
       "  </tbody>\n",
       "</table>\n",
       "</div>"
      ],
      "text/plain": [
       "            count         mean         std   min      25%       50%       75%  \\\n",
       "Month     57712.0     4.711897    3.187739   1.0     3.00     4.000     5.000   \n",
       "Day       57712.0    15.594071    8.552086   1.0     9.00    15.000    23.000   \n",
       "Year      57712.0  1546.470855  851.278364  22.0  2021.00  2022.000  2022.000   \n",
       "Amount    57712.0    97.400194  245.656830   0.0    19.77    40.935    96.065   \n",
       "Item_Qty  57712.0     2.242047    4.782808   0.0     1.00     1.000     2.000   \n",
       "\n",
       "               max  \n",
       "Month        12.00  \n",
       "Day          31.00  \n",
       "Year       2022.00  \n",
       "Amount    11024.44  \n",
       "Item_Qty    400.00  "
      ]
     },
     "execution_count": 17,
     "metadata": {},
     "output_type": "execute_result"
    }
   ],
   "source": [
    "df.describe().transpose()"
   ]
  },
  {
   "cell_type": "markdown",
   "id": "dc0ea893",
   "metadata": {},
   "source": [
    "# Step 2 Explore the Data\n",
    "\n",
    "# Below is a list of all Washington State agencies whom have purchased from Amazon."
   ]
  },
  {
   "cell_type": "code",
   "execution_count": 16,
   "id": "e9a0fa71",
   "metadata": {},
   "outputs": [
    {
     "data": {
      "text/plain": [
       "array(['NATURAL RESOURCES DEPARTMENT OF',\n",
       "       'FISH AND WILDLIFE DEPARTMENT OF',\n",
       "       'SOCIAL AND HEALTH SERVICES DEPARTMENT OF (DSHS)',\n",
       "       'LABOR AND INDUSTRIES WASHINGTON STATE',\n",
       "       'TRANSPORTATION DEPARTMENT OF',\n",
       "       'CHILDREN YOUTH AND FAMILIES DEPT OF',\n",
       "       'EMPLOYMENT SECURITY DEPARTMENT OF',\n",
       "       'PARKS AND RECREATION COMMISSION WASHINGTON STATE',\n",
       "       'CORRECTIONS DEPARTMENT OF',\n",
       "       'CRIMINAL JUSTICE TRAINING COMMISSION WASHINGTON STATE',\n",
       "       'WASHINGTON STATE PATROL', 'BLIND DEPARTMENT OF SERVICES FOR THE',\n",
       "       'ENTERPRISE SERVICES DEPARTMENT OF',\n",
       "       'CONSOLIDATED TECHNOLOGY SERVICES',\n",
       "       'PUBLIC INSTRUCTION SUPERINTENDENT OF',\n",
       "       'UTILITIES AND TRANSPORTATION COMMISSION',\n",
       "       'VETERANS AFFAIRS WASHINGTON STATE DEPARTMENT OF',\n",
       "       'LEGISLATIVE SUPPORT SERVICES',\n",
       "       'PUBLIC EMPLOYMENT RELATIONS COMMISSION',\n",
       "       'TREASURER OFFICE OF THE STATE',\n",
       "       'FINANCIAL INSTITUTIONS DEPARTMENT OF',\n",
       "       'ATTORNEY GENERAL OFFICE OF THE', 'WINE COMMISSION',\n",
       "       'PUBLIC DISCLOSURE COMMISSION', 'FINANCIAL MANAGEMENT, OFFICE OF',\n",
       "       'HISTORICAL SOCIETY EASTERN WASHINGTON STATE',\n",
       "       'AGRICULTURE DEPARTMENT OF',\n",
       "       'AFRICAN-AMERICAN AFFAIRS WASHINGTON STATE COMMISSION ON',\n",
       "       'LOTTERY COMMISSION WASHINGTON STATE',\n",
       "       'STUDENT ACHIEVEMENT COUNCIL', 'ECOLOGY DEPARTMENT OF',\n",
       "       'REVENUE DEPARTMENT OF', 'HEALTH DEPARTMENT OF',\n",
       "       'AUDITOR OFFICE OF THE STATE',\n",
       "       'MILITARY DEPARTMENT WASHINGTON STATE',\n",
       "       'LIEUTENANT GOVERNOR OFFICE OF THE',\n",
       "       'WA CENTER FOR DEAF AND HARD OF HEARING YOUTH',\n",
       "       'COMMERCE WA ST DEPT OF', 'SECRETARY OF STATE OFFICE OF',\n",
       "       'INVESTMENT BOARD STATE', 'INSURANCE COMMISSIONER OFFICE OF THE',\n",
       "       'WORKFORCE TRAINING AND EDUCATION COORDINATING BOARD',\n",
       "       'GAMBLING COMMISSION WASHINGTON STATE', 'PUGET SOUND PARTNERSHIP',\n",
       "       'TRANSPORTATION IMPROVEMENT BOARD',\n",
       "       'JUDICIAL CONDUCT WA ST COMM ON', 'LIQUOR AND CANNABIS BOARD',\n",
       "       'LAW ENF OFFICERS AND FIRE FIGHTERS PLAN 2 RETIRE BOARD',\n",
       "       'HUMAN RIGHTS COMMISSION',\n",
       "       'Environmental & Land Use Hearings Office',\n",
       "       'HISTORICAL SOCIETY WASHINGTON STATE',\n",
       "       'RETIREMENT SYSTEMS DEPARTMENT OF',\n",
       "       'TRAFFIC SAFETY COMMISSION WASHINGTON STATE',\n",
       "       'HISPANIC AFFAIRS WASHINGTON STATE COMMISSION ON',\n",
       "       'COUNTY ROAD ADMINISTRATION BOARD',\n",
       "       'RECREATION & CONSERVATION FUNDING BOARD (WAS OUTDOOR RECREATION)',\n",
       "       'Washington Horse Racing Commission',\n",
       "       'ARCHAEOLOGY AND HISTORIC PRESERVATION DEPARTMENT OF',\n",
       "       'HORSE RACING COMMISSION WASHINGTON', 'ACCOUNTANCY STATE BOARD OF',\n",
       "       'COLUMBIA RIVER GORGE COMMISSION'], dtype=object)"
      ]
     },
     "execution_count": 16,
     "metadata": {},
     "output_type": "execute_result"
    }
   ],
   "source": [
    "df.Agency.unique()"
   ]
  },
  {
   "cell_type": "markdown",
   "id": "5efbaf09",
   "metadata": {},
   "source": [
    "# Below is a list of the top Washington State agencies per Amazon 21-22 spending in descending order."
   ]
  },
  {
   "cell_type": "code",
   "execution_count": 18,
   "id": "a6b928d7",
   "metadata": {},
   "outputs": [
    {
     "data": {
      "text/html": [
       "<div>\n",
       "<style scoped>\n",
       "    .dataframe tbody tr th:only-of-type {\n",
       "        vertical-align: middle;\n",
       "    }\n",
       "\n",
       "    .dataframe tbody tr th {\n",
       "        vertical-align: top;\n",
       "    }\n",
       "\n",
       "    .dataframe thead th {\n",
       "        text-align: right;\n",
       "    }\n",
       "</style>\n",
       "<table border=\"1\" class=\"dataframe\">\n",
       "  <thead>\n",
       "    <tr style=\"text-align: right;\">\n",
       "      <th></th>\n",
       "      <th>Agency</th>\n",
       "      <th>Amount</th>\n",
       "    </tr>\n",
       "  </thead>\n",
       "  <tbody>\n",
       "    <tr>\n",
       "      <th>0</th>\n",
       "      <td>SOCIAL AND HEALTH SERVICES DEPARTMENT OF (DSHS)</td>\n",
       "      <td>1143980.14</td>\n",
       "    </tr>\n",
       "    <tr>\n",
       "      <th>1</th>\n",
       "      <td>CHILDREN YOUTH AND FAMILIES DEPT OF</td>\n",
       "      <td>1119572.16</td>\n",
       "    </tr>\n",
       "    <tr>\n",
       "      <th>2</th>\n",
       "      <td>CORRECTIONS DEPARTMENT OF</td>\n",
       "      <td>725635.00</td>\n",
       "    </tr>\n",
       "    <tr>\n",
       "      <th>3</th>\n",
       "      <td>FISH AND WILDLIFE DEPARTMENT OF</td>\n",
       "      <td>345408.99</td>\n",
       "    </tr>\n",
       "    <tr>\n",
       "      <th>4</th>\n",
       "      <td>NATURAL RESOURCES DEPARTMENT OF</td>\n",
       "      <td>257923.98</td>\n",
       "    </tr>\n",
       "    <tr>\n",
       "      <th>5</th>\n",
       "      <td>TRANSPORTATION DEPARTMENT OF</td>\n",
       "      <td>236196.55</td>\n",
       "    </tr>\n",
       "    <tr>\n",
       "      <th>6</th>\n",
       "      <td>PUBLIC INSTRUCTION SUPERINTENDENT OF</td>\n",
       "      <td>218369.25</td>\n",
       "    </tr>\n",
       "    <tr>\n",
       "      <th>7</th>\n",
       "      <td>PARKS AND RECREATION COMMISSION WASHINGTON STATE</td>\n",
       "      <td>200178.88</td>\n",
       "    </tr>\n",
       "    <tr>\n",
       "      <th>8</th>\n",
       "      <td>LABOR AND INDUSTRIES WASHINGTON STATE</td>\n",
       "      <td>180248.99</td>\n",
       "    </tr>\n",
       "    <tr>\n",
       "      <th>9</th>\n",
       "      <td>WASHINGTON STATE PATROL</td>\n",
       "      <td>115464.62</td>\n",
       "    </tr>\n",
       "    <tr>\n",
       "      <th>10</th>\n",
       "      <td>AGRICULTURE DEPARTMENT OF</td>\n",
       "      <td>110234.75</td>\n",
       "    </tr>\n",
       "    <tr>\n",
       "      <th>11</th>\n",
       "      <td>EMPLOYMENT SECURITY DEPARTMENT OF</td>\n",
       "      <td>101084.63</td>\n",
       "    </tr>\n",
       "    <tr>\n",
       "      <th>12</th>\n",
       "      <td>ENTERPRISE SERVICES DEPARTMENT OF</td>\n",
       "      <td>99186.71</td>\n",
       "    </tr>\n",
       "    <tr>\n",
       "      <th>13</th>\n",
       "      <td>BLIND DEPARTMENT OF SERVICES FOR THE</td>\n",
       "      <td>72514.06</td>\n",
       "    </tr>\n",
       "    <tr>\n",
       "      <th>14</th>\n",
       "      <td>VETERANS AFFAIRS WASHINGTON STATE DEPARTMENT OF</td>\n",
       "      <td>67692.54</td>\n",
       "    </tr>\n",
       "    <tr>\n",
       "      <th>15</th>\n",
       "      <td>HEALTH DEPARTMENT OF</td>\n",
       "      <td>62679.24</td>\n",
       "    </tr>\n",
       "    <tr>\n",
       "      <th>16</th>\n",
       "      <td>HUMAN RIGHTS COMMISSION</td>\n",
       "      <td>57251.81</td>\n",
       "    </tr>\n",
       "    <tr>\n",
       "      <th>17</th>\n",
       "      <td>SECRETARY OF STATE OFFICE OF</td>\n",
       "      <td>54810.59</td>\n",
       "    </tr>\n",
       "    <tr>\n",
       "      <th>18</th>\n",
       "      <td>ATTORNEY GENERAL OFFICE OF THE</td>\n",
       "      <td>48483.70</td>\n",
       "    </tr>\n",
       "    <tr>\n",
       "      <th>19</th>\n",
       "      <td>FINANCIAL MANAGEMENT, OFFICE OF</td>\n",
       "      <td>31279.27</td>\n",
       "    </tr>\n",
       "  </tbody>\n",
       "</table>\n",
       "</div>"
      ],
      "text/plain": [
       "                                              Agency      Amount\n",
       "0    SOCIAL AND HEALTH SERVICES DEPARTMENT OF (DSHS)  1143980.14\n",
       "1                CHILDREN YOUTH AND FAMILIES DEPT OF  1119572.16\n",
       "2                          CORRECTIONS DEPARTMENT OF   725635.00\n",
       "3                    FISH AND WILDLIFE DEPARTMENT OF   345408.99\n",
       "4                    NATURAL RESOURCES DEPARTMENT OF   257923.98\n",
       "5                       TRANSPORTATION DEPARTMENT OF   236196.55\n",
       "6               PUBLIC INSTRUCTION SUPERINTENDENT OF   218369.25\n",
       "7   PARKS AND RECREATION COMMISSION WASHINGTON STATE   200178.88\n",
       "8              LABOR AND INDUSTRIES WASHINGTON STATE   180248.99\n",
       "9                            WASHINGTON STATE PATROL   115464.62\n",
       "10                         AGRICULTURE DEPARTMENT OF   110234.75\n",
       "11                 EMPLOYMENT SECURITY DEPARTMENT OF   101084.63\n",
       "12                 ENTERPRISE SERVICES DEPARTMENT OF    99186.71\n",
       "13              BLIND DEPARTMENT OF SERVICES FOR THE    72514.06\n",
       "14   VETERANS AFFAIRS WASHINGTON STATE DEPARTMENT OF    67692.54\n",
       "15                              HEALTH DEPARTMENT OF    62679.24\n",
       "16                           HUMAN RIGHTS COMMISSION    57251.81\n",
       "17                      SECRETARY OF STATE OFFICE OF    54810.59\n",
       "18                    ATTORNEY GENERAL OFFICE OF THE    48483.70\n",
       "19                   FINANCIAL MANAGEMENT, OFFICE OF    31279.27"
      ]
     },
     "execution_count": 18,
     "metadata": {},
     "output_type": "execute_result"
    }
   ],
   "source": [
    "#-- Outputting the top 20 Agencys by spending --#\n",
    "top_20_agencies = df.groupby('Agency')['Amount'].sum().nlargest(20).reset_index()\n",
    "\n",
    "top_20_agencies"
   ]
  },
  {
   "cell_type": "markdown",
   "id": "fa4dc453",
   "metadata": {},
   "source": [
    "# Below is a barchart of the above list:"
   ]
  },
  {
   "cell_type": "code",
   "execution_count": 20,
   "id": "5864aed4",
   "metadata": {},
   "outputs": [
    {
     "data": {
      "image/png": "[encoded data removed]",
      "text/plain": [
       "<Figure size 1500x1000 with 1 Axes>"
      ]
     },
     "metadata": {},
     "output_type": "display_data"
    }
   ],
   "source": [
    "plt.figure(figsize=(15, 10))\n",
    "sns.barplot(data = top_20_agencies, y=\"Agency\", x= 'Amount')#top_20_agencies['Agency'], top_20_agencies['Agency']\n",
    "plt.title('Total Amazon spending by Agency 2021-2022')\n",
    "plt.xticks(rotation=90)\n",
    "plt.show()"
   ]
  },
  {
   "cell_type": "markdown",
   "id": "36809429",
   "metadata": {},
   "source": [
    "The above graph indicates that DSHS was leads FY22 in spending with Children Youth and Families a close second. "
   ]
  },
  {
   "cell_type": "markdown",
   "id": "083aaad9",
   "metadata": {},
   "source": [
    "# Below is the variance of spending amount per agency"
   ]
  },
  {
   "cell_type": "code",
   "execution_count": null,
   "id": "ffaf7211",
   "metadata": {},
   "outputs": [],
   "source": [
    "top_20_agency_names = top_20_agencies['Agency']\n",
    "filtered_df = df_main[df_main['Agency'].isin(top_20_agency_names)]\n",
    "\n",
    "# Create the violin plot\n",
    "plt.figure(figsize=(12, 8))\n",
    "sns.violinplot(y='Agency', x='Amount', data=filtered_df, palette='muted')\n",
    "plt.xlabel('Agency')\n",
    "plt.ylabel('Amount')\n",
    "plt.title('Violin Plot of Amount Spent by Top 20 Agencies')\n",
    "plt.xticks(rotation=90)  # Rotate x-axis labels for better readability\n",
    "plt.tight_layout()\n",
    "plt.show()"
   ]
  },
  {
   "cell_type": "markdown",
   "id": "7973d4be",
   "metadata": {},
   "source": [
    "According to the above graph, Socail and Health Services Department(DSHS) has the most variance in spending; Well over $25,000 and almost double the amount of the average per department. "
   ]
  },
  {
   "cell_type": "markdown",
   "id": "2c0ab643",
   "metadata": {},
   "source": [
    "# Below is a list of the Top 20 agencies and their top pruchased 'Category'.\n",
    "\n",
    "Notice that 'Personal Computer' is the most commonly purchased 'Category'."
   ]
  },
  {
   "cell_type": "code",
   "execution_count": null,
   "id": "30adbab5",
   "metadata": {},
   "outputs": [],
   "source": [
    "#-- Create an empty dataframe to store the results. --#\n",
    "top_category_per_agency = pd.DataFrame(columns=['Agency', 'Top_Category', 'Amount_Spent'])\n",
    "\n",
    "#-- Iterate over the top 20 agencies --#\n",
    "for index, row in top_20_agencies.iterrows():\n",
    "    agency_name = row['Agency']\n",
    "    agency_df = df_main[df_main['Agency'] == agency_name]\n",
    "    top_category = agency_df.groupby('Category')['Amount'].sum().idxmax()\n",
    "    amount_spent = agency_df.groupby('Category')['Amount'].sum().max()\n",
    "    top_category_per_agency = top_category_per_agency.append({'Agency': agency_name, 'Top_Category': top_category, 'Amount_Spent': amount_spent}, ignore_index=True)\n",
    "\n",
    "top_category_per_agency"
   ]
  },
  {
   "cell_type": "markdown",
   "id": "7f2db292",
   "metadata": {},
   "source": [
    "# Below a list of the top 20 categories by purchase amount"
   ]
  },
  {
   "cell_type": "code",
   "execution_count": null,
   "id": "523ec5c4",
   "metadata": {},
   "outputs": [],
   "source": [
    "#-- Outputting the top 20 Categories by Amount --#\n",
    "top_20_cat = df_main.groupby('Category')['Amount'].sum().nlargest(20).reset_index()\n",
    "top_20_cat"
   ]
  },
  {
   "cell_type": "markdown",
   "id": "26544bfa",
   "metadata": {},
   "source": [
    "# Below is a bar graph of the above list"
   ]
  },
  {
   "cell_type": "code",
   "execution_count": null,
   "id": "55be8e41",
   "metadata": {},
   "outputs": [],
   "source": [
    "#-- Barplot of the indicating the amount of money donated per year --#\n",
    "plt.figure(figsize=(15, 10))\n",
    "sns.barplot(data = top_20_cat, x=\"Category\", y= 'Amount')#top_20_agencies['Agency'], top_20_agencies['Agency']\n",
    "plt.title('Most purchased categories')\n",
    "plt.xticks(rotation=90)\n",
    "plt.show()"
   ]
  },
  {
   "cell_type": "markdown",
   "id": "10084b8e",
   "metadata": {},
   "source": [
    "# Below is a list of the top spending day by 'Amount' per CHILDREN YOUTH AND FAMILIES\n",
    "\n",
    "Notice the 'Market Basket' of goods between matching amounts and dates. "
   ]
  },
  {
   "cell_type": "code",
   "execution_count": null,
   "id": "5b95dd17",
   "metadata": {
    "scrolled": false
   },
   "outputs": [],
   "source": [
    "filtered_rows = df_main[df_main['Agency'].str.contains('CHILDREN YOUTH AND FAMILIES DEPT OF')]\n",
    "filtered_rows_sorted = filtered_rows.sort_values(by='Amount', ascending=False)\n",
    "filtered_rows_sorted.head(15)"
   ]
  },
  {
   "cell_type": "code",
   "execution_count": null,
   "id": "cc55d4da",
   "metadata": {},
   "outputs": [],
   "source": [
    "filtered_rows = df_main[df_main['Agency'].str.contains(\"SOCIAL AND HEALTH SERVICES DEPARTMENT OF\")]\n",
    "filtered_rows_sorted = filtered_rows.sort_values(by='Amount', ascending=False)\n",
    "filtered_rows_sorted.head(15)\n",
    "print('TOP 15 items DSHS spends money on:')\n",
    "filtered_rows_sorted.head(15)"
   ]
  },
  {
   "cell_type": "code",
   "execution_count": null,
   "id": "07bd9593",
   "metadata": {},
   "outputs": [],
   "source": [
    "filtered_rows = df_main[df_main['Agency'].str.contains(\"FISH AND WILDLIFE DEPARTMENT OF\")]\n",
    "filtered_rows_sorted = filtered_rows.sort_values(by='Amount', ascending=False)\n",
    "filtered_rows_sorted.head(15)"
   ]
  },
  {
   "cell_type": "code",
   "execution_count": null,
   "id": "9d3c1748",
   "metadata": {},
   "outputs": [],
   "source": [
    "filtered_rows = df_main[df_main['Agency'].str.contains('CORRECTIONS DEPARTMENT OF')]\n",
    "filtered_rows_sorted = filtered_rows.sort_values(by='Amount', ascending=False)\n",
    "filtered_rows_sorted.head(15)"
   ]
  },
  {
   "cell_type": "code",
   "execution_count": null,
   "id": "e6811799",
   "metadata": {},
   "outputs": [],
   "source": [
    "#-- What books are they buying --#\n",
    "# Filter rows where 'Agency' is 'CORRECTIONS DEPARTMENT OF' and 'Top_Category' is 'Book'\n",
    "corrections_books = df_main[(df_main['Agency'] == 'CORRECTIONS DEPARTMENT OF') & (df_main['Category'] == 'Book')]\n",
    "\n",
    "# Print the resulting DataFrame\n",
    "corrections_books\n"
   ]
  },
  {
   "cell_type": "code",
   "execution_count": null,
   "id": "bd6d0a2a",
   "metadata": {},
   "outputs": [],
   "source": [
    "#-- Saving Books to a CSV file --#\n",
    "# Save the resulting DataFrame to a CSV file\n",
    "corrections_books.to_csv('/Users/michaelsegaline/Desktop/Research Objectives/Washington State Amazon spendng /cleaned sets/corrections_books.csv', index=False)\n"
   ]
  },
  {
   "cell_type": "code",
   "execution_count": null,
   "id": "62eab824",
   "metadata": {},
   "outputs": [],
   "source": [
    "filtered_rows = df_main[df_main['Agency'].str.contains(\"NATURAL RESOURCES DEPARTMENT OF\")]\n",
    "filtered_rows_sorted = filtered_rows.sort_values(by='Amount', ascending=False)\n",
    "filtered_rows_sorted.head(15)"
   ]
  },
  {
   "cell_type": "code",
   "execution_count": null,
   "id": "3a28c753",
   "metadata": {},
   "outputs": [],
   "source": [
    "filtered_rows = df_main[df_main['Agency'].str.contains(\"PUBLIC INSTRUCTION SUPERINTENDENT OF\")]\n",
    "filtered_rows_sorted = filtered_rows.sort_values(by='Amount', ascending=False)\n",
    "filtered_rows_sorted.head(15)"
   ]
  },
  {
   "cell_type": "code",
   "execution_count": null,
   "id": "d8648fbe",
   "metadata": {},
   "outputs": [],
   "source": [
    "filtered_rows = df_main[df_main['Agency'].str.contains(\"LABOR AND INDUSTRIES WASHINGTON STATE\")]\n",
    "filtered_rows_sorted = filtered_rows.sort_values(by='Amount', ascending=False)\n",
    "filtered_rows_sorted.head(15)"
   ]
  },
  {
   "cell_type": "code",
   "execution_count": null,
   "id": "0d7207fd",
   "metadata": {},
   "outputs": [],
   "source": [
    "filtered_rows = df_main[df_main['Agency'].str.contains(\"PARKS AND RECREATION COMMISSION WASHINGTON STATE\")]\n",
    "filtered_rows_sorted = filtered_rows.sort_values(by='Amount', ascending=False)\n",
    "filtered_rows_sorted.head(15)"
   ]
  },
  {
   "cell_type": "code",
   "execution_count": null,
   "id": "1a7f070b",
   "metadata": {},
   "outputs": [],
   "source": [
    "filtered_rows = df_main[df_main['Agency'].str.contains(\"TRANSPORTATION DEPARTMENT OF\")]\n",
    "filtered_rows_sorted = filtered_rows.sort_values(by='Amount', ascending=False)\n",
    "filtered_rows_sorted.head(15)"
   ]
  },
  {
   "cell_type": "code",
   "execution_count": null,
   "id": "99f0f79d",
   "metadata": {},
   "outputs": [],
   "source": [
    "filtered_rows = df_main[df_main['Agency'].str.contains(\"SECRETARY OF STATE OFFICE OF\")]\n",
    "filtered_rows_sorted = filtered_rows.sort_values(by='Amount', ascending=False)\n",
    "filtered_rows_sorted.head(15)"
   ]
  },
  {
   "cell_type": "markdown",
   "id": "60d34687",
   "metadata": {},
   "source": [
    "# Below is a WordCloud output of the product descriptions; Word size indicates frequency. "
   ]
  },
  {
   "cell_type": "code",
   "execution_count": null,
   "id": "c2e502f3",
   "metadata": {},
   "outputs": [],
   "source": [
    "#-- Concatenate all text data into a single string --#\n",
    "text = ' '.join(df_main[\"desc\"])\n",
    "\n",
    "#-- Generate the word cloud --#\n",
    "wordcloud = WordCloud(width=800, height=350, background_color='white').generate(text)\n",
    "\n",
    "# Display the word cloud\n",
    "plt.figure(figsize=(10, 5))\n",
    "plt.imshow(wordcloud, interpolation='bilinear')\n",
    "plt.axis('off')\n",
    "plt.show()"
   ]
  },
  {
   "cell_type": "markdown",
   "id": "259f3bbf",
   "metadata": {},
   "source": [
    "From the above WordCloud, it would appear the Government likes 'Heavy Duty' and perfers the color 'Black' while white is a trailing second color preference.  "
   ]
  },
  {
   "cell_type": "code",
   "execution_count": null,
   "id": "9ac2af21",
   "metadata": {},
   "outputs": [],
   "source": [
    "#-- Create a histogram of purchase months --#\n",
    "sns.histplot(\n",
    "    data=df_main,      \n",
    "    x=\"Month\",  \n",
    "    bins=12,          \n",
    "    kde=True          \n",
    ")\n",
    "#-- Add a title and axis labels --#\n",
    "plt.title(\"Distribution of purchase months\")\n",
    "plt.xlabel(\"Frequency\")\n",
    "plt.ylabel(\"Density\")\n",
    "\n",
    "# Show the plot\n",
    "plt.show()"
   ]
  },
  {
   "cell_type": "markdown",
   "id": "210a7a9b",
   "metadata": {},
   "source": [
    "From the above graph, it appears that March, April, May, and June are the highest months, then the months remain constaint. Almost as if all departments recieved a repremanding email in July, then stayed very consistant at the 11,000 mark; Continuing from August to December. "
   ]
  },
  {
   "cell_type": "code",
   "execution_count": null,
   "id": "89ef1961",
   "metadata": {},
   "outputs": [],
   "source": [
    "#-- Create a histogram of Days --#\n",
    "sns.histplot(\n",
    "    data=df_main,        # Data source\n",
    "    x=\"Day\",  # Variable for the histogram\n",
    "    bins=30,          # Number of bins (optional, defaults to 30)\n",
    "    kde=True          # Add a kernel density estimate (optional)\n",
    ")\n",
    "\n",
    "# Add a title and axis labels\n",
    "plt.title(\"Distribution of purchase days\")\n",
    "plt.xlabel(\"frequency\")\n",
    "plt.ylabel(\"Density\")\n",
    "\n",
    "# Show the plot\n",
    "plt.show()"
   ]
  },
  {
   "cell_type": "markdown",
   "id": "f58d9b68",
   "metadata": {},
   "source": [
    "From the above graph, the purchase days of the week stay random."
   ]
  },
  {
   "cell_type": "code",
   "execution_count": null,
   "id": "90700d8d",
   "metadata": {},
   "outputs": [],
   "source": [
    "#-- Create a histogram of Purchase Year --#\n",
    "sns.histplot(\n",
    "    data=df_main,        # Data source\n",
    "    x=\"Year\",  # Variable for the histogram\n",
    "    bins=2,          # Number of bins (optional, defaults to 10)\n",
    "    kde=True          # Add a kernel density estimate (optional)\n",
    ")\n",
    "\n",
    "# Add a title and axis labels\n",
    "plt.title(\"Distribution of purchase year\")\n",
    "plt.xlabel(\"frequency\")\n",
    "plt.ylabel(\"Density\")\n",
    "\n",
    "# Show the plot\n",
    "plt.show()"
   ]
  },
  {
   "cell_type": "markdown",
   "id": "5c519a39",
   "metadata": {},
   "source": [
    "It would appear that spending has exponentiated from 2021 to 2023"
   ]
  },
  {
   "cell_type": "code",
   "execution_count": null,
   "id": "27aad422",
   "metadata": {},
   "outputs": [],
   "source": [
    "#-- Create a density plot for variable 'x' --#\n",
    "sns.kdeplot(\n",
    "    data=df_main,\n",
    "    x=\"Amount\"  # Variable to plot the density of\n",
    ")\n",
    "\n",
    "# Add a title and axis labels\n",
    "plt.title(\"Density Plot of Variable x\")\n",
    "plt.xlabel(\"x\")\n",
    "plt.ylabel(\"Density\")\n",
    "\n",
    "# Show the plot\n",
    "plt.show()"
   ]
  },
  {
   "cell_type": "code",
   "execution_count": null,
   "id": "953a3eb8",
   "metadata": {},
   "outputs": [],
   "source": [
    "#-- Converting categorical binary with the get_dummies() function --#\n",
    "\n",
    "dummy_categories = pd.get_dummies(df_main['Category'], drop_first=True)\n",
    "\n",
    "dummy_categories\n",
    "df1 = pd.concat([df_main['Amount'], dummy_categories], axis=1)\n",
    "df1"
   ]
  },
  {
   "cell_type": "markdown",
   "id": "03558eed",
   "metadata": {},
   "source": [
    "# Step 3 Analysis with Machine Learning \n",
    "\n",
    "# Now exploring the data with the Unsupervised Machine Learning models of Principal Component Analysis and KMeans Cluster Analysis. \n",
    "\n",
    "The dataset is decomposed in to Eigen vectors of Eigen values or Principal Components PCs. The variences of PCs are explored in the following two graphs. "
   ]
  },
  {
   "cell_type": "code",
   "execution_count": null,
   "id": "9e487d49",
   "metadata": {},
   "outputs": [],
   "source": [
    "#-- Scaling the data --#\n",
    "#-- Create the object --#\n",
    "scaler = StandardScaler()\n",
    "df_scaled = scaler.fit_transform(df1)\n",
    " #-- Calculate the mean and Standard deviation --#\n",
    "#-- Conducting PCA --#\n",
    "#-- Calculating Eigenvectors and eigenvalues of Cov matrix --#\n",
    "mean_vec = np.mean(df_scaled, axis=0)\n",
    "cov_mat = np.cov(df_scaled.T)\n",
    "eig_vals, eig_vecs = np.linalg.eig(cov_mat)\n",
    "#-- Create a list of (eigenvalue, eigenvector) tuples --#\n",
    "eig_pairs = [ (np.abs(eig_vals[i]),eig_vecs[:,i]) for i in range(len(eig_vals))]\n",
    "#-- Sort from high to low --#\n",
    "eig_pairs.sort(key = lambda x: x[0], reverse= True)\n",
    " \n",
    "#-- Calculation of Explained Variance from the eigenvalues --#\n",
    "tot = sum(eig_vals)\n",
    "#-- Individual explained variance --#\n",
    "var_exp = [(i/tot)*100 for i in sorted(eig_vals, reverse=True)] \n",
    "#-- Cumulative explained variance --#\n",
    "cum_var_exp = np.cumsum(var_exp)\n",
    " \n",
    "#-- Plot out the variances superimposed --#\n",
    "plt.figure(figsize=(10, 5))\n",
    "plt.bar(range(len(var_exp)), var_exp, alpha=0.3333, align='center', label='individual explained variance', color = 'g')\n",
    "plt.step(range(len(cum_var_exp)), cum_var_exp, where='mid',label='cumulative explained variance')\n",
    "plt.ylabel('Explained variance ratio')\n",
    "plt.xlabel('Principal components')\n",
    "plt.legend(loc='best')\n",
    "plt.show()"
   ]
  },
  {
   "cell_type": "code",
   "execution_count": null,
   "id": "609faba1",
   "metadata": {},
   "outputs": [],
   "source": [
    "#-- Determining the number of clusters with the Elbow Method --#\n",
    "#-- Kmeans clustering with PCA --#\n",
    "wcss = [] #-- sum of squares of distances of datapoints --#\n",
    "for i in range(1,15):\n",
    "    kmeans_pca = KMeans(n_clusters = i, init = 'k-means++',random_state = 42)\n",
    "    kmeans_pca.fit(df_scaled)\n",
    "    wcss.append(kmeans_pca.inertia_)\n",
    " \n",
    "#-- Now plotting the Elbow Graph --#\n",
    "plt.figure(figsize = (20,20))\n",
    "plt.plot(range(1,15), wcss, marker ='o', linestyle ='--')\n",
    "plt.xlabel('Number of Clusters')\n",
    "plt.ylabel('WCSS')\n",
    "plt.title('K-means with PCA clustering ')"
   ]
  },
  {
   "cell_type": "markdown",
   "id": "7bc61321",
   "metadata": {},
   "source": [
    "The above graph indicates no distinct 'elbow' for the Kiaser criterion. Therefore all PCs have equal variance in vectorspace. "
   ]
  },
  {
   "cell_type": "code",
   "execution_count": null,
   "id": "6e0ddf8e",
   "metadata": {},
   "outputs": [],
   "source": [
    "#-- Exploring how the data clusters when transformed with PCA and ‘k’ =1 --#\n",
    "\n",
    "pca = PCA(n_components=22)\n",
    "\n",
    "pca_kmeans = pca.fit_transform(df_scaled)\n",
    "\n",
    "plt.figure(figsize = (9,7))\n",
    "\n",
    "plt.scatter(pca_kmeans[:,0],pca_kmeans[:,1], c='goldenrod',alpha=0.5)\n",
    "\n",
    "plt.ylim(-10,30)\n",
    "\n",
    "plt.show()"
   ]
  },
  {
   "cell_type": "code",
   "execution_count": null,
   "id": "fdad3a56",
   "metadata": {},
   "outputs": [],
   "source": [
    "#-- Now running KMeans with 2 clusters --#\n",
    "\n",
    "kmeans_pca = KMeans(n_clusters =2, init = 'k-means++', random_state = 42)\n",
    "\n",
    "#-- Kmeans with two clusters --#\n",
    "\n",
    "#-- Compute cluster centers by fitting the data to the model and predict cluster indices --#\n",
    "\n",
    "X_clustered = kmeans_pca.fit_predict(pca_kmeans)\n",
    "\n",
    "#-- Define our own color map--#\n",
    "\n",
    "LABEL_COLOR_MAP = {0 : 'r',1 : 'g',2 : 'b'}\n",
    "\n",
    "label_color = [LABEL_COLOR_MAP[l] for l in X_clustered]\n",
    "\n",
    "#-- Plot the scatter digram --#\n",
    "\n",
    "plt.figure(figsize = (7,7))\n",
    "\n",
    "plt.scatter(pca_kmeans[:,0],pca_kmeans[:,2], c= label_color, alpha=0.5) "
   ]
  },
  {
   "cell_type": "markdown",
   "id": "7adcd822",
   "metadata": {},
   "source": [
    "### -- Now setting  'k' = 3 clusters --#\n",
    "\n",
    "kmeans = KMeans(n_clusters=3)\n",
    "\n",
    "# Compute cluster centers and predict cluster indices\n",
    "\n",
    "X_clustered = kmeans.fit_predict(pca_kmeans) \n",
    "\n",
    "#-- Define the color map --#\n",
    "\n",
    "LABEL_COLOR_MAP = {0: 'r', 1: 'g', 2: 'b', 3: 'y', 4: 'c', 5: 'm', 6: 'k'} \n",
    "\n",
    "label_color = [LABEL_COLOR_MAP[l] for l in X_clustered]\n",
    "\n",
    "#-- Plot the scatter digram --#\n",
    "\n",
    "plt.figure(figsize = (7,7))\n",
    "\n",
    "plt.scatter(pca_kmeans[:,0],pca_kmeans[:,3], c= label_color, alpha=0.5) \n",
    "\n",
    "plt.show()"
   ]
  },
  {
   "cell_type": "code",
   "execution_count": null,
   "id": "bc14d9ed",
   "metadata": {},
   "outputs": [],
   "source": [
    "#-- Now setting  'k' = 4 clusters --#\n",
    "\n",
    "kmeans = KMeans(n_clusters=4)\n",
    "\n",
    "# Compute cluster centers and predict cluster indices\n",
    "\n",
    "X_clustered = kmeans.fit_predict(pca_kmeans) \n",
    "\n",
    "#-- Define the color map --#\n",
    "\n",
    "LABEL_COLOR_MAP = {0: 'r', 1: 'g', 2: 'b', 3: 'y', 4: 'c', 5: 'm', 6: 'k'} \n",
    "\n",
    "label_color = [LABEL_COLOR_MAP[l] for l in X_clustered]\n",
    "\n",
    "#-- Plot the scatter digram --#\n",
    "\n",
    "plt.figure(figsize = (7,7))\n",
    "\n",
    "plt.scatter(pca_kmeans[:,0],pca_kmeans[:,3], c= label_color, alpha=0.5) \n",
    "\n",
    "plt.show()"
   ]
  },
  {
   "cell_type": "markdown",
   "id": "4d635308",
   "metadata": {},
   "source": [
    "The above KMeans cluster visualizations appear to be a dense random blog with scatterings of hapazard residuals."
   ]
  },
  {
   "cell_type": "markdown",
   "id": "8309fce3",
   "metadata": {},
   "source": [
    "# Now conduction Market Basket Analysis"
   ]
  },
  {
   "cell_type": "code",
   "execution_count": null,
   "id": "77832d36",
   "metadata": {},
   "outputs": [],
   "source": [
    "#-- Importing the parsed dataset for Market Basket Analysis --#\n",
    "\n",
    "dfbi = pd.read_csv('/Users/michaelsegaline/Desktop/Research Objectives/Washington State Amazon spendng /Washington cleaned purchasing .csv')"
   ]
  },
  {
   "cell_type": "code",
   "execution_count": null,
   "id": "8fc671f1",
   "metadata": {},
   "outputs": [],
   "source": [
    "dfbi.head()"
   ]
  },
  {
   "cell_type": "code",
   "execution_count": null,
   "id": "fb7d77d4",
   "metadata": {},
   "outputs": [],
   "source": [
    "dfbi.shape"
   ]
  },
  {
   "cell_type": "code",
   "execution_count": null,
   "id": "458f7765",
   "metadata": {},
   "outputs": [],
   "source": [
    "#-- Passing the entire Dataframe into a correlation Matrix --#\n",
    "correlation_matrix = dfbi.corr()"
   ]
  },
  {
   "cell_type": "code",
   "execution_count": null,
   "id": "45b31d44",
   "metadata": {
    "scrolled": true
   },
   "outputs": [],
   "source": [
    "# Draw the heatmap using seaborn\n",
    "sns.heatmap(correlation_matrix, linewidths=0.25, vmax=1.0, square=True, cmap=\"YlGnBu\", linecolor='black', annot=True)"
   ]
  },
  {
   "cell_type": "markdown",
   "id": "72a9ba75",
   "metadata": {},
   "source": [
    "# The above correlation matrix is too messy to decern. The dataframe must be split up for further exploration."
   ]
  },
  {
   "cell_type": "markdown",
   "id": "3ea3209b",
   "metadata": {},
   "source": [
    "# Splitting the large dataset into four seperate datasets: 'a' and 'b' are the 1st half and 2nd half of the variables. Addtionally, 'kids' and 'electronics' are grouped together for exploration. "
   ]
  },
  {
   "cell_type": "code",
   "execution_count": null,
   "id": "c931fed5",
   "metadata": {},
   "outputs": [],
   "source": [
    "a = dfbi[['Apparel','Art and Craft Supply','Automotive Parts and Accessories','Baby Product','Beauty','Book','Business, Industrial, & Scientific Supplies Basic','CE','Electronic Gift Card','Furniture','Grocery','Health and Beauty','Toy']]\n",
    "b = dfbi[['Kitchen','Lawn & Patio','Lighting','Luggage','MotorCycle','Office Product','PC Accessory','Personal Computer','Pet Products','Photography','Speakers','Sports','Toy','Video Games','Wireless' ]]\n",
    "kids = dfbi[['Apparel','Art and Craft Supply','Baby Product','Beauty','Book','Grocery','Health and Beauty','Toy','Shoes','Video Games','Sports','Luggage','Prestige Beauty']]\n",
    "electronics = dfbi[['Speakers','Lighting','Office Product','PC Accessory','Personal Computer','Video Games','Wireless']]"
   ]
  },
  {
   "cell_type": "code",
   "execution_count": null,
   "id": "86980176",
   "metadata": {},
   "outputs": [],
   "source": [
    "#-- Making Seperate matrices for correlation exploration --#\n",
    "matrix1 = a.corr()\n",
    "matrix2 = b.corr()\n",
    "matrix3 = kids.corr()\n",
    "matrix4 = electronics.corr()"
   ]
  },
  {
   "cell_type": "markdown",
   "id": "889cad52",
   "metadata": {},
   "source": [
    "# Displaying correlations between random set 'a'."
   ]
  },
  {
   "cell_type": "code",
   "execution_count": null,
   "id": "08788813",
   "metadata": {},
   "outputs": [],
   "source": [
    "# Draw the heatmap using seaborn\n",
    "sns.heatmap(matrix1, linewidths=0.25, vmax=1.0, square=True, cmap=\"YlGnBu\", linecolor='black', annot=True)"
   ]
  },
  {
   "cell_type": "markdown",
   "id": "17c558bd",
   "metadata": {},
   "source": [
    "# Displaying Correlations between set 'b'"
   ]
  },
  {
   "cell_type": "code",
   "execution_count": null,
   "id": "9fa4f7c8",
   "metadata": {},
   "outputs": [],
   "source": [
    "sns.heatmap(matrix2, linewidths=0.25, vmax=1.0, square=True, cmap=\"YlGnBu\", linecolor='black', annot=True)\n"
   ]
  },
  {
   "cell_type": "markdown",
   "id": "00a61573",
   "metadata": {},
   "source": [
    "# Exploring Correlations between the 'kids' iteams"
   ]
  },
  {
   "cell_type": "code",
   "execution_count": null,
   "id": "dac0c8b0",
   "metadata": {},
   "outputs": [],
   "source": [
    "sns.heatmap(matrix3, linewidths=0.25, vmax=1.0, square=True, cmap=\"YlGnBu\", linecolor='black', annot=True)\n"
   ]
  },
  {
   "cell_type": "markdown",
   "id": "e42da28d",
   "metadata": {},
   "source": [
    "# Exploring corrleations between 'electronics' items. "
   ]
  },
  {
   "cell_type": "code",
   "execution_count": null,
   "id": "e39e85a7",
   "metadata": {},
   "outputs": [],
   "source": [
    "sns.heatmap(matrix4, linewidths=0.25, vmax=1.0, square=True, cmap=\"YlGnBu\", linecolor='black', annot=True)"
   ]
  },
  {
   "cell_type": "markdown",
   "id": "8cba4a42",
   "metadata": {},
   "source": [
    "# Now running Market Basket Analysis to explore possible co-occurances of items being purhcased together. "
   ]
  },
  {
   "cell_type": "code",
   "execution_count": null,
   "id": "578aadd6",
   "metadata": {},
   "outputs": [],
   "source": [
    "#-- Each row represents a transaction, and each column represents an item --#\n",
    "transactions = dfbi.values.tolist()\n",
    "\n",
    "frequent_itemsets = apriori(dfbi, min_support=0.01, use_colnames=True)\n",
    "rules = association_rules(frequent_itemsets, metric=\"lift\", min_threshold=1)\n",
    "rules.head(20)"
   ]
  },
  {
   "cell_type": "markdown",
   "id": "5c581eff",
   "metadata": {},
   "source": [
    "The above Market Basket Analysis yeilded no association rules to describe the frequency of itemssets purchased together with a minimum support of 1%. Not suprising considering that the correlation matrices yeild minimal correlation between columns. Moreover, two years of data is not enough for predictive statistics. Predictive statistics is difficult given the unsemetrical pattern presented in KMeans visualizations\n",
    "  \n",
    "However, from the data the following industry intelligence was mined:\n",
    "\n",
    "We accept the null hypothesis H0: There is NO association between the purchase of two or more products.\n",
    "\n",
    "These findings and processed datasets can be compiled and compared with all and other states purchasing behavior in the United States. More compiled data over time can then be used to possibly produce accurate forecast models. \n",
    "\n",
    "The number of repeat purhcases as reduced from 88% (from 2021-22) to 8% in 2023\n",
    "However, the spending from FY 22-23 has exponentated dramatically.\n",
    "The iteams purchased are random and not predictable for cross-purchasing or bundling.\n",
    "\n",
    "The target vairable 'Amount' was passed into numerous predictive machine learning models but no accurate score was yielded. More data needs to be compiled.  \n"
   ]
  },
  {
   "cell_type": "code",
   "execution_count": null,
   "id": "99a552c3",
   "metadata": {},
   "outputs": [],
   "source": []
  }
 ],
 "metadata": {
  "kernelspec": {
   "display_name": "Python 3 (ipykernel)",
   "language": "python",
   "name": "python3"
  },
  "language_info": {
   "codemirror_mode": {
    "name": "ipython",
    "version": 3
   },
   "file_extension": ".py",
   "mimetype": "text/x-python",
   "name": "python",
   "nbconvert_exporter": "python",
   "pygments_lexer": "ipython3",
   "version": "3.9.13"
  }
 },
 "nbformat": 4,
 "nbformat_minor": 5
}
